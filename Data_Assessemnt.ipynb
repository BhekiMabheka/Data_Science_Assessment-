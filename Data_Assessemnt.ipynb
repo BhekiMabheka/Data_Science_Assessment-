{
 "cells": [
  {
   "cell_type": "markdown",
   "metadata": {},
   "source": [
    "## Post-block Assignment 1"
   ]
  },
  {
   "cell_type": "code",
   "execution_count": 1,
   "metadata": {},
   "outputs": [],
   "source": [
    "# !pip install -Uqq plotly"
   ]
  },
  {
   "cell_type": "code",
   "execution_count": 2,
   "metadata": {},
   "outputs": [],
   "source": [
    "import pandas as pd\n",
    "import seaborn as sns\n",
    "import matplotlib.pyplot as plt\n",
    "import numpy as np\n",
    "import plotly.express as px\n",
    "import warnings\n",
    "warnings.filterwarnings(\"ignore\")\n",
    "PLOTLY_THEME = \"plotly_dark\""
   ]
  },
  {
   "cell_type": "markdown",
   "metadata": {},
   "source": [
    "## 1. Read the data"
   ]
  },
  {
   "cell_type": "code",
   "execution_count": 3,
   "metadata": {},
   "outputs": [
    {
     "name": "stdout",
     "output_type": "stream",
     "text": [
      "(3909, 15)\n"
     ]
    },
    {
     "data": {
      "text/html": [
       "<div>\n",
       "<style scoped>\n",
       "    .dataframe tbody tr th:only-of-type {\n",
       "        vertical-align: middle;\n",
       "    }\n",
       "\n",
       "    .dataframe tbody tr th {\n",
       "        vertical-align: top;\n",
       "    }\n",
       "\n",
       "    .dataframe thead th {\n",
       "        text-align: right;\n",
       "    }\n",
       "</style>\n",
       "<table border=\"1\" class=\"dataframe\">\n",
       "  <thead>\n",
       "    <tr style=\"text-align: right;\">\n",
       "      <th></th>\n",
       "      <th>job_title</th>\n",
       "      <th>salary_estimate</th>\n",
       "      <th>job_description</th>\n",
       "      <th>rating</th>\n",
       "      <th>company_name</th>\n",
       "      <th>location</th>\n",
       "      <th>headquarters</th>\n",
       "      <th>size</th>\n",
       "      <th>founded</th>\n",
       "      <th>type_of_ownership</th>\n",
       "      <th>industry</th>\n",
       "      <th>sector</th>\n",
       "      <th>revenue</th>\n",
       "      <th>competitors</th>\n",
       "      <th>easy_apply</th>\n",
       "    </tr>\n",
       "  </thead>\n",
       "  <tbody>\n",
       "    <tr>\n",
       "      <th>1579</th>\n",
       "      <td>Lead Data Engineer</td>\n",
       "      <td>$84K-$101K (Glassdoor est.)</td>\n",
       "      <td>Job Title\\r\\nLead Data Engineer - Payment Serv...</td>\n",
       "      <td>3.8</td>\n",
       "      <td>Diversant LLC\\r\\n3.8</td>\n",
       "      <td>Glendale, AZ</td>\n",
       "      <td>Red Bank, NJ</td>\n",
       "      <td>1001 to 5000 employees</td>\n",
       "      <td>2005</td>\n",
       "      <td>Company - Private</td>\n",
       "      <td>Staffing &amp; Outsourcing</td>\n",
       "      <td>Business Services</td>\n",
       "      <td>$100 to $500 million (USD)</td>\n",
       "      <td>Kforce, Mitchell Martin, Insight Global</td>\n",
       "      <td>-1</td>\n",
       "    </tr>\n",
       "    <tr>\n",
       "      <th>2781</th>\n",
       "      <td>Sr. Data Modeler (Open API)</td>\n",
       "      <td>$46K-$91K (Glassdoor est.)</td>\n",
       "      <td>As a senior-level member of technical staff, y...</td>\n",
       "      <td>3.7</td>\n",
       "      <td>Cincinnati Bell Technology Solutions\\r\\n3.7</td>\n",
       "      <td>Irving, TX</td>\n",
       "      <td>Cincinnati, OH</td>\n",
       "      <td>501 to 1000 employees</td>\n",
       "      <td>-1</td>\n",
       "      <td>Company - Private</td>\n",
       "      <td>IT Services</td>\n",
       "      <td>Information Technology</td>\n",
       "      <td>$100 to $500 million (USD)</td>\n",
       "      <td>-1</td>\n",
       "      <td>-1</td>\n",
       "    </tr>\n",
       "    <tr>\n",
       "      <th>1068</th>\n",
       "      <td>Data Scientist - Relocate to Washington D.C.</td>\n",
       "      <td>$90K-$175K (Glassdoor est.)</td>\n",
       "      <td>Please note that this role requires relocation...</td>\n",
       "      <td>3.8</td>\n",
       "      <td>CIA\\r\\n3.8</td>\n",
       "      <td>Houston, TX</td>\n",
       "      <td>Langley, VA</td>\n",
       "      <td>Unknown</td>\n",
       "      <td>1947</td>\n",
       "      <td>Government</td>\n",
       "      <td>Federal Agencies</td>\n",
       "      <td>Government</td>\n",
       "      <td>Unknown / Non-Applicable</td>\n",
       "      <td>-1</td>\n",
       "      <td>-1</td>\n",
       "    </tr>\n",
       "    <tr>\n",
       "      <th>3792</th>\n",
       "      <td>Machine Learning Engineer</td>\n",
       "      <td>$52K-$94K (Glassdoor est.)</td>\n",
       "      <td>Tiger Analytics is an advanced analytics consu...</td>\n",
       "      <td>4.6</td>\n",
       "      <td>Tiger Analytics\\r\\n4.6</td>\n",
       "      <td>Columbus, OH</td>\n",
       "      <td>Santa Clara, CA</td>\n",
       "      <td>201 to 500 employees</td>\n",
       "      <td>2011</td>\n",
       "      <td>Company - Private</td>\n",
       "      <td>Consulting</td>\n",
       "      <td>Business Services</td>\n",
       "      <td>$10 to $25 million (USD)</td>\n",
       "      <td>Mu Sigma, LatentView Analytics, Fractal</td>\n",
       "      <td>-1</td>\n",
       "    </tr>\n",
       "    <tr>\n",
       "      <th>928</th>\n",
       "      <td>Data Analyst</td>\n",
       "      <td>$62K-$109K (Glassdoor est.)</td>\n",
       "      <td>Job Description\\r\\nWe are seeking a resource w...</td>\n",
       "      <td>-1.0</td>\n",
       "      <td>TalentDash</td>\n",
       "      <td>Chicago, IL</td>\n",
       "      <td>Singapore, Singapore</td>\n",
       "      <td>1 to 50 employees</td>\n",
       "      <td>2014</td>\n",
       "      <td>Company - Private</td>\n",
       "      <td>Enterprise Software &amp; Network Solutions</td>\n",
       "      <td>Information Technology</td>\n",
       "      <td>Unknown / Non-Applicable</td>\n",
       "      <td>-1</td>\n",
       "      <td>-1</td>\n",
       "    </tr>\n",
       "  </tbody>\n",
       "</table>\n",
       "</div>"
      ],
      "text/plain": [
       "                                         job_title  \\\n",
       "1579                            Lead Data Engineer   \n",
       "2781                   Sr. Data Modeler (Open API)   \n",
       "1068  Data Scientist - Relocate to Washington D.C.   \n",
       "3792                     Machine Learning Engineer   \n",
       "928                                   Data Analyst   \n",
       "\n",
       "                  salary_estimate  \\\n",
       "1579  $84K-$101K (Glassdoor est.)   \n",
       "2781   $46K-$91K (Glassdoor est.)   \n",
       "1068  $90K-$175K (Glassdoor est.)   \n",
       "3792   $52K-$94K (Glassdoor est.)   \n",
       "928   $62K-$109K (Glassdoor est.)   \n",
       "\n",
       "                                        job_description  rating  \\\n",
       "1579  Job Title\\r\\nLead Data Engineer - Payment Serv...     3.8   \n",
       "2781  As a senior-level member of technical staff, y...     3.7   \n",
       "1068  Please note that this role requires relocation...     3.8   \n",
       "3792  Tiger Analytics is an advanced analytics consu...     4.6   \n",
       "928   Job Description\\r\\nWe are seeking a resource w...    -1.0   \n",
       "\n",
       "                                     company_name      location  \\\n",
       "1579                         Diversant LLC\\r\\n3.8  Glendale, AZ   \n",
       "2781  Cincinnati Bell Technology Solutions\\r\\n3.7    Irving, TX   \n",
       "1068                                   CIA\\r\\n3.8   Houston, TX   \n",
       "3792                       Tiger Analytics\\r\\n4.6  Columbus, OH   \n",
       "928                                    TalentDash   Chicago, IL   \n",
       "\n",
       "              headquarters                    size  founded  \\\n",
       "1579          Red Bank, NJ  1001 to 5000 employees     2005   \n",
       "2781        Cincinnati, OH   501 to 1000 employees       -1   \n",
       "1068           Langley, VA                 Unknown     1947   \n",
       "3792       Santa Clara, CA    201 to 500 employees     2011   \n",
       "928   Singapore, Singapore       1 to 50 employees     2014   \n",
       "\n",
       "      type_of_ownership                                 industry  \\\n",
       "1579  Company - Private                   Staffing & Outsourcing   \n",
       "2781  Company - Private                              IT Services   \n",
       "1068         Government                         Federal Agencies   \n",
       "3792  Company - Private                               Consulting   \n",
       "928   Company - Private  Enterprise Software & Network Solutions   \n",
       "\n",
       "                      sector                     revenue  \\\n",
       "1579       Business Services  $100 to $500 million (USD)   \n",
       "2781  Information Technology  $100 to $500 million (USD)   \n",
       "1068              Government    Unknown / Non-Applicable   \n",
       "3792       Business Services    $10 to $25 million (USD)   \n",
       "928   Information Technology    Unknown / Non-Applicable   \n",
       "\n",
       "                                  competitors easy_apply  \n",
       "1579  Kforce, Mitchell Martin, Insight Global         -1  \n",
       "2781                                       -1         -1  \n",
       "1068                                       -1         -1  \n",
       "3792  Mu Sigma, LatentView Analytics, Fractal         -1  \n",
       "928                                        -1         -1  "
      ]
     },
     "execution_count": 3,
     "metadata": {},
     "output_type": "execute_result"
    }
   ],
   "source": [
    "def read_data(df):\n",
    "\n",
    "    df = pd.read_csv(df)\n",
    "    df.columns = df.columns.str.lower().str.replace(' ', '_') # Ensure all columns follow rules of declaring variables in coding\n",
    "    df = df.drop(axis=1, columns=['unnamed:_0', 'index'])\n",
    "    return df\n",
    "\n",
    "df = read_data(df = \"data/DataScientist (1).csv\")\n",
    "print(df.shape)\n",
    "df.sample(5)"
   ]
  },
  {
   "cell_type": "markdown",
   "metadata": {},
   "source": [
    "--- "
   ]
  },
  {
   "cell_type": "markdown",
   "metadata": {},
   "source": [
    "## 2. Data Preprocessing\n",
    "- This entails data cleaning, extracting features, imputing missing values, remove noise etc"
   ]
  },
  {
   "cell_type": "code",
   "execution_count": 4,
   "metadata": {},
   "outputs": [],
   "source": [
    "def clean_salary_estimates(df, column_name='salary_estimate'):\n",
    "    \n",
    "    df[column_name] = df[column_name].str.replace(r'\\(.*\\)', '', regex=True)  # Clean the salary_estimate column by removing extra text in parentheses,remove extra text\n",
    "\n",
    "    # Remove '$' and 'K', then split by '-'\n",
    "    df[['min_salary_estimate', 'max_salary_estimate']] = df[column_name].str.replace(r'[^\\d-]', '', regex=True) \\\n",
    "                                                     .str.split('-', expand=True)\n",
    "    # Replace 'K' with '000' to convert to actual values\n",
    "    df['min_salary_estimate'] = df['min_salary_estimate'].str.replace('K', '').astype(int) * 1000\n",
    "    df['max_salary_estimate'] = df['max_salary_estimate'].str.replace('K', '').astype(int) * 1000\n",
    "\n",
    "    return df"
   ]
  },
  {
   "cell_type": "code",
   "execution_count": 5,
   "metadata": {},
   "outputs": [],
   "source": [
    "def split_revenue(revenue):\n",
    "    if \"to\" in revenue:\n",
    "        return revenue.replace(\" (USD)\", \"\").split(\" to \")\n",
    "    elif \"Less than\" in revenue:\n",
    "        return [\"0\", revenue.replace(\"Less than \", \"\").replace(\" (USD)\", \"\")]\n",
    "    elif \"Unknown\" in revenue or revenue == \"-1\":\n",
    "        return [None, None]\n",
    "    elif \"$10+ billion\" in revenue:\n",
    "        return [\"$10 billion\", None]  # Assuming $10+ billion is minimum at 10B\n",
    "    else:\n",
    "        return [None, None]\n",
    "\n",
    "# Apply function to create min_revenue and max_revenue columns\n",
    "df[[\"min_revenue\", \"max_revenue\"]] = pd.DataFrame(df[\"revenue\"].apply(split_revenue).tolist(), index=df.index)"
   ]
  },
  {
   "cell_type": "code",
   "execution_count": 6,
   "metadata": {},
   "outputs": [],
   "source": [
    "def classify_size(size):\n",
    "    \"\"\"Classify company size based on employee count.\"\"\"\n",
    "    if isinstance(size, str):  # Ensure it's a string\n",
    "        size = size.replace(\" employees\", \"\").strip()\n",
    "        \n",
    "        if size == \"-1\":\n",
    "            return \"Unknown\"\n",
    "        elif \"10000+\" in size:\n",
    "            return \"Large\"\n",
    "        elif \" to \" in size:\n",
    "            min_size, max_size = map(int, size.split(\" to \"))\n",
    "            if max_size <= 200:\n",
    "                return \"Small\"\n",
    "            elif max_size <= 1000:\n",
    "                return \"Medium\"\n",
    "            else:\n",
    "                return \"Large\"\n",
    "            \n",
    "        elif size.isdigit():  # Single number case\n",
    "            num = int(size)\n",
    "            if num <= 200:\n",
    "                return \"Small\"\n",
    "            elif num <= 1000:\n",
    "                return \"Medium\"\n",
    "            else:\n",
    "                return \"Large\"\n",
    "    \n",
    "    return \"Unknown\"\n",
    "\n",
    "# Apply company size classification\n",
    "df[\"company_size_category\"] = df[\"size\"].apply(classify_size)"
   ]
  },
  {
   "cell_type": "code",
   "execution_count": 7,
   "metadata": {},
   "outputs": [
    {
     "data": {
      "text/html": [
       "<div>\n",
       "<style scoped>\n",
       "    .dataframe tbody tr th:only-of-type {\n",
       "        vertical-align: middle;\n",
       "    }\n",
       "\n",
       "    .dataframe tbody tr th {\n",
       "        vertical-align: top;\n",
       "    }\n",
       "\n",
       "    .dataframe thead th {\n",
       "        text-align: right;\n",
       "    }\n",
       "</style>\n",
       "<table border=\"1\" class=\"dataframe\">\n",
       "  <thead>\n",
       "    <tr style=\"text-align: right;\">\n",
       "      <th></th>\n",
       "      <th>job_title</th>\n",
       "      <th>salary_estimate</th>\n",
       "      <th>job_description</th>\n",
       "      <th>rating</th>\n",
       "      <th>company_name</th>\n",
       "      <th>location</th>\n",
       "      <th>headquarters</th>\n",
       "      <th>size</th>\n",
       "      <th>founded</th>\n",
       "      <th>type_of_ownership</th>\n",
       "      <th>industry</th>\n",
       "      <th>sector</th>\n",
       "      <th>revenue</th>\n",
       "      <th>competitors</th>\n",
       "      <th>easy_apply</th>\n",
       "      <th>min_revenue</th>\n",
       "      <th>max_revenue</th>\n",
       "      <th>company_size_category</th>\n",
       "      <th>min_salary_estimate</th>\n",
       "      <th>max_salary_estimate</th>\n",
       "    </tr>\n",
       "  </thead>\n",
       "  <tbody>\n",
       "    <tr>\n",
       "      <th>3499</th>\n",
       "      <td>Scientist III (Molecular Biology)</td>\n",
       "      <td>$50K-$110K</td>\n",
       "      <td>Scientist III (Molecular Biology)\\r\\nAustin, T...</td>\n",
       "      <td>3.1</td>\n",
       "      <td>Integrated Resources, Inc\\r\\n3.1</td>\n",
       "      <td>Austin, TX</td>\n",
       "      <td>Edison, NJ</td>\n",
       "      <td>201 to 500 employees</td>\n",
       "      <td>1996</td>\n",
       "      <td>Company - Private</td>\n",
       "      <td>Staffing &amp; Outsourcing</td>\n",
       "      <td>Business Services</td>\n",
       "      <td>$25 to $50 million (USD)</td>\n",
       "      <td>-1</td>\n",
       "      <td>-1</td>\n",
       "      <td>$25</td>\n",
       "      <td>$50 million</td>\n",
       "      <td>Medium</td>\n",
       "      <td>50000</td>\n",
       "      <td>110000</td>\n",
       "    </tr>\n",
       "    <tr>\n",
       "      <th>324</th>\n",
       "      <td>Senior Data Scientist</td>\n",
       "      <td>$96K-$119K</td>\n",
       "      <td>Job Description\\r\\nTitle: Senior Data Scientis...</td>\n",
       "      <td>3.7</td>\n",
       "      <td>Sunrise Systems Inc\\r\\n3.7</td>\n",
       "      <td>Newark, NJ</td>\n",
       "      <td>Edison, NJ</td>\n",
       "      <td>501 to 1000 employees</td>\n",
       "      <td>1990</td>\n",
       "      <td>Company - Private</td>\n",
       "      <td>IT Services</td>\n",
       "      <td>Information Technology</td>\n",
       "      <td>$25 to $50 million (USD)</td>\n",
       "      <td>-1</td>\n",
       "      <td>-1</td>\n",
       "      <td>$25</td>\n",
       "      <td>$50 million</td>\n",
       "      <td>Medium</td>\n",
       "      <td>96000</td>\n",
       "      <td>119000</td>\n",
       "    </tr>\n",
       "    <tr>\n",
       "      <th>3683</th>\n",
       "      <td>Data Engineer Lead, Machine Learning</td>\n",
       "      <td>$39K-$71K</td>\n",
       "      <td>BICP is partnered with an iconic retail client...</td>\n",
       "      <td>5.0</td>\n",
       "      <td>BICP\\r\\n5.0</td>\n",
       "      <td>Fort Worth, TX</td>\n",
       "      <td>Carlsbad, CA</td>\n",
       "      <td>1 to 50 employees</td>\n",
       "      <td>2009</td>\n",
       "      <td>Company - Private</td>\n",
       "      <td>IT Services</td>\n",
       "      <td>Information Technology</td>\n",
       "      <td>$10 to $25 million (USD)</td>\n",
       "      <td>-1</td>\n",
       "      <td>-1</td>\n",
       "      <td>$10</td>\n",
       "      <td>$25 million</td>\n",
       "      <td>Small</td>\n",
       "      <td>39000</td>\n",
       "      <td>71000</td>\n",
       "    </tr>\n",
       "    <tr>\n",
       "      <th>3849</th>\n",
       "      <td>Data Science Practitioner</td>\n",
       "      <td>$55K-$113K</td>\n",
       "      <td>M LEVEL 9 OTHER The Data Science Specialist (R...</td>\n",
       "      <td>2.5</td>\n",
       "      <td>Avacend, Inc.\\r\\n2.5</td>\n",
       "      <td>Columbus, OH</td>\n",
       "      <td>Alpharetta, GA</td>\n",
       "      <td>51 to 200 employees</td>\n",
       "      <td>-1</td>\n",
       "      <td>Company - Private</td>\n",
       "      <td>Staffing &amp; Outsourcing</td>\n",
       "      <td>Business Services</td>\n",
       "      <td>Unknown / Non-Applicable</td>\n",
       "      <td>-1</td>\n",
       "      <td>-1</td>\n",
       "      <td>None</td>\n",
       "      <td>None</td>\n",
       "      <td>Small</td>\n",
       "      <td>55000</td>\n",
       "      <td>113000</td>\n",
       "    </tr>\n",
       "  </tbody>\n",
       "</table>\n",
       "</div>"
      ],
      "text/plain": [
       "                                 job_title salary_estimate  \\\n",
       "3499     Scientist III (Molecular Biology)     $50K-$110K    \n",
       "324                  Senior Data Scientist     $96K-$119K    \n",
       "3683  Data Engineer Lead, Machine Learning      $39K-$71K    \n",
       "3849             Data Science Practitioner     $55K-$113K    \n",
       "\n",
       "                                        job_description  rating  \\\n",
       "3499  Scientist III (Molecular Biology)\\r\\nAustin, T...     3.1   \n",
       "324   Job Description\\r\\nTitle: Senior Data Scientis...     3.7   \n",
       "3683  BICP is partnered with an iconic retail client...     5.0   \n",
       "3849  M LEVEL 9 OTHER The Data Science Specialist (R...     2.5   \n",
       "\n",
       "                          company_name        location    headquarters  \\\n",
       "3499  Integrated Resources, Inc\\r\\n3.1      Austin, TX      Edison, NJ   \n",
       "324         Sunrise Systems Inc\\r\\n3.7      Newark, NJ      Edison, NJ   \n",
       "3683                       BICP\\r\\n5.0  Fort Worth, TX    Carlsbad, CA   \n",
       "3849              Avacend, Inc.\\r\\n2.5    Columbus, OH  Alpharetta, GA   \n",
       "\n",
       "                       size  founded  type_of_ownership  \\\n",
       "3499   201 to 500 employees     1996  Company - Private   \n",
       "324   501 to 1000 employees     1990  Company - Private   \n",
       "3683      1 to 50 employees     2009  Company - Private   \n",
       "3849    51 to 200 employees       -1  Company - Private   \n",
       "\n",
       "                    industry                  sector  \\\n",
       "3499  Staffing & Outsourcing       Business Services   \n",
       "324              IT Services  Information Technology   \n",
       "3683             IT Services  Information Technology   \n",
       "3849  Staffing & Outsourcing       Business Services   \n",
       "\n",
       "                       revenue competitors easy_apply min_revenue  \\\n",
       "3499  $25 to $50 million (USD)          -1         -1         $25   \n",
       "324   $25 to $50 million (USD)          -1         -1         $25   \n",
       "3683  $10 to $25 million (USD)          -1         -1         $10   \n",
       "3849  Unknown / Non-Applicable          -1         -1        None   \n",
       "\n",
       "      max_revenue company_size_category  min_salary_estimate  \\\n",
       "3499  $50 million                Medium                50000   \n",
       "324   $50 million                Medium                96000   \n",
       "3683  $25 million                 Small                39000   \n",
       "3849         None                 Small                55000   \n",
       "\n",
       "      max_salary_estimate  \n",
       "3499               110000  \n",
       "324                119000  \n",
       "3683                71000  \n",
       "3849               113000  "
      ]
     },
     "execution_count": 7,
     "metadata": {},
     "output_type": "execute_result"
    }
   ],
   "source": [
    "df = df[~df['sector'].str.contains(r'\\d', na=False)] # Remove numbers on feature sector\n",
    "df = clean_salary_estimates(df)\n",
    "df.sample(4)"
   ]
  },
  {
   "cell_type": "markdown",
   "metadata": {},
   "source": [
    "---"
   ]
  },
  {
   "cell_type": "markdown",
   "metadata": {},
   "source": [
    "<div style=\"text-align:center; font-size:30px; font-weight:bold;\"> Derive insights of strategic value</div>"
   ]
  },
  {
   "cell_type": "markdown",
   "metadata": {},
   "source": [
    "## Salary By Sector"
   ]
  },
  {
   "cell_type": "code",
   "execution_count": 8,
   "metadata": {},
   "outputs": [
    {
     "ename": "ValueError",
     "evalue": "Mime type rendering requires nbformat>=4.2.0 but it is not installed",
     "output_type": "error",
     "traceback": [
      "\u001b[31m---------------------------------------------------------------------------\u001b[39m",
      "\u001b[31mValueError\u001b[39m                                Traceback (most recent call last)",
      "\u001b[36mCell\u001b[39m\u001b[36m \u001b[39m\u001b[32mIn[8]\u001b[39m\u001b[32m, line 2\u001b[39m\n\u001b[32m      1\u001b[39m fig = px.box(data_frame=df, x = \u001b[33m\"\u001b[39m\u001b[33msector\u001b[39m\u001b[33m\"\u001b[39m, y = \u001b[33m\"\u001b[39m\u001b[33mmin_salary_estimate\u001b[39m\u001b[33m\"\u001b[39m)\n\u001b[32m----> \u001b[39m\u001b[32m2\u001b[39m \u001b[43mfig\u001b[49m\u001b[43m.\u001b[49m\u001b[43mshow\u001b[49m\u001b[43m(\u001b[49m\u001b[43m)\u001b[49m\n",
      "\u001b[36mFile \u001b[39m\u001b[32m~\\AppData\\Local\\Packages\\PythonSoftwareFoundation.Python.3.11_qbz5n2kfra8p0\\LocalCache\\local-packages\\Python311\\site-packages\\plotly\\basedatatypes.py:3414\u001b[39m, in \u001b[36mBaseFigure.show\u001b[39m\u001b[34m(self, *args, **kwargs)\u001b[39m\n\u001b[32m   3381\u001b[39m \u001b[38;5;250m\u001b[39m\u001b[33;03m\"\"\"\u001b[39;00m\n\u001b[32m   3382\u001b[39m \u001b[33;03mShow a figure using either the default renderer(s) or the renderer(s)\u001b[39;00m\n\u001b[32m   3383\u001b[39m \u001b[33;03mspecified by the renderer argument\u001b[39;00m\n\u001b[32m   (...)\u001b[39m\u001b[32m   3410\u001b[39m \u001b[33;03mNone\u001b[39;00m\n\u001b[32m   3411\u001b[39m \u001b[33;03m\"\"\"\u001b[39;00m\n\u001b[32m   3412\u001b[39m \u001b[38;5;28;01mimport\u001b[39;00m \u001b[34;01mplotly\u001b[39;00m\u001b[34;01m.\u001b[39;00m\u001b[34;01mio\u001b[39;00m \u001b[38;5;28;01mas\u001b[39;00m \u001b[34;01mpio\u001b[39;00m\n\u001b[32m-> \u001b[39m\u001b[32m3414\u001b[39m \u001b[38;5;28;01mreturn\u001b[39;00m \u001b[43mpio\u001b[49m\u001b[43m.\u001b[49m\u001b[43mshow\u001b[49m\u001b[43m(\u001b[49m\u001b[38;5;28;43mself\u001b[39;49m\u001b[43m,\u001b[49m\u001b[43m \u001b[49m\u001b[43m*\u001b[49m\u001b[43margs\u001b[49m\u001b[43m,\u001b[49m\u001b[43m \u001b[49m\u001b[43m*\u001b[49m\u001b[43m*\u001b[49m\u001b[43mkwargs\u001b[49m\u001b[43m)\u001b[49m\n",
      "\u001b[36mFile \u001b[39m\u001b[32m~\\AppData\\Local\\Packages\\PythonSoftwareFoundation.Python.3.11_qbz5n2kfra8p0\\LocalCache\\local-packages\\Python311\\site-packages\\plotly\\io\\_renderers.py:425\u001b[39m, in \u001b[36mshow\u001b[39m\u001b[34m(fig, renderer, validate, **kwargs)\u001b[39m\n\u001b[32m    420\u001b[39m     \u001b[38;5;28;01mraise\u001b[39;00m \u001b[38;5;167;01mValueError\u001b[39;00m(\n\u001b[32m    421\u001b[39m         \u001b[33m\"\u001b[39m\u001b[33mMime type rendering requires ipython but it is not installed\u001b[39m\u001b[33m\"\u001b[39m\n\u001b[32m    422\u001b[39m     )\n\u001b[32m    424\u001b[39m \u001b[38;5;28;01mif\u001b[39;00m \u001b[38;5;129;01mnot\u001b[39;00m nbformat \u001b[38;5;129;01mor\u001b[39;00m Version(nbformat.__version__) < Version(\u001b[33m\"\u001b[39m\u001b[33m4.2.0\u001b[39m\u001b[33m\"\u001b[39m):\n\u001b[32m--> \u001b[39m\u001b[32m425\u001b[39m     \u001b[38;5;28;01mraise\u001b[39;00m \u001b[38;5;167;01mValueError\u001b[39;00m(\n\u001b[32m    426\u001b[39m         \u001b[33m\"\u001b[39m\u001b[33mMime type rendering requires nbformat>=4.2.0 but it is not installed\u001b[39m\u001b[33m\"\u001b[39m\n\u001b[32m    427\u001b[39m     )\n\u001b[32m    429\u001b[39m display_jupyter_version_warnings()\n\u001b[32m    431\u001b[39m ipython_display.display(bundle, raw=\u001b[38;5;28;01mTrue\u001b[39;00m)\n",
      "\u001b[31mValueError\u001b[39m: Mime type rendering requires nbformat>=4.2.0 but it is not installed"
     ]
    }
   ],
   "source": [
    "fig = px.box(data_frame=df, x = \"sector\", y = \"min_salary_estimate\")\n",
    "fig.show()"
   ]
  },
  {
   "cell_type": "markdown",
   "metadata": {},
   "source": [
    "### Number of job posting by location"
   ]
  },
  {
   "cell_type": "code",
   "execution_count": null,
   "metadata": {},
   "outputs": [
    {
     "data": {
      "application/vnd.plotly.v1+json": {
       "config": {
        "plotlyServerURL": "https://plot.ly"
       },
       "data": [
        {
         "hovertemplate": "sector=%{x}<br>num_of_job_posting=%{y}<extra></extra>",
         "legendgroup": "",
         "marker": {
          "color": "#636efa",
          "pattern": {
           "shape": ""
          }
         },
         "name": "",
         "orientation": "v",
         "showlegend": false,
         "textposition": "auto",
         "type": "bar",
         "x": [
          "Information Technology",
          "Business Services",
          "Biotech & Pharmaceuticals",
          "Finance",
          "Health Care",
          "Insurance",
          "Education",
          "Manufacturing",
          "Government",
          "Media"
         ],
         "xaxis": "x",
         "y": {
          "bdata": "ZASnAiUBDgHFAG0AZQBXAFIASwA=",
          "dtype": "i2"
         },
         "yaxis": "y"
        }
       ],
       "layout": {
        "barmode": "relative",
        "legend": {
         "tracegroupgap": 0
        },
        "template": {
         "data": {
          "bar": [
           {
            "error_x": {
             "color": "#f2f5fa"
            },
            "error_y": {
             "color": "#f2f5fa"
            },
            "marker": {
             "line": {
              "color": "rgb(17,17,17)",
              "width": 0.5
             },
             "pattern": {
              "fillmode": "overlay",
              "size": 10,
              "solidity": 0.2
             }
            },
            "type": "bar"
           }
          ],
          "barpolar": [
           {
            "marker": {
             "line": {
              "color": "rgb(17,17,17)",
              "width": 0.5
             },
             "pattern": {
              "fillmode": "overlay",
              "size": 10,
              "solidity": 0.2
             }
            },
            "type": "barpolar"
           }
          ],
          "carpet": [
           {
            "aaxis": {
             "endlinecolor": "#A2B1C6",
             "gridcolor": "#506784",
             "linecolor": "#506784",
             "minorgridcolor": "#506784",
             "startlinecolor": "#A2B1C6"
            },
            "baxis": {
             "endlinecolor": "#A2B1C6",
             "gridcolor": "#506784",
             "linecolor": "#506784",
             "minorgridcolor": "#506784",
             "startlinecolor": "#A2B1C6"
            },
            "type": "carpet"
           }
          ],
          "choropleth": [
           {
            "colorbar": {
             "outlinewidth": 0,
             "ticks": ""
            },
            "type": "choropleth"
           }
          ],
          "contour": [
           {
            "colorbar": {
             "outlinewidth": 0,
             "ticks": ""
            },
            "colorscale": [
             [
              0,
              "#0d0887"
             ],
             [
              0.1111111111111111,
              "#46039f"
             ],
             [
              0.2222222222222222,
              "#7201a8"
             ],
             [
              0.3333333333333333,
              "#9c179e"
             ],
             [
              0.4444444444444444,
              "#bd3786"
             ],
             [
              0.5555555555555556,
              "#d8576b"
             ],
             [
              0.6666666666666666,
              "#ed7953"
             ],
             [
              0.7777777777777778,
              "#fb9f3a"
             ],
             [
              0.8888888888888888,
              "#fdca26"
             ],
             [
              1,
              "#f0f921"
             ]
            ],
            "type": "contour"
           }
          ],
          "contourcarpet": [
           {
            "colorbar": {
             "outlinewidth": 0,
             "ticks": ""
            },
            "type": "contourcarpet"
           }
          ],
          "heatmap": [
           {
            "colorbar": {
             "outlinewidth": 0,
             "ticks": ""
            },
            "colorscale": [
             [
              0,
              "#0d0887"
             ],
             [
              0.1111111111111111,
              "#46039f"
             ],
             [
              0.2222222222222222,
              "#7201a8"
             ],
             [
              0.3333333333333333,
              "#9c179e"
             ],
             [
              0.4444444444444444,
              "#bd3786"
             ],
             [
              0.5555555555555556,
              "#d8576b"
             ],
             [
              0.6666666666666666,
              "#ed7953"
             ],
             [
              0.7777777777777778,
              "#fb9f3a"
             ],
             [
              0.8888888888888888,
              "#fdca26"
             ],
             [
              1,
              "#f0f921"
             ]
            ],
            "type": "heatmap"
           }
          ],
          "histogram": [
           {
            "marker": {
             "pattern": {
              "fillmode": "overlay",
              "size": 10,
              "solidity": 0.2
             }
            },
            "type": "histogram"
           }
          ],
          "histogram2d": [
           {
            "colorbar": {
             "outlinewidth": 0,
             "ticks": ""
            },
            "colorscale": [
             [
              0,
              "#0d0887"
             ],
             [
              0.1111111111111111,
              "#46039f"
             ],
             [
              0.2222222222222222,
              "#7201a8"
             ],
             [
              0.3333333333333333,
              "#9c179e"
             ],
             [
              0.4444444444444444,
              "#bd3786"
             ],
             [
              0.5555555555555556,
              "#d8576b"
             ],
             [
              0.6666666666666666,
              "#ed7953"
             ],
             [
              0.7777777777777778,
              "#fb9f3a"
             ],
             [
              0.8888888888888888,
              "#fdca26"
             ],
             [
              1,
              "#f0f921"
             ]
            ],
            "type": "histogram2d"
           }
          ],
          "histogram2dcontour": [
           {
            "colorbar": {
             "outlinewidth": 0,
             "ticks": ""
            },
            "colorscale": [
             [
              0,
              "#0d0887"
             ],
             [
              0.1111111111111111,
              "#46039f"
             ],
             [
              0.2222222222222222,
              "#7201a8"
             ],
             [
              0.3333333333333333,
              "#9c179e"
             ],
             [
              0.4444444444444444,
              "#bd3786"
             ],
             [
              0.5555555555555556,
              "#d8576b"
             ],
             [
              0.6666666666666666,
              "#ed7953"
             ],
             [
              0.7777777777777778,
              "#fb9f3a"
             ],
             [
              0.8888888888888888,
              "#fdca26"
             ],
             [
              1,
              "#f0f921"
             ]
            ],
            "type": "histogram2dcontour"
           }
          ],
          "mesh3d": [
           {
            "colorbar": {
             "outlinewidth": 0,
             "ticks": ""
            },
            "type": "mesh3d"
           }
          ],
          "parcoords": [
           {
            "line": {
             "colorbar": {
              "outlinewidth": 0,
              "ticks": ""
             }
            },
            "type": "parcoords"
           }
          ],
          "pie": [
           {
            "automargin": true,
            "type": "pie"
           }
          ],
          "scatter": [
           {
            "marker": {
             "line": {
              "color": "#283442"
             }
            },
            "type": "scatter"
           }
          ],
          "scatter3d": [
           {
            "line": {
             "colorbar": {
              "outlinewidth": 0,
              "ticks": ""
             }
            },
            "marker": {
             "colorbar": {
              "outlinewidth": 0,
              "ticks": ""
             }
            },
            "type": "scatter3d"
           }
          ],
          "scattercarpet": [
           {
            "marker": {
             "colorbar": {
              "outlinewidth": 0,
              "ticks": ""
             }
            },
            "type": "scattercarpet"
           }
          ],
          "scattergeo": [
           {
            "marker": {
             "colorbar": {
              "outlinewidth": 0,
              "ticks": ""
             }
            },
            "type": "scattergeo"
           }
          ],
          "scattergl": [
           {
            "marker": {
             "line": {
              "color": "#283442"
             }
            },
            "type": "scattergl"
           }
          ],
          "scattermap": [
           {
            "marker": {
             "colorbar": {
              "outlinewidth": 0,
              "ticks": ""
             }
            },
            "type": "scattermap"
           }
          ],
          "scattermapbox": [
           {
            "marker": {
             "colorbar": {
              "outlinewidth": 0,
              "ticks": ""
             }
            },
            "type": "scattermapbox"
           }
          ],
          "scatterpolar": [
           {
            "marker": {
             "colorbar": {
              "outlinewidth": 0,
              "ticks": ""
             }
            },
            "type": "scatterpolar"
           }
          ],
          "scatterpolargl": [
           {
            "marker": {
             "colorbar": {
              "outlinewidth": 0,
              "ticks": ""
             }
            },
            "type": "scatterpolargl"
           }
          ],
          "scatterternary": [
           {
            "marker": {
             "colorbar": {
              "outlinewidth": 0,
              "ticks": ""
             }
            },
            "type": "scatterternary"
           }
          ],
          "surface": [
           {
            "colorbar": {
             "outlinewidth": 0,
             "ticks": ""
            },
            "colorscale": [
             [
              0,
              "#0d0887"
             ],
             [
              0.1111111111111111,
              "#46039f"
             ],
             [
              0.2222222222222222,
              "#7201a8"
             ],
             [
              0.3333333333333333,
              "#9c179e"
             ],
             [
              0.4444444444444444,
              "#bd3786"
             ],
             [
              0.5555555555555556,
              "#d8576b"
             ],
             [
              0.6666666666666666,
              "#ed7953"
             ],
             [
              0.7777777777777778,
              "#fb9f3a"
             ],
             [
              0.8888888888888888,
              "#fdca26"
             ],
             [
              1,
              "#f0f921"
             ]
            ],
            "type": "surface"
           }
          ],
          "table": [
           {
            "cells": {
             "fill": {
              "color": "#506784"
             },
             "line": {
              "color": "rgb(17,17,17)"
             }
            },
            "header": {
             "fill": {
              "color": "#2a3f5f"
             },
             "line": {
              "color": "rgb(17,17,17)"
             }
            },
            "type": "table"
           }
          ]
         },
         "layout": {
          "annotationdefaults": {
           "arrowcolor": "#f2f5fa",
           "arrowhead": 0,
           "arrowwidth": 1
          },
          "autotypenumbers": "strict",
          "coloraxis": {
           "colorbar": {
            "outlinewidth": 0,
            "ticks": ""
           }
          },
          "colorscale": {
           "diverging": [
            [
             0,
             "#8e0152"
            ],
            [
             0.1,
             "#c51b7d"
            ],
            [
             0.2,
             "#de77ae"
            ],
            [
             0.3,
             "#f1b6da"
            ],
            [
             0.4,
             "#fde0ef"
            ],
            [
             0.5,
             "#f7f7f7"
            ],
            [
             0.6,
             "#e6f5d0"
            ],
            [
             0.7,
             "#b8e186"
            ],
            [
             0.8,
             "#7fbc41"
            ],
            [
             0.9,
             "#4d9221"
            ],
            [
             1,
             "#276419"
            ]
           ],
           "sequential": [
            [
             0,
             "#0d0887"
            ],
            [
             0.1111111111111111,
             "#46039f"
            ],
            [
             0.2222222222222222,
             "#7201a8"
            ],
            [
             0.3333333333333333,
             "#9c179e"
            ],
            [
             0.4444444444444444,
             "#bd3786"
            ],
            [
             0.5555555555555556,
             "#d8576b"
            ],
            [
             0.6666666666666666,
             "#ed7953"
            ],
            [
             0.7777777777777778,
             "#fb9f3a"
            ],
            [
             0.8888888888888888,
             "#fdca26"
            ],
            [
             1,
             "#f0f921"
            ]
           ],
           "sequentialminus": [
            [
             0,
             "#0d0887"
            ],
            [
             0.1111111111111111,
             "#46039f"
            ],
            [
             0.2222222222222222,
             "#7201a8"
            ],
            [
             0.3333333333333333,
             "#9c179e"
            ],
            [
             0.4444444444444444,
             "#bd3786"
            ],
            [
             0.5555555555555556,
             "#d8576b"
            ],
            [
             0.6666666666666666,
             "#ed7953"
            ],
            [
             0.7777777777777778,
             "#fb9f3a"
            ],
            [
             0.8888888888888888,
             "#fdca26"
            ],
            [
             1,
             "#f0f921"
            ]
           ]
          },
          "colorway": [
           "#636efa",
           "#EF553B",
           "#00cc96",
           "#ab63fa",
           "#FFA15A",
           "#19d3f3",
           "#FF6692",
           "#B6E880",
           "#FF97FF",
           "#FECB52"
          ],
          "font": {
           "color": "#f2f5fa"
          },
          "geo": {
           "bgcolor": "rgb(17,17,17)",
           "lakecolor": "rgb(17,17,17)",
           "landcolor": "rgb(17,17,17)",
           "showlakes": true,
           "showland": true,
           "subunitcolor": "#506784"
          },
          "hoverlabel": {
           "align": "left"
          },
          "hovermode": "closest",
          "mapbox": {
           "style": "dark"
          },
          "paper_bgcolor": "rgb(17,17,17)",
          "plot_bgcolor": "rgb(17,17,17)",
          "polar": {
           "angularaxis": {
            "gridcolor": "#506784",
            "linecolor": "#506784",
            "ticks": ""
           },
           "bgcolor": "rgb(17,17,17)",
           "radialaxis": {
            "gridcolor": "#506784",
            "linecolor": "#506784",
            "ticks": ""
           }
          },
          "scene": {
           "xaxis": {
            "backgroundcolor": "rgb(17,17,17)",
            "gridcolor": "#506784",
            "gridwidth": 2,
            "linecolor": "#506784",
            "showbackground": true,
            "ticks": "",
            "zerolinecolor": "#C8D4E3"
           },
           "yaxis": {
            "backgroundcolor": "rgb(17,17,17)",
            "gridcolor": "#506784",
            "gridwidth": 2,
            "linecolor": "#506784",
            "showbackground": true,
            "ticks": "",
            "zerolinecolor": "#C8D4E3"
           },
           "zaxis": {
            "backgroundcolor": "rgb(17,17,17)",
            "gridcolor": "#506784",
            "gridwidth": 2,
            "linecolor": "#506784",
            "showbackground": true,
            "ticks": "",
            "zerolinecolor": "#C8D4E3"
           }
          },
          "shapedefaults": {
           "line": {
            "color": "#f2f5fa"
           }
          },
          "sliderdefaults": {
           "bgcolor": "#C8D4E3",
           "bordercolor": "rgb(17,17,17)",
           "borderwidth": 1,
           "tickwidth": 0
          },
          "ternary": {
           "aaxis": {
            "gridcolor": "#506784",
            "linecolor": "#506784",
            "ticks": ""
           },
           "baxis": {
            "gridcolor": "#506784",
            "linecolor": "#506784",
            "ticks": ""
           },
           "bgcolor": "rgb(17,17,17)",
           "caxis": {
            "gridcolor": "#506784",
            "linecolor": "#506784",
            "ticks": ""
           }
          },
          "title": {
           "x": 0.05
          },
          "updatemenudefaults": {
           "bgcolor": "#506784",
           "borderwidth": 0
          },
          "xaxis": {
           "automargin": true,
           "gridcolor": "#283442",
           "linecolor": "#506784",
           "ticks": "",
           "title": {
            "standoff": 15
           },
           "zerolinecolor": "#283442",
           "zerolinewidth": 2
          },
          "yaxis": {
           "automargin": true,
           "gridcolor": "#283442",
           "linecolor": "#506784",
           "ticks": "",
           "title": {
            "standoff": 15
           },
           "zerolinecolor": "#283442",
           "zerolinewidth": 2
          }
         }
        },
        "title": {
         "text": "Number of Job Posting by Sector",
         "x": 0.5
        },
        "xaxis": {
         "anchor": "y",
         "domain": [
          0,
          1
         ],
         "title": {
          "text": "sector"
         }
        },
        "yaxis": {
         "anchor": "x",
         "domain": [
          0,
          1
         ],
         "title": {
          "text": "num_of_job_posting"
         }
        }
       }
      }
     },
     "metadata": {},
     "output_type": "display_data"
    }
   ],
   "source": [
    "roles_by_sectors = df.groupby(['sector'])[['job_title']]\\\n",
    "                     .count()\\\n",
    "                     .reset_index()\\\n",
    "                     .sort_values(by='job_title', ascending=False)\\\n",
    "                     .head(10)\n",
    "                     \n",
    "roles_by_sectors = roles_by_sectors.rename(columns={'job_title': 'num_of_job_posting'})\n",
    "\n",
    "fig = px.bar(roles_by_sectors, x = \"sector\", y = \"num_of_job_posting\", template=PLOTLY_THEME, title=\"Number of Job Posting by Sector\")\n",
    "fig.update_layout(title_x = 0.5)\n",
    "fig.show()"
   ]
  },
  {
   "cell_type": "code",
   "execution_count": 10,
   "metadata": {},
   "outputs": [
    {
     "data": {
      "text/html": [
       "<div>\n",
       "<style scoped>\n",
       "    .dataframe tbody tr th:only-of-type {\n",
       "        vertical-align: middle;\n",
       "    }\n",
       "\n",
       "    .dataframe tbody tr th {\n",
       "        vertical-align: top;\n",
       "    }\n",
       "\n",
       "    .dataframe thead th {\n",
       "        text-align: right;\n",
       "    }\n",
       "</style>\n",
       "<table border=\"1\" class=\"dataframe\">\n",
       "  <thead>\n",
       "    <tr style=\"text-align: right;\">\n",
       "      <th></th>\n",
       "      <th>sector</th>\n",
       "      <th>industry</th>\n",
       "    </tr>\n",
       "  </thead>\n",
       "  <tbody>\n",
       "    <tr>\n",
       "      <th>4</th>\n",
       "      <td>Business Services</td>\n",
       "      <td>Advertising &amp; Marketing</td>\n",
       "    </tr>\n",
       "    <tr>\n",
       "      <th>15</th>\n",
       "      <td>Business Services</td>\n",
       "      <td>Advertising &amp; Marketing</td>\n",
       "    </tr>\n",
       "    <tr>\n",
       "      <th>17</th>\n",
       "      <td>Business Services</td>\n",
       "      <td>Consulting</td>\n",
       "    </tr>\n",
       "    <tr>\n",
       "      <th>19</th>\n",
       "      <td>Business Services</td>\n",
       "      <td>Research &amp; Development</td>\n",
       "    </tr>\n",
       "    <tr>\n",
       "      <th>24</th>\n",
       "      <td>Business Services</td>\n",
       "      <td>Advertising &amp; Marketing</td>\n",
       "    </tr>\n",
       "    <tr>\n",
       "      <th>...</th>\n",
       "      <td>...</td>\n",
       "      <td>...</td>\n",
       "    </tr>\n",
       "    <tr>\n",
       "      <th>3881</th>\n",
       "      <td>Business Services</td>\n",
       "      <td>Staffing &amp; Outsourcing</td>\n",
       "    </tr>\n",
       "    <tr>\n",
       "      <th>3888</th>\n",
       "      <td>Business Services</td>\n",
       "      <td>Staffing &amp; Outsourcing</td>\n",
       "    </tr>\n",
       "    <tr>\n",
       "      <th>3899</th>\n",
       "      <td>Business Services</td>\n",
       "      <td>Staffing &amp; Outsourcing</td>\n",
       "    </tr>\n",
       "    <tr>\n",
       "      <th>3900</th>\n",
       "      <td>Business Services</td>\n",
       "      <td>Staffing &amp; Outsourcing</td>\n",
       "    </tr>\n",
       "    <tr>\n",
       "      <th>3906</th>\n",
       "      <td>Business Services</td>\n",
       "      <td>Staffing &amp; Outsourcing</td>\n",
       "    </tr>\n",
       "  </tbody>\n",
       "</table>\n",
       "<p>679 rows × 2 columns</p>\n",
       "</div>"
      ],
      "text/plain": [
       "                 sector                 industry\n",
       "4     Business Services  Advertising & Marketing\n",
       "15    Business Services  Advertising & Marketing\n",
       "17    Business Services               Consulting\n",
       "19    Business Services   Research & Development\n",
       "24    Business Services  Advertising & Marketing\n",
       "...                 ...                      ...\n",
       "3881  Business Services   Staffing & Outsourcing\n",
       "3888  Business Services   Staffing & Outsourcing\n",
       "3899  Business Services   Staffing & Outsourcing\n",
       "3900  Business Services   Staffing & Outsourcing\n",
       "3906  Business Services   Staffing & Outsourcing\n",
       "\n",
       "[679 rows x 2 columns]"
      ]
     },
     "execution_count": 10,
     "metadata": {},
     "output_type": "execute_result"
    }
   ],
   "source": [
    "df.head()\n",
    "df[df.sector  == \"Business Services\"][[\"sector\", \"industry\"]]\n",
    " \n"
   ]
  },
  {
   "cell_type": "markdown",
   "metadata": {},
   "source": [
    "1. High Demand for Data Science in IT and Business Services\n",
    "\n",
    "- The **`Information Technology (IT)`** sector has the highest number of job postings. This suggests a strong demand for data science professionals in software development, AI, and cloud computing.\n",
    "\n",
    "- **`Business Services`** is a Major Employer: The second-largest sector is Business Services, including consulting,advertising and marketing, staffing firms, which highlights outsourcing trends.\n",
    "\n",
    "- Growing Demand in Biotech & Pharmaceuticals: With AI-driven healthcare analytics and drug discovery, data science hiring in Biotech & Pharma is becoming more prominent.\n",
    "\n",
    "- Finance & Healthcare Are Expanding: Traditional industries such as Finance and Health Care have significant hiring activity, signaling an increasing reliance on data-driven decision-making in risk assessment, fraud detection, and patient care optimization.\n",
    "\n",
    "- Emerging Sectors (Insurance, Education, Government, Media, Manufacturing): While these sectors have fewer postings compared to IT and Business Services, they represent growth areas where data-driven solutions are being integrated.\n",
    "\n",
    "2. Strategic Recommendations for Investors & Recruitment Firms\n",
    "\n",
    "#### For Investors:\n",
    "- Investment in Data Science Talent Platforms: Given the high demand across industries, investing in AI-driven recruitment platforms tailored for data science roles can be lucrative.\n",
    "\n",
    "- Targeted Training & Upskilling Platforms: The rise of data science in non-tech sectors (e.g., Healthcare, Finance, Manufacturing) presents an opportunity to invest in industry-specific data science training platforms.\n",
    "\n",
    "#### For Recruitment Companies:\n",
    "- `Niche Recruiting for High-Demand Sectors`: Since IT, Business Services, and Finance are major hirers, recruiters should build specialized pipelines for these industries.\n",
    "\n",
    "#### Data Monetization Strategies\n",
    "\n",
    "Strategy\tMonetization Approach\n",
    "Recruitment Data Dashboards\tOffer subscription-based dashboards for companies to track real-time hiring trends in data science\n",
    "Industry-Specific Job Boards\tBuild custom job boards focused on Finance, Biotech, and Healthcare, sectors where specialized hiring is growing\n",
    "AI-Driven Candidate Matching\tDevelop a machine learning-based recruitment tool to match job seekers with the most suitable industry roles\n",
    "Corporate Workforce Planning Insights\tSell industry-specific hiring forecasts to businesses so they can optimize workforce planning\n",
    "Data Science Salary Benchmarking\tProvide premium salary analytics for companies to benchmark compensation trends by industry\n",
    "Hiring Strategy Consulting\tOffer consulting packages to large companies and startups that need data science recruitment expertise\n",
    "\n",
    "\n",
    "\n",
    "\n",
    "\n",
    "\n",
    "\n",
    "\n",
    "\n",
    "# References: https://www.cobloom.com/careers-blog/data-science-salaries-how-much-can-you-really-earn#:~:text=Some%20sectors%E2%80%94like%20healthcare%2C%20autonomous%20vehicles%2C,both%20pay%20and%20professional%20fulfillment\n",
    "\n",
    "\n",
    "---"
   ]
  },
  {
   "cell_type": "code",
   "execution_count": null,
   "metadata": {},
   "outputs": [],
   "source": [
    "roles_by_company_size = df.groupby(['company_size_category'])[['job_title']]\\\n",
    "                          .count()\\\n",
    "                          .reset_index()\\\n",
    "                          \n",
    "roles_by_company_size = roles_by_company_size.rename(columns={\"job_title\": \"num_of_job_posting\"})                          \n",
    "                          \n",
    "roles_by_company_size.head()"
   ]
  },
  {
   "cell_type": "code",
   "execution_count": null,
   "metadata": {},
   "outputs": [],
   "source": [
    "fig = px.pie(roles_by_company_size, values='num_of_job_posting', names=\"company_size_category\", template=PLOTLY_THEME)\n",
    "fig.show()"
   ]
  },
  {
   "cell_type": "markdown",
   "metadata": {},
   "source": [
    "##### Provide insights\n",
    "---"
   ]
  },
  {
   "cell_type": "markdown",
   "metadata": {},
   "source": [
    "#### Get the avg min salary estimate by sector and location"
   ]
  },
  {
   "cell_type": "code",
   "execution_count": null,
   "metadata": {},
   "outputs": [],
   "source": [
    "\n",
    "avg_min_salary_by_sector = df.groupby(['sector','location'])[['min_salary_estimate']]\\\n",
    "                             .mean()\\\n",
    "                             .reset_index()\\\n",
    "                             .sort_values(by=['min_salary_estimate'], ascending=False)\\\n",
    "                             .round(2)\n",
    "\t\n",
    "\n",
    "#print(avg_min_salary_by_sector.head(10)) # Top 10 of most paying sectors by sector and location\n",
    "\n",
    "fig = px.bar(data_frame=avg_min_salary_by_sector.head(10).sort_values(by='sector', ascending=False),\n",
    "              x = \"sector\",\n",
    "              y = \"min_salary_estimate\",\n",
    "              color=\"location\",\n",
    "              title=\"Average min salary by sector and location\", \n",
    "              template=PLOTLY_THEME)\n",
    "fig.update_layout(title_x=0.5)\n",
    "fig.show()"
   ]
  },
  {
   "cell_type": "markdown",
   "metadata": {},
   "source": [
    "## 1. High-Paying Sectors and Locations\n",
    "- Finance stands out as the sector with the highest minimum salary estimates, particularly in Santa Clara, CA.\n",
    "- Information Technology (IT), a major sector for data science roles, shows a strong salary offering, particularly in Redwood City, CA.\n",
    "- Real Estate, Health Care, and Business Services also offer competitive salaries, indicating potential demand for data analytics and AI-driven decision-making.\n",
    "\n",
    "\n",
    "## 2. Data Science Job Monetization Opportunity\n",
    "- The Finance and IT sectors are particularly lucrative for data science professionals, making them prime targets for recruitment solutions.\n",
    "- Santa Clara and Redwood City, CA, seem to be key locations offering high-paying jobs, meaning job postings from these locations could be prioritized for insights and monetization.\n",
    "\n",
    "---"
   ]
  },
  {
   "cell_type": "markdown",
   "metadata": {},
   "source": [
    "#### Demand for Data Science Roles by Company Size"
   ]
  },
  {
   "cell_type": "code",
   "execution_count": null,
   "metadata": {},
   "outputs": [],
   "source": [
    "demand_by_company_size = df.groupby(['industry', 'company_size_category'])[['job_title']]\\\n",
    "                      .count()\\\n",
    "                      .reset_index()\\\n",
    "                      .sort_values(by = \"job_title\", ascending=False)\n",
    "\n",
    "demand_by_company_size.head(10)"
   ]
  },
  {
   "cell_type": "code",
   "execution_count": null,
   "metadata": {},
   "outputs": [],
   "source": [
    "#Salary Trends Based on Company Size\n",
    "\n",
    "avg_min_salary_by_comany_size = df.groupby(['company_size_category'])[['max_salary_estimate']]\\\n",
    "                                  .median()\\\n",
    "                                  .reset_index()\\\n",
    "                                  .round(2)\n",
    "\n",
    "\n",
    "avg_min_salary_by_comany_size"
   ]
  },
  {
   "cell_type": "code",
   "execution_count": null,
   "metadata": {},
   "outputs": [],
   "source": [
    "fig = px.bar(data_frame=avg_min_salary_by_comany_size,\n",
    "             x='company_size_category', \n",
    "             y='max_salary_estimate')\n",
    "fig.show()"
   ]
  },
  {
   "cell_type": "markdown",
   "metadata": {},
   "source": [
    "### How many Job Posting by Industry and Location?"
   ]
  },
  {
   "cell_type": "code",
   "execution_count": null,
   "metadata": {},
   "outputs": [],
   "source": [
    "roles_by_industry = df.groupby(['industry', 'company_size_category'])[['job_title']]\\\n",
    "                      .count()\\\n",
    "                      .reset_index()\\\n",
    "                      .sort_values(by = \"job_title\", ascending=False)"
   ]
  },
  {
   "cell_type": "code",
   "execution_count": null,
   "metadata": {},
   "outputs": [],
   "source": [
    "fig = px.bar(data_frame=roles_by_industry.head(10), x = \"industry\",\n",
    "                                                    y = \"job_title\",\n",
    "                                                    color = \"company_size_category\",\n",
    "                                                    title=\"Number of Job Posting by location and industry\", \n",
    "                                                    template=PLOTLY_THEME)\n",
    "fig.update_layout(title_x=0.5)\n",
    "fig.show()"
   ]
  }
 ],
 "metadata": {
  "kernelspec": {
   "display_name": "Python 3",
   "language": "python",
   "name": "python3"
  },
  "language_info": {
   "codemirror_mode": {
    "name": "ipython",
    "version": 3
   },
   "file_extension": ".py",
   "mimetype": "text/x-python",
   "name": "python",
   "nbconvert_exporter": "python",
   "pygments_lexer": "ipython3",
   "version": "3.11.9"
  }
 },
 "nbformat": 4,
 "nbformat_minor": 2
}
