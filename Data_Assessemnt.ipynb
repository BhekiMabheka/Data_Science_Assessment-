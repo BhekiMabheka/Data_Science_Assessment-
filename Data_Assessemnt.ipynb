{
 "cells": [
  {
   "cell_type": "markdown",
   "metadata": {},
   "source": [
    "## Post-block Assignment 1"
   ]
  },
  {
   "cell_type": "code",
   "execution_count": null,
   "metadata": {},
   "outputs": [],
   "source": [
    "# !pip install -Uqq plotly"
   ]
  },
  {
   "cell_type": "code",
   "execution_count": 1,
   "metadata": {},
   "outputs": [],
   "source": [
    "import pandas as pd\n",
    "import seaborn as sns\n",
    "import matplotlib.pyplot as plt\n",
    "import numpy as np\n",
    "import plotly.express as px\n",
    "import warnings\n",
    "warnings.filterwarnings(\"ignore\")\n",
    "PLOTLY_THEME = \"plotly_dark\""
   ]
  },
  {
   "cell_type": "markdown",
   "metadata": {},
   "source": [
    "## 1. Read the data"
   ]
  },
  {
   "cell_type": "code",
   "execution_count": 2,
   "metadata": {},
   "outputs": [
    {
     "name": "stdout",
     "output_type": "stream",
     "text": [
      "(3909, 15)\n"
     ]
    },
    {
     "data": {
      "text/html": [
       "<div>\n",
       "<style scoped>\n",
       "    .dataframe tbody tr th:only-of-type {\n",
       "        vertical-align: middle;\n",
       "    }\n",
       "\n",
       "    .dataframe tbody tr th {\n",
       "        vertical-align: top;\n",
       "    }\n",
       "\n",
       "    .dataframe thead th {\n",
       "        text-align: right;\n",
       "    }\n",
       "</style>\n",
       "<table border=\"1\" class=\"dataframe\">\n",
       "  <thead>\n",
       "    <tr style=\"text-align: right;\">\n",
       "      <th></th>\n",
       "      <th>job_title</th>\n",
       "      <th>salary_estimate</th>\n",
       "      <th>job_description</th>\n",
       "      <th>rating</th>\n",
       "      <th>company_name</th>\n",
       "      <th>location</th>\n",
       "      <th>headquarters</th>\n",
       "      <th>size</th>\n",
       "      <th>founded</th>\n",
       "      <th>type_of_ownership</th>\n",
       "      <th>industry</th>\n",
       "      <th>sector</th>\n",
       "      <th>revenue</th>\n",
       "      <th>competitors</th>\n",
       "      <th>easy_apply</th>\n",
       "    </tr>\n",
       "  </thead>\n",
       "  <tbody>\n",
       "    <tr>\n",
       "      <th>2285</th>\n",
       "      <td>Data Engineer</td>\n",
       "      <td>$71K-$122K (Glassdoor est.)</td>\n",
       "      <td>ABOUT CUREMETRIX\\n\\nDelivering CAD that Works,...</td>\n",
       "      <td>4.0</td>\n",
       "      <td>Curemetrix\\n4.0</td>\n",
       "      <td>San Diego, CA</td>\n",
       "      <td>La Jolla, CA</td>\n",
       "      <td>1 to 50 employees</td>\n",
       "      <td>-1</td>\n",
       "      <td>Company - Private</td>\n",
       "      <td>-1</td>\n",
       "      <td>-1</td>\n",
       "      <td>Unknown / Non-Applicable</td>\n",
       "      <td>-1</td>\n",
       "      <td>-1</td>\n",
       "    </tr>\n",
       "    <tr>\n",
       "      <th>1484</th>\n",
       "      <td>Data Engineer</td>\n",
       "      <td>$47K-$73K (Glassdoor est.)</td>\n",
       "      <td>Position: Data Engineer\\nLocation: currently r...</td>\n",
       "      <td>4.3</td>\n",
       "      <td>PeopleNTech LLC\\n4.3</td>\n",
       "      <td>Chandler, AZ</td>\n",
       "      <td>Vienna, VA</td>\n",
       "      <td>1 to 50 employees</td>\n",
       "      <td>-1</td>\n",
       "      <td>Contract</td>\n",
       "      <td>IT Services</td>\n",
       "      <td>Information Technology</td>\n",
       "      <td>$1 to $5 million (USD)</td>\n",
       "      <td>-1</td>\n",
       "      <td>-1</td>\n",
       "    </tr>\n",
       "    <tr>\n",
       "      <th>623</th>\n",
       "      <td>Senior Research Scientist I, Data Analytics</td>\n",
       "      <td>$37K-$75K (Glassdoor est.)</td>\n",
       "      <td>Kite is continuing to hire for all open roles....</td>\n",
       "      <td>3.4</td>\n",
       "      <td>Kite Pharma\\n3.4</td>\n",
       "      <td>Santa Monica, CA</td>\n",
       "      <td>Santa Monica, CA</td>\n",
       "      <td>1001 to 5000 employees</td>\n",
       "      <td>2008</td>\n",
       "      <td>Company - Public</td>\n",
       "      <td>Biotech &amp; Pharmaceuticals</td>\n",
       "      <td>Biotech &amp; Pharmaceuticals</td>\n",
       "      <td>$10 to $25 million (USD)</td>\n",
       "      <td>-1</td>\n",
       "      <td>-1</td>\n",
       "    </tr>\n",
       "    <tr>\n",
       "      <th>3336</th>\n",
       "      <td>Machine Learning Engineer (Imaging)</td>\n",
       "      <td>$38K-$68K (Glassdoor est.)</td>\n",
       "      <td>Position SummarySamsung Austin Semiconductor i...</td>\n",
       "      <td>2.9</td>\n",
       "      <td>Samsung Electronics America Inc\\n2.9</td>\n",
       "      <td>Austin, TX</td>\n",
       "      <td>Ridgefield Park, NJ</td>\n",
       "      <td>1001 to 5000 employees</td>\n",
       "      <td>1938</td>\n",
       "      <td>Subsidiary or Business Segment</td>\n",
       "      <td>Computer Hardware &amp; Software</td>\n",
       "      <td>Information Technology</td>\n",
       "      <td>$10+ billion (USD)</td>\n",
       "      <td>-1</td>\n",
       "      <td>-1</td>\n",
       "    </tr>\n",
       "    <tr>\n",
       "      <th>1422</th>\n",
       "      <td>Data Engineer</td>\n",
       "      <td>$92K-$144K (Glassdoor est.)</td>\n",
       "      <td>Candidate Description Blue Rose Technologies (...</td>\n",
       "      <td>3.2</td>\n",
       "      <td>Blue Rose Technologies LLC\\n3.2</td>\n",
       "      <td>Tempe, AZ</td>\n",
       "      <td>Bengaluru, India</td>\n",
       "      <td>201 to 500 employees</td>\n",
       "      <td>2010</td>\n",
       "      <td>Company - Private</td>\n",
       "      <td>IT Services</td>\n",
       "      <td>Information Technology</td>\n",
       "      <td>Unknown / Non-Applicable</td>\n",
       "      <td>-1</td>\n",
       "      <td>-1</td>\n",
       "    </tr>\n",
       "  </tbody>\n",
       "</table>\n",
       "</div>"
      ],
      "text/plain": [
       "                                        job_title  \\\n",
       "2285                                Data Engineer   \n",
       "1484                                Data Engineer   \n",
       "623   Senior Research Scientist I, Data Analytics   \n",
       "3336          Machine Learning Engineer (Imaging)   \n",
       "1422                                Data Engineer   \n",
       "\n",
       "                  salary_estimate  \\\n",
       "2285  $71K-$122K (Glassdoor est.)   \n",
       "1484   $47K-$73K (Glassdoor est.)   \n",
       "623    $37K-$75K (Glassdoor est.)   \n",
       "3336   $38K-$68K (Glassdoor est.)   \n",
       "1422  $92K-$144K (Glassdoor est.)   \n",
       "\n",
       "                                        job_description  rating  \\\n",
       "2285  ABOUT CUREMETRIX\\n\\nDelivering CAD that Works,...     4.0   \n",
       "1484  Position: Data Engineer\\nLocation: currently r...     4.3   \n",
       "623   Kite is continuing to hire for all open roles....     3.4   \n",
       "3336  Position SummarySamsung Austin Semiconductor i...     2.9   \n",
       "1422  Candidate Description Blue Rose Technologies (...     3.2   \n",
       "\n",
       "                              company_name          location  \\\n",
       "2285                       Curemetrix\\n4.0     San Diego, CA   \n",
       "1484                  PeopleNTech LLC\\n4.3      Chandler, AZ   \n",
       "623                       Kite Pharma\\n3.4  Santa Monica, CA   \n",
       "3336  Samsung Electronics America Inc\\n2.9        Austin, TX   \n",
       "1422       Blue Rose Technologies LLC\\n3.2         Tempe, AZ   \n",
       "\n",
       "             headquarters                    size  founded  \\\n",
       "2285         La Jolla, CA       1 to 50 employees       -1   \n",
       "1484           Vienna, VA       1 to 50 employees       -1   \n",
       "623      Santa Monica, CA  1001 to 5000 employees     2008   \n",
       "3336  Ridgefield Park, NJ  1001 to 5000 employees     1938   \n",
       "1422     Bengaluru, India    201 to 500 employees     2010   \n",
       "\n",
       "                   type_of_ownership                      industry  \\\n",
       "2285               Company - Private                            -1   \n",
       "1484                        Contract                   IT Services   \n",
       "623                 Company - Public     Biotech & Pharmaceuticals   \n",
       "3336  Subsidiary or Business Segment  Computer Hardware & Software   \n",
       "1422               Company - Private                   IT Services   \n",
       "\n",
       "                         sector                   revenue competitors  \\\n",
       "2285                         -1  Unknown / Non-Applicable          -1   \n",
       "1484     Information Technology    $1 to $5 million (USD)          -1   \n",
       "623   Biotech & Pharmaceuticals  $10 to $25 million (USD)          -1   \n",
       "3336     Information Technology        $10+ billion (USD)          -1   \n",
       "1422     Information Technology  Unknown / Non-Applicable          -1   \n",
       "\n",
       "     easy_apply  \n",
       "2285         -1  \n",
       "1484         -1  \n",
       "623          -1  \n",
       "3336         -1  \n",
       "1422         -1  "
      ]
     },
     "execution_count": 2,
     "metadata": {},
     "output_type": "execute_result"
    }
   ],
   "source": [
    "def read_data(df):\n",
    "\n",
    "    df = pd.read_csv(df)\n",
    "    df.columns = df.columns.str.lower().str.replace(' ', '_') # Ensure all columns follow rules of declaring variables in coding\n",
    "    df = df.drop(axis=1, columns=['unnamed:_0', 'index'])\n",
    "    return df\n",
    "\n",
    "df = read_data(df = \"data/DataScientist (1).csv\")\n",
    "print(df.shape)\n",
    "df.sample(5)"
   ]
  },
  {
   "cell_type": "markdown",
   "metadata": {},
   "source": [
    "--- "
   ]
  },
  {
   "cell_type": "markdown",
   "metadata": {},
   "source": [
    "## 2. Data Preprocessing\n",
    "- This entails data cleaning, extracting features, imputing missing values, remove noise etc"
   ]
  },
  {
   "cell_type": "code",
   "execution_count": 3,
   "metadata": {},
   "outputs": [],
   "source": [
    "def clean_salary_estimates(df, column_name='salary_estimate'):\n",
    "    \n",
    "    df[column_name] = df[column_name].str.replace(r'\\(.*\\)', '', regex=True)  # Clean the salary_estimate column by removing extra text in parentheses,remove extra text\n",
    "\n",
    "    # Remove '$' and 'K', then split by '-'\n",
    "    df[['min_salary_estimate', 'max_salary_estimate']] = df[column_name].str.replace(r'[^\\d-]', '', regex=True) \\\n",
    "                                                     .str.split('-', expand=True)\n",
    "    # Replace 'K' with '000' to convert to actual values\n",
    "    df['min_salary_estimate'] = df['min_salary_estimate'].str.replace('K', '').astype(int) * 1000\n",
    "    df['max_salary_estimate'] = df['max_salary_estimate'].str.replace('K', '').astype(int) * 1000\n",
    "\n",
    "    return df"
   ]
  },
  {
   "cell_type": "code",
   "execution_count": 4,
   "metadata": {},
   "outputs": [],
   "source": [
    "def split_revenue(revenue):\n",
    "    if \"to\" in revenue:\n",
    "        return revenue.replace(\" (USD)\", \"\").split(\" to \")\n",
    "    elif \"Less than\" in revenue:\n",
    "        return [\"0\", revenue.replace(\"Less than \", \"\").replace(\" (USD)\", \"\")]\n",
    "    elif \"Unknown\" in revenue or revenue == \"-1\":\n",
    "        return [None, None]\n",
    "    elif \"$10+ billion\" in revenue:\n",
    "        return [\"$10 billion\", None]  # Assuming $10+ billion is minimum at 10B\n",
    "    else:\n",
    "        return [None, None]\n",
    "\n",
    "# Apply function to create min_revenue and max_revenue columns\n",
    "df[[\"min_revenue\", \"max_revenue\"]] = pd.DataFrame(df[\"revenue\"].apply(split_revenue).tolist(), index=df.index)"
   ]
  },
  {
   "cell_type": "code",
   "execution_count": 5,
   "metadata": {},
   "outputs": [
    {
     "data": {
      "text/html": [
       "<div>\n",
       "<style scoped>\n",
       "    .dataframe tbody tr th:only-of-type {\n",
       "        vertical-align: middle;\n",
       "    }\n",
       "\n",
       "    .dataframe tbody tr th {\n",
       "        vertical-align: top;\n",
       "    }\n",
       "\n",
       "    .dataframe thead th {\n",
       "        text-align: right;\n",
       "    }\n",
       "</style>\n",
       "<table border=\"1\" class=\"dataframe\">\n",
       "  <thead>\n",
       "    <tr style=\"text-align: right;\">\n",
       "      <th></th>\n",
       "      <th>job_title</th>\n",
       "      <th>revenue</th>\n",
       "      <th>min_revenue</th>\n",
       "      <th>max_revenue</th>\n",
       "    </tr>\n",
       "  </thead>\n",
       "  <tbody>\n",
       "    <tr>\n",
       "      <th>3625</th>\n",
       "      <td>Senior Business Intelligence Analyst</td>\n",
       "      <td>$10 to $25 million (USD)</td>\n",
       "      <td>$10</td>\n",
       "      <td>$25 million</td>\n",
       "    </tr>\n",
       "    <tr>\n",
       "      <th>585</th>\n",
       "      <td>Billingual Chinese - Data Analyst</td>\n",
       "      <td>Unknown / Non-Applicable</td>\n",
       "      <td>None</td>\n",
       "      <td>None</td>\n",
       "    </tr>\n",
       "    <tr>\n",
       "      <th>3095</th>\n",
       "      <td>Investigational Computational Biologist</td>\n",
       "      <td>Unknown / Non-Applicable</td>\n",
       "      <td>None</td>\n",
       "      <td>None</td>\n",
       "    </tr>\n",
       "    <tr>\n",
       "      <th>2215</th>\n",
       "      <td>Senior Data Scientist</td>\n",
       "      <td>$1 to $5 million (USD)</td>\n",
       "      <td>$1</td>\n",
       "      <td>$5 million</td>\n",
       "    </tr>\n",
       "    <tr>\n",
       "      <th>450</th>\n",
       "      <td>Research Scientist</td>\n",
       "      <td>$2 to $5 billion (USD)</td>\n",
       "      <td>$2</td>\n",
       "      <td>$5 billion</td>\n",
       "    </tr>\n",
       "    <tr>\n",
       "      <th>3018</th>\n",
       "      <td>Machine Learning Engineer</td>\n",
       "      <td>Unknown / Non-Applicable</td>\n",
       "      <td>None</td>\n",
       "      <td>None</td>\n",
       "    </tr>\n",
       "    <tr>\n",
       "      <th>3401</th>\n",
       "      <td>Data Engineer</td>\n",
       "      <td>Unknown / Non-Applicable</td>\n",
       "      <td>None</td>\n",
       "      <td>None</td>\n",
       "    </tr>\n",
       "    <tr>\n",
       "      <th>1011</th>\n",
       "      <td>Senior Data Analyst</td>\n",
       "      <td>$1 to $2 billion (USD)</td>\n",
       "      <td>$1</td>\n",
       "      <td>$2 billion</td>\n",
       "    </tr>\n",
       "    <tr>\n",
       "      <th>259</th>\n",
       "      <td>Data Analyst</td>\n",
       "      <td>Less than $1 million (USD)</td>\n",
       "      <td>0</td>\n",
       "      <td>$1 million</td>\n",
       "    </tr>\n",
       "    <tr>\n",
       "      <th>2205</th>\n",
       "      <td>Research Scientist</td>\n",
       "      <td>-1</td>\n",
       "      <td>None</td>\n",
       "      <td>None</td>\n",
       "    </tr>\n",
       "  </tbody>\n",
       "</table>\n",
       "</div>"
      ],
      "text/plain": [
       "                                    job_title                     revenue  \\\n",
       "3625     Senior Business Intelligence Analyst    $10 to $25 million (USD)   \n",
       "585         Billingual Chinese - Data Analyst    Unknown / Non-Applicable   \n",
       "3095  Investigational Computational Biologist    Unknown / Non-Applicable   \n",
       "2215                    Senior Data Scientist      $1 to $5 million (USD)   \n",
       "450                        Research Scientist      $2 to $5 billion (USD)   \n",
       "3018                Machine Learning Engineer    Unknown / Non-Applicable   \n",
       "3401                            Data Engineer    Unknown / Non-Applicable   \n",
       "1011                      Senior Data Analyst      $1 to $2 billion (USD)   \n",
       "259                              Data Analyst  Less than $1 million (USD)   \n",
       "2205                       Research Scientist                          -1   \n",
       "\n",
       "     min_revenue  max_revenue  \n",
       "3625         $10  $25 million  \n",
       "585         None         None  \n",
       "3095        None         None  \n",
       "2215          $1   $5 million  \n",
       "450           $2   $5 billion  \n",
       "3018        None         None  \n",
       "3401        None         None  \n",
       "1011          $1   $2 billion  \n",
       "259            0   $1 million  \n",
       "2205        None         None  "
      ]
     },
     "execution_count": 5,
     "metadata": {},
     "output_type": "execute_result"
    }
   ],
   "source": [
    "df[[\"job_title\",\"revenue\",\"min_revenue\",\"max_revenue\"]].sample(10)"
   ]
  },
  {
   "cell_type": "code",
   "execution_count": 6,
   "metadata": {},
   "outputs": [
    {
     "data": {
      "text/html": [
       "<div>\n",
       "<style scoped>\n",
       "    .dataframe tbody tr th:only-of-type {\n",
       "        vertical-align: middle;\n",
       "    }\n",
       "\n",
       "    .dataframe tbody tr th {\n",
       "        vertical-align: top;\n",
       "    }\n",
       "\n",
       "    .dataframe thead th {\n",
       "        text-align: right;\n",
       "    }\n",
       "</style>\n",
       "<table border=\"1\" class=\"dataframe\">\n",
       "  <thead>\n",
       "    <tr style=\"text-align: right;\">\n",
       "      <th></th>\n",
       "      <th>job_title</th>\n",
       "      <th>salary_estimate</th>\n",
       "      <th>job_description</th>\n",
       "      <th>rating</th>\n",
       "      <th>company_name</th>\n",
       "      <th>location</th>\n",
       "      <th>headquarters</th>\n",
       "      <th>size</th>\n",
       "      <th>founded</th>\n",
       "      <th>type_of_ownership</th>\n",
       "      <th>industry</th>\n",
       "      <th>sector</th>\n",
       "      <th>revenue</th>\n",
       "      <th>competitors</th>\n",
       "      <th>easy_apply</th>\n",
       "      <th>min_revenue</th>\n",
       "      <th>max_revenue</th>\n",
       "      <th>min_salary_estimate</th>\n",
       "      <th>max_salary_estimate</th>\n",
       "    </tr>\n",
       "  </thead>\n",
       "  <tbody>\n",
       "    <tr>\n",
       "      <th>483</th>\n",
       "      <td>Data Engineer</td>\n",
       "      <td>$76K-$125K</td>\n",
       "      <td>Title: Data Engineer\\nJob ID: TJ3682741021\\nLo...</td>\n",
       "      <td>4.7</td>\n",
       "      <td>TEEMA\\n4.7</td>\n",
       "      <td>Los Angeles, CA</td>\n",
       "      <td>Litchfield Park, AZ</td>\n",
       "      <td>201 to 500 employees</td>\n",
       "      <td>2008</td>\n",
       "      <td>Company - Private</td>\n",
       "      <td>Staffing &amp; Outsourcing</td>\n",
       "      <td>Business Services</td>\n",
       "      <td>$50 to $100 million (USD)</td>\n",
       "      <td>-1</td>\n",
       "      <td>-1</td>\n",
       "      <td>$50</td>\n",
       "      <td>$100 million</td>\n",
       "      <td>76000</td>\n",
       "      <td>125000</td>\n",
       "    </tr>\n",
       "    <tr>\n",
       "      <th>3742</th>\n",
       "      <td>Data Analyst</td>\n",
       "      <td>$100K-$163K</td>\n",
       "      <td>Olive is healthcare’s first intelligent digita...</td>\n",
       "      <td>3.5</td>\n",
       "      <td>Olive\\n3.5</td>\n",
       "      <td>Columbus, OH</td>\n",
       "      <td>Columbus, OH</td>\n",
       "      <td>201 to 500 employees</td>\n",
       "      <td>2012</td>\n",
       "      <td>Company - Private</td>\n",
       "      <td>Enterprise Software &amp; Network Solutions</td>\n",
       "      <td>Information Technology</td>\n",
       "      <td>Unknown / Non-Applicable</td>\n",
       "      <td>-1</td>\n",
       "      <td>-1</td>\n",
       "      <td>None</td>\n",
       "      <td>None</td>\n",
       "      <td>100000</td>\n",
       "      <td>163000</td>\n",
       "    </tr>\n",
       "    <tr>\n",
       "      <th>202</th>\n",
       "      <td>Lead Data Scientist</td>\n",
       "      <td>$119K-$147K</td>\n",
       "      <td>At Rockstar Games, we create the games we woul...</td>\n",
       "      <td>4.1</td>\n",
       "      <td>Rockstar Games\\n4.1</td>\n",
       "      <td>New York, NY</td>\n",
       "      <td>New York, NY</td>\n",
       "      <td>1001 to 5000 employees</td>\n",
       "      <td>1998</td>\n",
       "      <td>Subsidiary or Business Segment</td>\n",
       "      <td>Video Games</td>\n",
       "      <td>Media</td>\n",
       "      <td>$10 to $25 million (USD)</td>\n",
       "      <td>-1</td>\n",
       "      <td>-1</td>\n",
       "      <td>$10</td>\n",
       "      <td>$25 million</td>\n",
       "      <td>119000</td>\n",
       "      <td>147000</td>\n",
       "    </tr>\n",
       "    <tr>\n",
       "      <th>2092</th>\n",
       "      <td>Epidemiologist - Data Analyst</td>\n",
       "      <td>$52K-$91K</td>\n",
       "      <td>Instructs all levels of Enterprise-Wide inform...</td>\n",
       "      <td>4.0</td>\n",
       "      <td>CICONIX, LLC\\n4.0</td>\n",
       "      <td>San Antonio, TX</td>\n",
       "      <td>Annapolis, MD</td>\n",
       "      <td>1 to 50 employees</td>\n",
       "      <td>-1</td>\n",
       "      <td>Company - Private</td>\n",
       "      <td>Federal Agencies</td>\n",
       "      <td>Government</td>\n",
       "      <td>Unknown / Non-Applicable</td>\n",
       "      <td>-1</td>\n",
       "      <td>-1</td>\n",
       "      <td>None</td>\n",
       "      <td>None</td>\n",
       "      <td>52000</td>\n",
       "      <td>91000</td>\n",
       "    </tr>\n",
       "  </tbody>\n",
       "</table>\n",
       "</div>"
      ],
      "text/plain": [
       "                          job_title salary_estimate  \\\n",
       "483                   Data Engineer     $76K-$125K    \n",
       "3742                   Data Analyst    $100K-$163K    \n",
       "202             Lead Data Scientist    $119K-$147K    \n",
       "2092  Epidemiologist - Data Analyst      $52K-$91K    \n",
       "\n",
       "                                        job_description  rating  \\\n",
       "483   Title: Data Engineer\\nJob ID: TJ3682741021\\nLo...     4.7   \n",
       "3742  Olive is healthcare’s first intelligent digita...     3.5   \n",
       "202   At Rockstar Games, we create the games we woul...     4.1   \n",
       "2092  Instructs all levels of Enterprise-Wide inform...     4.0   \n",
       "\n",
       "             company_name         location         headquarters  \\\n",
       "483            TEEMA\\n4.7  Los Angeles, CA  Litchfield Park, AZ   \n",
       "3742           Olive\\n3.5     Columbus, OH         Columbus, OH   \n",
       "202   Rockstar Games\\n4.1     New York, NY         New York, NY   \n",
       "2092    CICONIX, LLC\\n4.0  San Antonio, TX        Annapolis, MD   \n",
       "\n",
       "                        size  founded               type_of_ownership  \\\n",
       "483     201 to 500 employees     2008               Company - Private   \n",
       "3742    201 to 500 employees     2012               Company - Private   \n",
       "202   1001 to 5000 employees     1998  Subsidiary or Business Segment   \n",
       "2092       1 to 50 employees       -1               Company - Private   \n",
       "\n",
       "                                     industry                  sector  \\\n",
       "483                    Staffing & Outsourcing       Business Services   \n",
       "3742  Enterprise Software & Network Solutions  Information Technology   \n",
       "202                               Video Games                   Media   \n",
       "2092                         Federal Agencies              Government   \n",
       "\n",
       "                        revenue competitors easy_apply min_revenue  \\\n",
       "483   $50 to $100 million (USD)          -1         -1         $50   \n",
       "3742   Unknown / Non-Applicable          -1         -1        None   \n",
       "202    $10 to $25 million (USD)          -1         -1         $10   \n",
       "2092   Unknown / Non-Applicable          -1         -1        None   \n",
       "\n",
       "       max_revenue  min_salary_estimate  max_salary_estimate  \n",
       "483   $100 million                76000               125000  \n",
       "3742          None               100000               163000  \n",
       "202    $25 million               119000               147000  \n",
       "2092          None                52000                91000  "
      ]
     },
     "execution_count": 6,
     "metadata": {},
     "output_type": "execute_result"
    }
   ],
   "source": [
    "df = df[~df['sector'].str.contains(r'\\d', na=False)] # Remove numbers on feature sector\n",
    "df = clean_salary_estimates(df)\n",
    "df.sample(4)"
   ]
  },
  {
   "cell_type": "markdown",
   "metadata": {},
   "source": [
    "---"
   ]
  },
  {
   "cell_type": "markdown",
   "metadata": {},
   "source": [
    "<div style=\"text-align:center; font-size:30px; font-weight:bold;\"> Derive insights of strategic value</div>"
   ]
  },
  {
   "cell_type": "markdown",
   "metadata": {},
   "source": [
    "#### Get the avg min salary estimate by sector and location"
   ]
  },
  {
   "cell_type": "code",
   "execution_count": 7,
   "metadata": {},
   "outputs": [
    {
     "data": {
      "application/vnd.plotly.v1+json": {
       "config": {
        "plotlyServerURL": "https://plot.ly"
       },
       "data": [
        {
         "hovertemplate": "location=New York, NY<br>sector=%{x}<br>min_salary_estimate=%{y}<extra></extra>",
         "legendgroup": "New York, NY",
         "marker": {
          "color": "#636efa",
          "pattern": {
           "shape": ""
          }
         },
         "name": "New York, NY",
         "orientation": "v",
         "showlegend": true,
         "textposition": "auto",
         "type": "bar",
         "x": [
          "Real Estate"
         ],
         "xaxis": "x",
         "y": {
          "bdata": "AAAAAAALA0E=",
          "dtype": "f8"
         },
         "yaxis": "y"
        },
        {
         "hovertemplate": "location=Redwood City, CA<br>sector=%{x}<br>min_salary_estimate=%{y}<extra></extra>",
         "legendgroup": "Redwood City, CA",
         "marker": {
          "color": "#EF553B",
          "pattern": {
           "shape": ""
          }
         },
         "name": "Redwood City, CA",
         "orientation": "v",
         "showlegend": true,
         "textposition": "auto",
         "type": "bar",
         "x": [
          "Information Technology",
          "Finance"
         ],
         "xaxis": "x",
         "y": {
          "bdata": "FK5H4bY0AkEAAAAAgE8CQQ==",
          "dtype": "f8"
         },
         "yaxis": "y"
        },
        {
         "hovertemplate": "location=Rockville Centre, NY<br>sector=%{x}<br>min_salary_estimate=%{y}<extra></extra>",
         "legendgroup": "Rockville Centre, NY",
         "marker": {
          "color": "#00cc96",
          "pattern": {
           "shape": ""
          }
         },
         "name": "Rockville Centre, NY",
         "orientation": "v",
         "showlegend": true,
         "textposition": "auto",
         "type": "bar",
         "x": [
          "Health Care"
         ],
         "xaxis": "x",
         "y": {
          "bdata": "AAAAAAALA0E=",
          "dtype": "f8"
         },
         "yaxis": "y"
        },
        {
         "hovertemplate": "location=Santa Clara, CA<br>sector=%{x}<br>min_salary_estimate=%{y}<extra></extra>",
         "legendgroup": "Santa Clara, CA",
         "marker": {
          "color": "#ab63fa",
          "pattern": {
           "shape": ""
          }
         },
         "name": "Santa Clara, CA",
         "orientation": "v",
         "showlegend": true,
         "textposition": "auto",
         "type": "bar",
         "x": [
          "Finance",
          "Arts, Entertainment & Recreation",
          "Accounting & Legal"
         ],
         "xaxis": "x",
         "y": {
          "bdata": "AAAAAABqCEEAAAAAAGoIQQAAAABAMAJB",
          "dtype": "f8"
         },
         "yaxis": "y"
        },
        {
         "hovertemplate": "location=Stanford, CA<br>sector=%{x}<br>min_salary_estimate=%{y}<extra></extra>",
         "legendgroup": "Stanford, CA",
         "marker": {
          "color": "#FFA15A",
          "pattern": {
           "shape": ""
          }
         },
         "name": "Stanford, CA",
         "orientation": "v",
         "showlegend": true,
         "textposition": "auto",
         "type": "bar",
         "x": [
          "Education"
         ],
         "xaxis": "x",
         "y": {
          "bdata": "AAAAAIBPAkE=",
          "dtype": "f8"
         },
         "yaxis": "y"
        },
        {
         "hovertemplate": "location=Livermore, CA<br>sector=%{x}<br>min_salary_estimate=%{y}<extra></extra>",
         "legendgroup": "Livermore, CA",
         "marker": {
          "color": "#19d3f3",
          "pattern": {
           "shape": ""
          }
         },
         "name": "Livermore, CA",
         "orientation": "v",
         "showlegend": true,
         "textposition": "auto",
         "type": "bar",
         "x": [
          "Business Services"
         ],
         "xaxis": "x",
         "y": {
          "bdata": "AAAAAIBPAkE=",
          "dtype": "f8"
         },
         "yaxis": "y"
        },
        {
         "hovertemplate": "location=Sunnyvale, CA<br>sector=%{x}<br>min_salary_estimate=%{y}<extra></extra>",
         "legendgroup": "Sunnyvale, CA",
         "marker": {
          "color": "#FF6692",
          "pattern": {
           "shape": ""
          }
         },
         "name": "Sunnyvale, CA",
         "orientation": "v",
         "showlegend": true,
         "textposition": "auto",
         "type": "bar",
         "x": [
          "Biotech & Pharmaceuticals"
         ],
         "xaxis": "x",
         "y": {
          "bdata": "AAAAAAARAkE=",
          "dtype": "f8"
         },
         "yaxis": "y"
        }
       ],
       "layout": {
        "barmode": "relative",
        "legend": {
         "title": {
          "text": "location"
         },
         "tracegroupgap": 0
        },
        "template": {
         "data": {
          "bar": [
           {
            "error_x": {
             "color": "#f2f5fa"
            },
            "error_y": {
             "color": "#f2f5fa"
            },
            "marker": {
             "line": {
              "color": "rgb(17,17,17)",
              "width": 0.5
             },
             "pattern": {
              "fillmode": "overlay",
              "size": 10,
              "solidity": 0.2
             }
            },
            "type": "bar"
           }
          ],
          "barpolar": [
           {
            "marker": {
             "line": {
              "color": "rgb(17,17,17)",
              "width": 0.5
             },
             "pattern": {
              "fillmode": "overlay",
              "size": 10,
              "solidity": 0.2
             }
            },
            "type": "barpolar"
           }
          ],
          "carpet": [
           {
            "aaxis": {
             "endlinecolor": "#A2B1C6",
             "gridcolor": "#506784",
             "linecolor": "#506784",
             "minorgridcolor": "#506784",
             "startlinecolor": "#A2B1C6"
            },
            "baxis": {
             "endlinecolor": "#A2B1C6",
             "gridcolor": "#506784",
             "linecolor": "#506784",
             "minorgridcolor": "#506784",
             "startlinecolor": "#A2B1C6"
            },
            "type": "carpet"
           }
          ],
          "choropleth": [
           {
            "colorbar": {
             "outlinewidth": 0,
             "ticks": ""
            },
            "type": "choropleth"
           }
          ],
          "contour": [
           {
            "colorbar": {
             "outlinewidth": 0,
             "ticks": ""
            },
            "colorscale": [
             [
              0,
              "#0d0887"
             ],
             [
              0.1111111111111111,
              "#46039f"
             ],
             [
              0.2222222222222222,
              "#7201a8"
             ],
             [
              0.3333333333333333,
              "#9c179e"
             ],
             [
              0.4444444444444444,
              "#bd3786"
             ],
             [
              0.5555555555555556,
              "#d8576b"
             ],
             [
              0.6666666666666666,
              "#ed7953"
             ],
             [
              0.7777777777777778,
              "#fb9f3a"
             ],
             [
              0.8888888888888888,
              "#fdca26"
             ],
             [
              1,
              "#f0f921"
             ]
            ],
            "type": "contour"
           }
          ],
          "contourcarpet": [
           {
            "colorbar": {
             "outlinewidth": 0,
             "ticks": ""
            },
            "type": "contourcarpet"
           }
          ],
          "heatmap": [
           {
            "colorbar": {
             "outlinewidth": 0,
             "ticks": ""
            },
            "colorscale": [
             [
              0,
              "#0d0887"
             ],
             [
              0.1111111111111111,
              "#46039f"
             ],
             [
              0.2222222222222222,
              "#7201a8"
             ],
             [
              0.3333333333333333,
              "#9c179e"
             ],
             [
              0.4444444444444444,
              "#bd3786"
             ],
             [
              0.5555555555555556,
              "#d8576b"
             ],
             [
              0.6666666666666666,
              "#ed7953"
             ],
             [
              0.7777777777777778,
              "#fb9f3a"
             ],
             [
              0.8888888888888888,
              "#fdca26"
             ],
             [
              1,
              "#f0f921"
             ]
            ],
            "type": "heatmap"
           }
          ],
          "histogram": [
           {
            "marker": {
             "pattern": {
              "fillmode": "overlay",
              "size": 10,
              "solidity": 0.2
             }
            },
            "type": "histogram"
           }
          ],
          "histogram2d": [
           {
            "colorbar": {
             "outlinewidth": 0,
             "ticks": ""
            },
            "colorscale": [
             [
              0,
              "#0d0887"
             ],
             [
              0.1111111111111111,
              "#46039f"
             ],
             [
              0.2222222222222222,
              "#7201a8"
             ],
             [
              0.3333333333333333,
              "#9c179e"
             ],
             [
              0.4444444444444444,
              "#bd3786"
             ],
             [
              0.5555555555555556,
              "#d8576b"
             ],
             [
              0.6666666666666666,
              "#ed7953"
             ],
             [
              0.7777777777777778,
              "#fb9f3a"
             ],
             [
              0.8888888888888888,
              "#fdca26"
             ],
             [
              1,
              "#f0f921"
             ]
            ],
            "type": "histogram2d"
           }
          ],
          "histogram2dcontour": [
           {
            "colorbar": {
             "outlinewidth": 0,
             "ticks": ""
            },
            "colorscale": [
             [
              0,
              "#0d0887"
             ],
             [
              0.1111111111111111,
              "#46039f"
             ],
             [
              0.2222222222222222,
              "#7201a8"
             ],
             [
              0.3333333333333333,
              "#9c179e"
             ],
             [
              0.4444444444444444,
              "#bd3786"
             ],
             [
              0.5555555555555556,
              "#d8576b"
             ],
             [
              0.6666666666666666,
              "#ed7953"
             ],
             [
              0.7777777777777778,
              "#fb9f3a"
             ],
             [
              0.8888888888888888,
              "#fdca26"
             ],
             [
              1,
              "#f0f921"
             ]
            ],
            "type": "histogram2dcontour"
           }
          ],
          "mesh3d": [
           {
            "colorbar": {
             "outlinewidth": 0,
             "ticks": ""
            },
            "type": "mesh3d"
           }
          ],
          "parcoords": [
           {
            "line": {
             "colorbar": {
              "outlinewidth": 0,
              "ticks": ""
             }
            },
            "type": "parcoords"
           }
          ],
          "pie": [
           {
            "automargin": true,
            "type": "pie"
           }
          ],
          "scatter": [
           {
            "marker": {
             "line": {
              "color": "#283442"
             }
            },
            "type": "scatter"
           }
          ],
          "scatter3d": [
           {
            "line": {
             "colorbar": {
              "outlinewidth": 0,
              "ticks": ""
             }
            },
            "marker": {
             "colorbar": {
              "outlinewidth": 0,
              "ticks": ""
             }
            },
            "type": "scatter3d"
           }
          ],
          "scattercarpet": [
           {
            "marker": {
             "colorbar": {
              "outlinewidth": 0,
              "ticks": ""
             }
            },
            "type": "scattercarpet"
           }
          ],
          "scattergeo": [
           {
            "marker": {
             "colorbar": {
              "outlinewidth": 0,
              "ticks": ""
             }
            },
            "type": "scattergeo"
           }
          ],
          "scattergl": [
           {
            "marker": {
             "line": {
              "color": "#283442"
             }
            },
            "type": "scattergl"
           }
          ],
          "scattermap": [
           {
            "marker": {
             "colorbar": {
              "outlinewidth": 0,
              "ticks": ""
             }
            },
            "type": "scattermap"
           }
          ],
          "scattermapbox": [
           {
            "marker": {
             "colorbar": {
              "outlinewidth": 0,
              "ticks": ""
             }
            },
            "type": "scattermapbox"
           }
          ],
          "scatterpolar": [
           {
            "marker": {
             "colorbar": {
              "outlinewidth": 0,
              "ticks": ""
             }
            },
            "type": "scatterpolar"
           }
          ],
          "scatterpolargl": [
           {
            "marker": {
             "colorbar": {
              "outlinewidth": 0,
              "ticks": ""
             }
            },
            "type": "scatterpolargl"
           }
          ],
          "scatterternary": [
           {
            "marker": {
             "colorbar": {
              "outlinewidth": 0,
              "ticks": ""
             }
            },
            "type": "scatterternary"
           }
          ],
          "surface": [
           {
            "colorbar": {
             "outlinewidth": 0,
             "ticks": ""
            },
            "colorscale": [
             [
              0,
              "#0d0887"
             ],
             [
              0.1111111111111111,
              "#46039f"
             ],
             [
              0.2222222222222222,
              "#7201a8"
             ],
             [
              0.3333333333333333,
              "#9c179e"
             ],
             [
              0.4444444444444444,
              "#bd3786"
             ],
             [
              0.5555555555555556,
              "#d8576b"
             ],
             [
              0.6666666666666666,
              "#ed7953"
             ],
             [
              0.7777777777777778,
              "#fb9f3a"
             ],
             [
              0.8888888888888888,
              "#fdca26"
             ],
             [
              1,
              "#f0f921"
             ]
            ],
            "type": "surface"
           }
          ],
          "table": [
           {
            "cells": {
             "fill": {
              "color": "#506784"
             },
             "line": {
              "color": "rgb(17,17,17)"
             }
            },
            "header": {
             "fill": {
              "color": "#2a3f5f"
             },
             "line": {
              "color": "rgb(17,17,17)"
             }
            },
            "type": "table"
           }
          ]
         },
         "layout": {
          "annotationdefaults": {
           "arrowcolor": "#f2f5fa",
           "arrowhead": 0,
           "arrowwidth": 1
          },
          "autotypenumbers": "strict",
          "coloraxis": {
           "colorbar": {
            "outlinewidth": 0,
            "ticks": ""
           }
          },
          "colorscale": {
           "diverging": [
            [
             0,
             "#8e0152"
            ],
            [
             0.1,
             "#c51b7d"
            ],
            [
             0.2,
             "#de77ae"
            ],
            [
             0.3,
             "#f1b6da"
            ],
            [
             0.4,
             "#fde0ef"
            ],
            [
             0.5,
             "#f7f7f7"
            ],
            [
             0.6,
             "#e6f5d0"
            ],
            [
             0.7,
             "#b8e186"
            ],
            [
             0.8,
             "#7fbc41"
            ],
            [
             0.9,
             "#4d9221"
            ],
            [
             1,
             "#276419"
            ]
           ],
           "sequential": [
            [
             0,
             "#0d0887"
            ],
            [
             0.1111111111111111,
             "#46039f"
            ],
            [
             0.2222222222222222,
             "#7201a8"
            ],
            [
             0.3333333333333333,
             "#9c179e"
            ],
            [
             0.4444444444444444,
             "#bd3786"
            ],
            [
             0.5555555555555556,
             "#d8576b"
            ],
            [
             0.6666666666666666,
             "#ed7953"
            ],
            [
             0.7777777777777778,
             "#fb9f3a"
            ],
            [
             0.8888888888888888,
             "#fdca26"
            ],
            [
             1,
             "#f0f921"
            ]
           ],
           "sequentialminus": [
            [
             0,
             "#0d0887"
            ],
            [
             0.1111111111111111,
             "#46039f"
            ],
            [
             0.2222222222222222,
             "#7201a8"
            ],
            [
             0.3333333333333333,
             "#9c179e"
            ],
            [
             0.4444444444444444,
             "#bd3786"
            ],
            [
             0.5555555555555556,
             "#d8576b"
            ],
            [
             0.6666666666666666,
             "#ed7953"
            ],
            [
             0.7777777777777778,
             "#fb9f3a"
            ],
            [
             0.8888888888888888,
             "#fdca26"
            ],
            [
             1,
             "#f0f921"
            ]
           ]
          },
          "colorway": [
           "#636efa",
           "#EF553B",
           "#00cc96",
           "#ab63fa",
           "#FFA15A",
           "#19d3f3",
           "#FF6692",
           "#B6E880",
           "#FF97FF",
           "#FECB52"
          ],
          "font": {
           "color": "#f2f5fa"
          },
          "geo": {
           "bgcolor": "rgb(17,17,17)",
           "lakecolor": "rgb(17,17,17)",
           "landcolor": "rgb(17,17,17)",
           "showlakes": true,
           "showland": true,
           "subunitcolor": "#506784"
          },
          "hoverlabel": {
           "align": "left"
          },
          "hovermode": "closest",
          "mapbox": {
           "style": "dark"
          },
          "paper_bgcolor": "rgb(17,17,17)",
          "plot_bgcolor": "rgb(17,17,17)",
          "polar": {
           "angularaxis": {
            "gridcolor": "#506784",
            "linecolor": "#506784",
            "ticks": ""
           },
           "bgcolor": "rgb(17,17,17)",
           "radialaxis": {
            "gridcolor": "#506784",
            "linecolor": "#506784",
            "ticks": ""
           }
          },
          "scene": {
           "xaxis": {
            "backgroundcolor": "rgb(17,17,17)",
            "gridcolor": "#506784",
            "gridwidth": 2,
            "linecolor": "#506784",
            "showbackground": true,
            "ticks": "",
            "zerolinecolor": "#C8D4E3"
           },
           "yaxis": {
            "backgroundcolor": "rgb(17,17,17)",
            "gridcolor": "#506784",
            "gridwidth": 2,
            "linecolor": "#506784",
            "showbackground": true,
            "ticks": "",
            "zerolinecolor": "#C8D4E3"
           },
           "zaxis": {
            "backgroundcolor": "rgb(17,17,17)",
            "gridcolor": "#506784",
            "gridwidth": 2,
            "linecolor": "#506784",
            "showbackground": true,
            "ticks": "",
            "zerolinecolor": "#C8D4E3"
           }
          },
          "shapedefaults": {
           "line": {
            "color": "#f2f5fa"
           }
          },
          "sliderdefaults": {
           "bgcolor": "#C8D4E3",
           "bordercolor": "rgb(17,17,17)",
           "borderwidth": 1,
           "tickwidth": 0
          },
          "ternary": {
           "aaxis": {
            "gridcolor": "#506784",
            "linecolor": "#506784",
            "ticks": ""
           },
           "baxis": {
            "gridcolor": "#506784",
            "linecolor": "#506784",
            "ticks": ""
           },
           "bgcolor": "rgb(17,17,17)",
           "caxis": {
            "gridcolor": "#506784",
            "linecolor": "#506784",
            "ticks": ""
           }
          },
          "title": {
           "x": 0.05
          },
          "updatemenudefaults": {
           "bgcolor": "#506784",
           "borderwidth": 0
          },
          "xaxis": {
           "automargin": true,
           "gridcolor": "#283442",
           "linecolor": "#506784",
           "ticks": "",
           "title": {
            "standoff": 15
           },
           "zerolinecolor": "#283442",
           "zerolinewidth": 2
          },
          "yaxis": {
           "automargin": true,
           "gridcolor": "#283442",
           "linecolor": "#506784",
           "ticks": "",
           "title": {
            "standoff": 15
           },
           "zerolinecolor": "#283442",
           "zerolinewidth": 2
          }
         }
        },
        "title": {
         "text": "Average min salary by sector and location",
         "x": 0.5
        },
        "xaxis": {
         "anchor": "y",
         "domain": [
          0,
          1
         ],
         "title": {
          "text": "sector"
         }
        },
        "yaxis": {
         "anchor": "x",
         "domain": [
          0,
          1
         ],
         "title": {
          "text": "min_salary_estimate"
         }
        }
       }
      }
     },
     "metadata": {},
     "output_type": "display_data"
    }
   ],
   "source": [
    "\n",
    "avg_min_salary_by_sector = df.groupby(['sector','location'])[['min_salary_estimate']]\\\n",
    "                             .mean()\\\n",
    "                             .reset_index()\\\n",
    "                             .sort_values(by=['min_salary_estimate'], ascending=False)\\\n",
    "                             .round(2)\n",
    "\t\n",
    "\n",
    "#print(avg_min_salary_by_sector.head(10)) # Top 10 of most paying sectors by sector and location\n",
    "\n",
    "fig = px.bar(data_frame=avg_min_salary_by_sector.head(10).sort_values(by='sector', ascending=False),\n",
    "              x = \"sector\",\n",
    "              y = \"min_salary_estimate\",\n",
    "              color=\"location\",\n",
    "              title=\"Average min salary by sector and location\", \n",
    "              template=PLOTLY_THEME)\n",
    "fig.update_layout(title_x=0.5)\n",
    "fig.show()"
   ]
  },
  {
   "cell_type": "markdown",
   "metadata": {},
   "source": [
    "## 1. High-Paying Sectors and Locations\n",
    "- Finance stands out as the sector with the highest minimum salary estimates, particularly in Santa Clara, CA.\n",
    "- Information Technology (IT), a major sector for data science roles, shows a strong salary offering, particularly in Redwood City, CA.\n",
    "- Real Estate, Health Care, and Business Services also offer competitive salaries, indicating potential demand for data analytics and AI-driven decision-making.\n",
    "\n",
    "\n",
    "## 2. Data Science Job Monetization Opportunity\n",
    "- The Finance and IT sectors are particularly lucrative for data science professionals, making them prime targets for recruitment solutions.\n",
    "- Santa Clara and Redwood City, CA, seem to be key locations offering high-paying jobs, meaning job postings from these locations could be prioritized for insights and monetization.\n",
    "\n",
    "---"
   ]
  },
  {
   "cell_type": "markdown",
   "metadata": {},
   "source": [
    "### Company Size Analysis"
   ]
  },
  {
   "cell_type": "code",
   "execution_count": 8,
   "metadata": {},
   "outputs": [],
   "source": [
    "def classify_size(size):\n",
    "    \"\"\"Classify company size based on employee count.\"\"\"\n",
    "    if isinstance(size, str):  # Ensure it's a string\n",
    "        size = size.replace(\" employees\", \"\").strip()\n",
    "        \n",
    "        if size == \"-1\":\n",
    "            return \"Unknown\"\n",
    "        elif \"10000+\" in size:\n",
    "            return \"Large\"\n",
    "        elif \" to \" in size:\n",
    "            min_size, max_size = map(int, size.split(\" to \"))\n",
    "            if max_size <= 200:\n",
    "                return \"Small\"\n",
    "            elif max_size <= 1000:\n",
    "                return \"Medium\"\n",
    "            else:\n",
    "                return \"Large\"\n",
    "            \n",
    "        elif size.isdigit():  # Single number case\n",
    "            num = int(size)\n",
    "            if num <= 200:\n",
    "                return \"Small\"\n",
    "            elif num <= 1000:\n",
    "                return \"Medium\"\n",
    "            else:\n",
    "                return \"Large\"\n",
    "    \n",
    "    return \"Unknown\"\n",
    "\n",
    "# Apply company size classification\n",
    "df[\"company_size_category\"] = df[\"size\"].apply(classify_size)\n"
   ]
  },
  {
   "cell_type": "code",
   "execution_count": 9,
   "metadata": {},
   "outputs": [
    {
     "data": {
      "text/html": [
       "<div>\n",
       "<style scoped>\n",
       "    .dataframe tbody tr th:only-of-type {\n",
       "        vertical-align: middle;\n",
       "    }\n",
       "\n",
       "    .dataframe tbody tr th {\n",
       "        vertical-align: top;\n",
       "    }\n",
       "\n",
       "    .dataframe thead th {\n",
       "        text-align: right;\n",
       "    }\n",
       "</style>\n",
       "<table border=\"1\" class=\"dataframe\">\n",
       "  <thead>\n",
       "    <tr style=\"text-align: right;\">\n",
       "      <th></th>\n",
       "      <th>size</th>\n",
       "      <th>company_size_category</th>\n",
       "    </tr>\n",
       "  </thead>\n",
       "  <tbody>\n",
       "    <tr>\n",
       "      <th>961</th>\n",
       "      <td>501 to 1000 employees</td>\n",
       "      <td>Medium</td>\n",
       "    </tr>\n",
       "    <tr>\n",
       "      <th>3256</th>\n",
       "      <td>1 to 50 employees</td>\n",
       "      <td>Small</td>\n",
       "    </tr>\n",
       "    <tr>\n",
       "      <th>1986</th>\n",
       "      <td>1 to 50 employees</td>\n",
       "      <td>Small</td>\n",
       "    </tr>\n",
       "    <tr>\n",
       "      <th>3537</th>\n",
       "      <td>10000+ employees</td>\n",
       "      <td>Large</td>\n",
       "    </tr>\n",
       "    <tr>\n",
       "      <th>1453</th>\n",
       "      <td>10000+ employees</td>\n",
       "      <td>Large</td>\n",
       "    </tr>\n",
       "    <tr>\n",
       "      <th>2994</th>\n",
       "      <td>1 to 50 employees</td>\n",
       "      <td>Small</td>\n",
       "    </tr>\n",
       "    <tr>\n",
       "      <th>1941</th>\n",
       "      <td>10000+ employees</td>\n",
       "      <td>Large</td>\n",
       "    </tr>\n",
       "    <tr>\n",
       "      <th>1992</th>\n",
       "      <td>501 to 1000 employees</td>\n",
       "      <td>Medium</td>\n",
       "    </tr>\n",
       "    <tr>\n",
       "      <th>1197</th>\n",
       "      <td>201 to 500 employees</td>\n",
       "      <td>Medium</td>\n",
       "    </tr>\n",
       "    <tr>\n",
       "      <th>2661</th>\n",
       "      <td>201 to 500 employees</td>\n",
       "      <td>Medium</td>\n",
       "    </tr>\n",
       "  </tbody>\n",
       "</table>\n",
       "</div>"
      ],
      "text/plain": [
       "                       size company_size_category\n",
       "961   501 to 1000 employees                Medium\n",
       "3256      1 to 50 employees                 Small\n",
       "1986      1 to 50 employees                 Small\n",
       "3537       10000+ employees                 Large\n",
       "1453       10000+ employees                 Large\n",
       "2994      1 to 50 employees                 Small\n",
       "1941       10000+ employees                 Large\n",
       "1992  501 to 1000 employees                Medium\n",
       "1197   201 to 500 employees                Medium\n",
       "2661   201 to 500 employees                Medium"
      ]
     },
     "execution_count": 9,
     "metadata": {},
     "output_type": "execute_result"
    }
   ],
   "source": [
    "df[[\"size\", \"company_size_category\"]].sample(10)"
   ]
  },
  {
   "cell_type": "markdown",
   "metadata": {},
   "source": [
    "#### Demand for Data Science Roles by Company Size"
   ]
  },
  {
   "cell_type": "code",
   "execution_count": null,
   "metadata": {},
   "outputs": [],
   "source": [
    "demand_by_company_size = df.groupby(['industry', 'company_size_category'])[['job_title']]\\\n",
    "                      .count()\\\n",
    "                      .reset_index()\\\n",
    "                      .sort_values(by = \"job_title\", ascending=False)\n",
    "\n",
    "demand_by_company_size.head(10)"
   ]
  },
  {
   "cell_type": "code",
   "execution_count": null,
   "metadata": {},
   "outputs": [],
   "source": [
    "#Salary Trends Based on Company Size\n",
    "\n",
    "avg_min_salary_by_comany_size = df.groupby(['company_size_category'])[['max_salary_estimate']]\\\n",
    "                                  .median()\\\n",
    "                                  .reset_index()\\\n",
    "                                  .round(2)\n",
    "\n",
    "\n",
    "avg_min_salary_by_comany_size"
   ]
  },
  {
   "cell_type": "code",
   "execution_count": null,
   "metadata": {},
   "outputs": [],
   "source": [
    "fig = px.bar(data_frame=avg_min_salary_by_comany_size,\n",
    "             x='company_size_category', \n",
    "             y='max_salary_estimate')\n",
    "fig.show()"
   ]
  },
  {
   "cell_type": "markdown",
   "metadata": {},
   "source": [
    "### How many Job Posting by Industry and Location?"
   ]
  },
  {
   "cell_type": "code",
   "execution_count": null,
   "metadata": {},
   "outputs": [],
   "source": [
    "roles_by_industry = df.groupby(['industry', 'company_size_category'])[['job_title']]\\\n",
    "                      .count()\\\n",
    "                      .reset_index()\\\n",
    "                      .sort_values(by = \"job_title\", ascending=False)"
   ]
  },
  {
   "cell_type": "code",
   "execution_count": null,
   "metadata": {},
   "outputs": [],
   "source": [
    "fig = px.bar(data_frame=roles_by_industry.head(10), x = \"industry\",\n",
    "                                                    y = \"job_title\",\n",
    "                                                    color = \"company_size_category\",\n",
    "                                                    title=\"Number of Job Posting by location and industry\", \n",
    "                                                    template=PLOTLY_THEME)\n",
    "fig.update_layout(title_x=0.5)\n",
    "fig.show()"
   ]
  },
  {
   "cell_type": "code",
   "execution_count": null,
   "metadata": {},
   "outputs": [],
   "source": []
  }
 ],
 "metadata": {
  "kernelspec": {
   "display_name": "Python 3",
   "language": "python",
   "name": "python3"
  },
  "language_info": {
   "codemirror_mode": {
    "name": "ipython",
    "version": 3
   },
   "file_extension": ".py",
   "mimetype": "text/x-python",
   "name": "python",
   "nbconvert_exporter": "python",
   "pygments_lexer": "ipython3",
   "version": "3.10.12"
  }
 },
 "nbformat": 4,
 "nbformat_minor": 2
}
