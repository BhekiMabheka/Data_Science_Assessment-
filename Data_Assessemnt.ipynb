{
 "cells": [
  {
   "cell_type": "markdown",
   "metadata": {},
   "source": [
    "## Post-block Assignment 1"
   ]
  },
  {
   "cell_type": "code",
   "execution_count": null,
   "metadata": {},
   "outputs": [],
   "source": [
    "# !pip install -Uqq plotly"
   ]
  },
  {
   "cell_type": "code",
   "execution_count": 22,
   "metadata": {},
   "outputs": [],
   "source": [
    "import pandas as pd\n",
    "import seaborn as sns\n",
    "import matplotlib.pyplot as plt\n",
    "import numpy as np\n",
    "import plotly.express as px\n",
    "import warnings\n",
    "warnings.filterwarnings(\"ignore\")\n",
    "PLOTLY_THEME = \"plotly_dark\""
   ]
  },
  {
   "cell_type": "markdown",
   "metadata": {},
   "source": [
    "## 1. Read the data"
   ]
  },
  {
   "cell_type": "code",
   "execution_count": 23,
   "metadata": {},
   "outputs": [
    {
     "name": "stdout",
     "output_type": "stream",
     "text": [
      "(3909, 15)\n"
     ]
    },
    {
     "data": {
      "text/html": [
       "<div>\n",
       "<style scoped>\n",
       "    .dataframe tbody tr th:only-of-type {\n",
       "        vertical-align: middle;\n",
       "    }\n",
       "\n",
       "    .dataframe tbody tr th {\n",
       "        vertical-align: top;\n",
       "    }\n",
       "\n",
       "    .dataframe thead th {\n",
       "        text-align: right;\n",
       "    }\n",
       "</style>\n",
       "<table border=\"1\" class=\"dataframe\">\n",
       "  <thead>\n",
       "    <tr style=\"text-align: right;\">\n",
       "      <th></th>\n",
       "      <th>job_title</th>\n",
       "      <th>salary_estimate</th>\n",
       "      <th>job_description</th>\n",
       "      <th>rating</th>\n",
       "      <th>company_name</th>\n",
       "      <th>location</th>\n",
       "      <th>headquarters</th>\n",
       "      <th>size</th>\n",
       "      <th>founded</th>\n",
       "      <th>type_of_ownership</th>\n",
       "      <th>industry</th>\n",
       "      <th>sector</th>\n",
       "      <th>revenue</th>\n",
       "      <th>competitors</th>\n",
       "      <th>easy_apply</th>\n",
       "    </tr>\n",
       "  </thead>\n",
       "  <tbody>\n",
       "    <tr>\n",
       "      <th>2561</th>\n",
       "      <td>Reporting Data Analyst</td>\n",
       "      <td>$49K-$78K (Glassdoor est.)</td>\n",
       "      <td>Power BI and SSIS AzureSQL is a big plus Requi...</td>\n",
       "      <td>-1.0</td>\n",
       "      <td>Shiro Technologies</td>\n",
       "      <td>Dallas, TX</td>\n",
       "      <td>Dallas, TX</td>\n",
       "      <td>1 to 50 employees</td>\n",
       "      <td>-1</td>\n",
       "      <td>Company - Private</td>\n",
       "      <td>-1</td>\n",
       "      <td>-1</td>\n",
       "      <td>Less than $1 million (USD)</td>\n",
       "      <td>-1</td>\n",
       "      <td>-1</td>\n",
       "    </tr>\n",
       "    <tr>\n",
       "      <th>1428</th>\n",
       "      <td>Big Data Engineer with Cloudera</td>\n",
       "      <td>$92K-$144K (Glassdoor est.)</td>\n",
       "      <td>Hi, Big Data Engineer w Cloudera Location Phoe...</td>\n",
       "      <td>5.0</td>\n",
       "      <td>Nucleusteq\\n5.0</td>\n",
       "      <td>Phoenix, AZ</td>\n",
       "      <td>Phoenix, AZ</td>\n",
       "      <td>201 to 500 employees</td>\n",
       "      <td>2018</td>\n",
       "      <td>Company - Private</td>\n",
       "      <td>IT Services</td>\n",
       "      <td>Information Technology</td>\n",
       "      <td>$10 to $25 million (USD)</td>\n",
       "      <td>-1</td>\n",
       "      <td>-1</td>\n",
       "    </tr>\n",
       "    <tr>\n",
       "      <th>3906</th>\n",
       "      <td>Security Analytics Data Engineer</td>\n",
       "      <td>$55K-$112K (Glassdoor est.)</td>\n",
       "      <td>Job DescriptionThe Security Analytics Data Eng...</td>\n",
       "      <td>3.8</td>\n",
       "      <td>PDS Tech, Inc.\\n3.8</td>\n",
       "      <td>Dublin, OH</td>\n",
       "      <td>Irving, TX</td>\n",
       "      <td>5001 to 10000 employees</td>\n",
       "      <td>1977</td>\n",
       "      <td>Company - Private</td>\n",
       "      <td>Staffing &amp; Outsourcing</td>\n",
       "      <td>Business Services</td>\n",
       "      <td>$100 to $500 million (USD)</td>\n",
       "      <td>-1</td>\n",
       "      <td>-1</td>\n",
       "    </tr>\n",
       "    <tr>\n",
       "      <th>2626</th>\n",
       "      <td>Machine Learning Engineer</td>\n",
       "      <td>$85K-$159K (Glassdoor est.)</td>\n",
       "      <td>Req ID: 90379\\n\\nAt NTT DATA Services, we know...</td>\n",
       "      <td>3.4</td>\n",
       "      <td>NTT DATA\\n3.4</td>\n",
       "      <td>Irving, TX</td>\n",
       "      <td>Tokyo, Japan</td>\n",
       "      <td>10000+ employees</td>\n",
       "      <td>1967</td>\n",
       "      <td>Company - Public</td>\n",
       "      <td>IT Services</td>\n",
       "      <td>Information Technology</td>\n",
       "      <td>$10+ billion (USD)</td>\n",
       "      <td>Capgemini, Accenture, Deloitte</td>\n",
       "      <td>-1</td>\n",
       "    </tr>\n",
       "    <tr>\n",
       "      <th>695</th>\n",
       "      <td>Quantitative Analyst</td>\n",
       "      <td>$46K-$80K (Glassdoor est.)</td>\n",
       "      <td>Position Overview\\n\\nWe are seeking a Quantita...</td>\n",
       "      <td>3.8</td>\n",
       "      <td>Magnetar Capital\\n3.8</td>\n",
       "      <td>Evanston, IL</td>\n",
       "      <td>Evanston, IL</td>\n",
       "      <td>201 to 500 employees</td>\n",
       "      <td>2005</td>\n",
       "      <td>Company - Private</td>\n",
       "      <td>Investment Banking &amp; Asset Management</td>\n",
       "      <td>Finance</td>\n",
       "      <td>Unknown / Non-Applicable</td>\n",
       "      <td>AQR Capital Management, Citadel, Two Sigma</td>\n",
       "      <td>-1</td>\n",
       "    </tr>\n",
       "  </tbody>\n",
       "</table>\n",
       "</div>"
      ],
      "text/plain": [
       "                             job_title              salary_estimate  \\\n",
       "2561            Reporting Data Analyst   $49K-$78K (Glassdoor est.)   \n",
       "1428   Big Data Engineer with Cloudera  $92K-$144K (Glassdoor est.)   \n",
       "3906  Security Analytics Data Engineer  $55K-$112K (Glassdoor est.)   \n",
       "2626         Machine Learning Engineer  $85K-$159K (Glassdoor est.)   \n",
       "695               Quantitative Analyst   $46K-$80K (Glassdoor est.)   \n",
       "\n",
       "                                        job_description  rating  \\\n",
       "2561  Power BI and SSIS AzureSQL is a big plus Requi...    -1.0   \n",
       "1428  Hi, Big Data Engineer w Cloudera Location Phoe...     5.0   \n",
       "3906  Job DescriptionThe Security Analytics Data Eng...     3.8   \n",
       "2626  Req ID: 90379\\n\\nAt NTT DATA Services, we know...     3.4   \n",
       "695   Position Overview\\n\\nWe are seeking a Quantita...     3.8   \n",
       "\n",
       "               company_name      location  headquarters  \\\n",
       "2561     Shiro Technologies    Dallas, TX    Dallas, TX   \n",
       "1428        Nucleusteq\\n5.0   Phoenix, AZ   Phoenix, AZ   \n",
       "3906    PDS Tech, Inc.\\n3.8    Dublin, OH    Irving, TX   \n",
       "2626          NTT DATA\\n3.4    Irving, TX  Tokyo, Japan   \n",
       "695   Magnetar Capital\\n3.8  Evanston, IL  Evanston, IL   \n",
       "\n",
       "                         size  founded  type_of_ownership  \\\n",
       "2561        1 to 50 employees       -1  Company - Private   \n",
       "1428     201 to 500 employees     2018  Company - Private   \n",
       "3906  5001 to 10000 employees     1977  Company - Private   \n",
       "2626         10000+ employees     1967   Company - Public   \n",
       "695      201 to 500 employees     2005  Company - Private   \n",
       "\n",
       "                                   industry                  sector  \\\n",
       "2561                                     -1                      -1   \n",
       "1428                            IT Services  Information Technology   \n",
       "3906                 Staffing & Outsourcing       Business Services   \n",
       "2626                            IT Services  Information Technology   \n",
       "695   Investment Banking & Asset Management                 Finance   \n",
       "\n",
       "                         revenue                                 competitors  \\\n",
       "2561  Less than $1 million (USD)                                          -1   \n",
       "1428    $10 to $25 million (USD)                                          -1   \n",
       "3906  $100 to $500 million (USD)                                          -1   \n",
       "2626          $10+ billion (USD)              Capgemini, Accenture, Deloitte   \n",
       "695     Unknown / Non-Applicable  AQR Capital Management, Citadel, Two Sigma   \n",
       "\n",
       "     easy_apply  \n",
       "2561         -1  \n",
       "1428         -1  \n",
       "3906         -1  \n",
       "2626         -1  \n",
       "695          -1  "
      ]
     },
     "execution_count": 23,
     "metadata": {},
     "output_type": "execute_result"
    }
   ],
   "source": [
    "def read_data(df):\n",
    "\n",
    "    df = pd.read_csv(df)\n",
    "    df.columns = df.columns.str.lower().str.replace(' ', '_') # Ensure all columns follow rules of declaring variables in coding\n",
    "    df = df.drop(axis=1, columns=['unnamed:_0', 'index'])\n",
    "    return df\n",
    "\n",
    "df = read_data(df = \"data/DataScientist (1).csv\")\n",
    "print(df.shape)\n",
    "df.sample(5)"
   ]
  },
  {
   "cell_type": "markdown",
   "metadata": {},
   "source": [
    "--- "
   ]
  },
  {
   "cell_type": "markdown",
   "metadata": {},
   "source": [
    "## 2. Data Preprocessing\n",
    "- This entails data cleaning, extracting features, imputing missing values, remove noise etc"
   ]
  },
  {
   "cell_type": "code",
   "execution_count": 24,
   "metadata": {},
   "outputs": [],
   "source": [
    "def clean_salary_estimates(df, column_name='salary_estimate'):\n",
    "    \n",
    "    df[column_name] = df[column_name].str.replace(r'\\(.*\\)', '', regex=True)  # Clean the salary_estimate column by removing extra text in parentheses,remove extra text\n",
    "\n",
    "    # Remove '$' and 'K', then split by '-'\n",
    "    df[['min_salary_estimate', 'max_salary_estimate']] = df[column_name].str.replace(r'[^\\d-]', '', regex=True) \\\n",
    "                                                     .str.split('-', expand=True)\n",
    "    # Replace 'K' with '000' to convert to actual values\n",
    "    df['min_salary_estimate'] = df['min_salary_estimate'].str.replace('K', '').astype(int) * 1000\n",
    "    df['max_salary_estimate'] = df['max_salary_estimate'].str.replace('K', '').astype(int) * 1000\n",
    "\n",
    "    return df"
   ]
  },
  {
   "cell_type": "code",
   "execution_count": 25,
   "metadata": {},
   "outputs": [],
   "source": [
    "def split_revenue(revenue):\n",
    "    if \"to\" in revenue:\n",
    "        return revenue.replace(\" (USD)\", \"\").split(\" to \")\n",
    "    elif \"Less than\" in revenue:\n",
    "        return [\"0\", revenue.replace(\"Less than \", \"\").replace(\" (USD)\", \"\")]\n",
    "    elif \"Unknown\" in revenue or revenue == \"-1\":\n",
    "        return [None, None]\n",
    "    elif \"$10+ billion\" in revenue:\n",
    "        return [\"$10 billion\", None]  # Assuming $10+ billion is minimum at 10B\n",
    "    else:\n",
    "        return [None, None]\n",
    "\n",
    "# Apply function to create min_revenue and max_revenue columns\n",
    "df[[\"min_revenue\", \"max_revenue\"]] = pd.DataFrame(df[\"revenue\"].apply(split_revenue).tolist(), index=df.index)"
   ]
  },
  {
   "cell_type": "code",
   "execution_count": 26,
   "metadata": {},
   "outputs": [],
   "source": [
    "def classify_size(size):\n",
    "    \"\"\"Classify company size based on employee count.\"\"\"\n",
    "    if isinstance(size, str):  # Ensure it's a string\n",
    "        size = size.replace(\" employees\", \"\").strip()\n",
    "        \n",
    "        if size == \"-1\":\n",
    "            return \"Unknown\"\n",
    "        elif \"10000+\" in size:\n",
    "            return \"Large\"\n",
    "        elif \" to \" in size:\n",
    "            min_size, max_size = map(int, size.split(\" to \"))\n",
    "            if max_size <= 200:\n",
    "                return \"Small\"\n",
    "            elif max_size <= 1000:\n",
    "                return \"Medium\"\n",
    "            else:\n",
    "                return \"Large\"\n",
    "            \n",
    "        elif size.isdigit():  # Single number case\n",
    "            num = int(size)\n",
    "            if num <= 200:\n",
    "                return \"Small\"\n",
    "            elif num <= 1000:\n",
    "                return \"Medium\"\n",
    "            else:\n",
    "                return \"Large\"\n",
    "    \n",
    "    return \"Unknown\"\n",
    "\n",
    "# Apply company size classification\n",
    "df[\"company_size_category\"] = df[\"size\"].apply(classify_size)\n"
   ]
  },
  {
   "cell_type": "code",
   "execution_count": 27,
   "metadata": {},
   "outputs": [
    {
     "data": {
      "text/html": [
       "<div>\n",
       "<style scoped>\n",
       "    .dataframe tbody tr th:only-of-type {\n",
       "        vertical-align: middle;\n",
       "    }\n",
       "\n",
       "    .dataframe tbody tr th {\n",
       "        vertical-align: top;\n",
       "    }\n",
       "\n",
       "    .dataframe thead th {\n",
       "        text-align: right;\n",
       "    }\n",
       "</style>\n",
       "<table border=\"1\" class=\"dataframe\">\n",
       "  <thead>\n",
       "    <tr style=\"text-align: right;\">\n",
       "      <th></th>\n",
       "      <th>job_title</th>\n",
       "      <th>salary_estimate</th>\n",
       "      <th>job_description</th>\n",
       "      <th>rating</th>\n",
       "      <th>company_name</th>\n",
       "      <th>location</th>\n",
       "      <th>headquarters</th>\n",
       "      <th>size</th>\n",
       "      <th>founded</th>\n",
       "      <th>type_of_ownership</th>\n",
       "      <th>industry</th>\n",
       "      <th>sector</th>\n",
       "      <th>revenue</th>\n",
       "      <th>competitors</th>\n",
       "      <th>easy_apply</th>\n",
       "      <th>min_revenue</th>\n",
       "      <th>max_revenue</th>\n",
       "      <th>company_size_category</th>\n",
       "      <th>min_salary_estimate</th>\n",
       "      <th>max_salary_estimate</th>\n",
       "    </tr>\n",
       "  </thead>\n",
       "  <tbody>\n",
       "    <tr>\n",
       "      <th>3872</th>\n",
       "      <td>IGM - Post Doctoral Scientist - Chaudhari Lab</td>\n",
       "      <td>$39K-$86K</td>\n",
       "      <td>JOB POSTING - Post Doctoral Scientist IGM\\nFul...</td>\n",
       "      <td>3.7</td>\n",
       "      <td>Nationwide Children's Hospital\\n3.7</td>\n",
       "      <td>Columbus, OH</td>\n",
       "      <td>Columbus, OH</td>\n",
       "      <td>10000+ employees</td>\n",
       "      <td>1892</td>\n",
       "      <td>Nonprofit Organization</td>\n",
       "      <td>Health Care Services &amp; Hospitals</td>\n",
       "      <td>Health Care</td>\n",
       "      <td>$1 to $2 billion (USD)</td>\n",
       "      <td>-1</td>\n",
       "      <td>-1</td>\n",
       "      <td>$1</td>\n",
       "      <td>$2 billion</td>\n",
       "      <td>Large</td>\n",
       "      <td>39000</td>\n",
       "      <td>86000</td>\n",
       "    </tr>\n",
       "    <tr>\n",
       "      <th>250</th>\n",
       "      <td>Senior Data Scientist</td>\n",
       "      <td>$133K-$171K</td>\n",
       "      <td>Description\\n\\nThe Senior Data Scientist uses ...</td>\n",
       "      <td>3.6</td>\n",
       "      <td>Humana\\n3.6</td>\n",
       "      <td>Jersey City, NJ</td>\n",
       "      <td>Louisville, KY</td>\n",
       "      <td>10000+ employees</td>\n",
       "      <td>1961</td>\n",
       "      <td>Company - Public</td>\n",
       "      <td>Insurance Carriers</td>\n",
       "      <td>Insurance</td>\n",
       "      <td>$10+ billion (USD)</td>\n",
       "      <td>Cigna, Aetna, UnitedHealth Group</td>\n",
       "      <td>-1</td>\n",
       "      <td>$10 billion</td>\n",
       "      <td>None</td>\n",
       "      <td>Large</td>\n",
       "      <td>133000</td>\n",
       "      <td>171000</td>\n",
       "    </tr>\n",
       "    <tr>\n",
       "      <th>1537</th>\n",
       "      <td>Big Data Engineer</td>\n",
       "      <td>$84K-$156K</td>\n",
       "      <td>2 to 3 years' experience designing and develop...</td>\n",
       "      <td>4.0</td>\n",
       "      <td>Lorven Technologies Inc\\n4.0</td>\n",
       "      <td>Phoenix, AZ</td>\n",
       "      <td>Plainsboro, NJ</td>\n",
       "      <td>1 to 50 employees</td>\n",
       "      <td>-1</td>\n",
       "      <td>Company - Private</td>\n",
       "      <td>Accounting</td>\n",
       "      <td>Accounting &amp; Legal</td>\n",
       "      <td>Less than $1 million (USD)</td>\n",
       "      <td>-1</td>\n",
       "      <td>-1</td>\n",
       "      <td>0</td>\n",
       "      <td>$1 million</td>\n",
       "      <td>Small</td>\n",
       "      <td>84000</td>\n",
       "      <td>156000</td>\n",
       "    </tr>\n",
       "    <tr>\n",
       "      <th>3863</th>\n",
       "      <td>Data Engineer (Enterprise Content Management w...</td>\n",
       "      <td>$39K-$86K</td>\n",
       "      <td>Hello, We have an opening for Data Engineer (E...</td>\n",
       "      <td>4.0</td>\n",
       "      <td>JASStek Inc.\\n4.0</td>\n",
       "      <td>Columbus, OH</td>\n",
       "      <td>Dublin, OH</td>\n",
       "      <td>1 to 50 employees</td>\n",
       "      <td>2004</td>\n",
       "      <td>Company - Private</td>\n",
       "      <td>Computer Hardware &amp; Software</td>\n",
       "      <td>Information Technology</td>\n",
       "      <td>$1 to $5 million (USD)</td>\n",
       "      <td>-1</td>\n",
       "      <td>-1</td>\n",
       "      <td>$1</td>\n",
       "      <td>$5 million</td>\n",
       "      <td>Small</td>\n",
       "      <td>39000</td>\n",
       "      <td>86000</td>\n",
       "    </tr>\n",
       "  </tbody>\n",
       "</table>\n",
       "</div>"
      ],
      "text/plain": [
       "                                              job_title salary_estimate  \\\n",
       "3872      IGM - Post Doctoral Scientist - Chaudhari Lab      $39K-$86K    \n",
       "250                               Senior Data Scientist    $133K-$171K    \n",
       "1537                                  Big Data Engineer     $84K-$156K    \n",
       "3863  Data Engineer (Enterprise Content Management w...      $39K-$86K    \n",
       "\n",
       "                                        job_description  rating  \\\n",
       "3872  JOB POSTING - Post Doctoral Scientist IGM\\nFul...     3.7   \n",
       "250   Description\\n\\nThe Senior Data Scientist uses ...     3.6   \n",
       "1537  2 to 3 years' experience designing and develop...     4.0   \n",
       "3863  Hello, We have an opening for Data Engineer (E...     4.0   \n",
       "\n",
       "                             company_name         location    headquarters  \\\n",
       "3872  Nationwide Children's Hospital\\n3.7     Columbus, OH    Columbus, OH   \n",
       "250                           Humana\\n3.6  Jersey City, NJ  Louisville, KY   \n",
       "1537         Lorven Technologies Inc\\n4.0      Phoenix, AZ  Plainsboro, NJ   \n",
       "3863                    JASStek Inc.\\n4.0     Columbus, OH      Dublin, OH   \n",
       "\n",
       "                   size  founded       type_of_ownership  \\\n",
       "3872   10000+ employees     1892  Nonprofit Organization   \n",
       "250    10000+ employees     1961        Company - Public   \n",
       "1537  1 to 50 employees       -1       Company - Private   \n",
       "3863  1 to 50 employees     2004       Company - Private   \n",
       "\n",
       "                              industry                  sector  \\\n",
       "3872  Health Care Services & Hospitals             Health Care   \n",
       "250                 Insurance Carriers               Insurance   \n",
       "1537                        Accounting      Accounting & Legal   \n",
       "3863      Computer Hardware & Software  Information Technology   \n",
       "\n",
       "                         revenue                       competitors easy_apply  \\\n",
       "3872      $1 to $2 billion (USD)                                -1         -1   \n",
       "250           $10+ billion (USD)  Cigna, Aetna, UnitedHealth Group         -1   \n",
       "1537  Less than $1 million (USD)                                -1         -1   \n",
       "3863      $1 to $5 million (USD)                                -1         -1   \n",
       "\n",
       "      min_revenue max_revenue company_size_category  min_salary_estimate  \\\n",
       "3872           $1  $2 billion                 Large                39000   \n",
       "250   $10 billion        None                 Large               133000   \n",
       "1537            0  $1 million                 Small                84000   \n",
       "3863           $1  $5 million                 Small                39000   \n",
       "\n",
       "      max_salary_estimate  \n",
       "3872                86000  \n",
       "250                171000  \n",
       "1537               156000  \n",
       "3863                86000  "
      ]
     },
     "execution_count": 27,
     "metadata": {},
     "output_type": "execute_result"
    }
   ],
   "source": [
    "df = df[~df['sector'].str.contains(r'\\d', na=False)] # Remove numbers on feature sector\n",
    "df = clean_salary_estimates(df)\n",
    "df.sample(4)"
   ]
  },
  {
   "cell_type": "markdown",
   "metadata": {},
   "source": [
    "---"
   ]
  },
  {
   "cell_type": "markdown",
   "metadata": {},
   "source": [
    "<div style=\"text-align:center; font-size:30px; font-weight:bold;\"> Derive insights of strategic value</div>"
   ]
  },
  {
   "cell_type": "markdown",
   "metadata": {},
   "source": [
    "## Salary By Sector"
   ]
  },
  {
   "cell_type": "code",
   "execution_count": 28,
   "metadata": {},
   "outputs": [
    {
     "data": {
      "application/vnd.plotly.v1+json": {
       "config": {
        "plotlyServerURL": "https://plot.ly"
       },
       "data": [
        {
         "alignmentgroup": "True",
         "hovertemplate": "sector=%{x}<br>min_salary_estimate=%{y}<extra></extra>",
         "legendgroup": "",
         "marker": {
          "color": "#636efa"
         },
         "name": "",
         "notched": false,
         "offsetgroup": "",
         "orientation": "v",
         "showlegend": false,
         "type": "box",
         "x": [
          "Travel & Tourism",
          "Consumer Services",
          "Information Technology",
          "Business Services",
          "Insurance",
          "Finance",
          "Information Technology",
          "Finance",
          "Information Technology",
          "Information Technology",
          "Information Technology",
          "Finance",
          "Finance",
          "Business Services",
          "Retail",
          "Business Services",
          "Retail",
          "Business Services",
          "Media",
          "Information Technology",
          "Finance",
          "Information Technology",
          "Business Services",
          "Information Technology",
          "Information Technology",
          "Insurance",
          "Consumer Services",
          "Insurance",
          "Information Technology",
          "Information Technology",
          "Finance",
          "Business Services",
          "Insurance",
          "Information Technology",
          "Restaurants, Bars & Food Services",
          "Retail",
          "Restaurants, Bars & Food Services",
          "Agriculture & Forestry",
          "Finance",
          "Business Services",
          "Information Technology",
          "Non-Profit",
          "Retail",
          "Business Services",
          "Finance",
          "Education",
          "Finance",
          "Finance",
          "Information Technology",
          "Information Technology",
          "Insurance",
          "Business Services",
          "Information Technology",
          "Information Technology",
          "Information Technology",
          "Information Technology",
          "Information Technology",
          "Business Services",
          "Finance",
          "Finance",
          "Business Services",
          "Finance",
          "Information Technology",
          "Non-Profit",
          "Information Technology",
          "Business Services",
          "Information Technology",
          "Media",
          "Finance",
          "Media",
          "Information Technology",
          "Business Services",
          "Government",
          "Health Care",
          "Information Technology",
          "Information Technology",
          "Information Technology",
          "Finance",
          "Information Technology",
          "Business Services",
          "Information Technology",
          "Oil, Gas, Energy & Utilities",
          "Business Services",
          "Health Care",
          "Information Technology",
          "Retail",
          "Retail",
          "Business Services",
          "Finance",
          "Finance",
          "Information Technology",
          "Business Services",
          "Business Services",
          "Information Technology",
          "Non-Profit",
          "Business Services",
          "Finance",
          "Business Services",
          "Business Services",
          "Business Services",
          "Business Services",
          "Government",
          "Retail",
          "Information Technology",
          "Information Technology",
          "Information Technology",
          "Finance",
          "Media",
          "Information Technology",
          "Health Care",
          "Information Technology",
          "Information Technology",
          "Information Technology",
          "Finance",
          "Information Technology",
          "Accounting & Legal",
          "Consumer Services",
          "Media",
          "Information Technology",
          "Information Technology",
          "Education",
          "Information Technology",
          "Information Technology",
          "Information Technology",
          "Business Services",
          "Information Technology",
          "Information Technology",
          "Information Technology",
          "Manufacturing",
          "Business Services",
          "Finance",
          "Business Services",
          "Business Services",
          "Information Technology",
          "Information Technology",
          "Business Services",
          "Information Technology",
          "Finance",
          "Business Services",
          "Health Care",
          "Insurance",
          "Business Services",
          "Information Technology",
          "Health Care",
          "Government",
          "Health Care",
          "Insurance",
          "Real Estate",
          "Information Technology",
          "Information Technology",
          "Health Care",
          "Information Technology",
          "Information Technology",
          "Information Technology",
          "Information Technology",
          "Retail",
          "Information Technology",
          "Health Care",
          "Information Technology",
          "Information Technology",
          "Retail",
          "Information Technology",
          "Agriculture & Forestry",
          "Information Technology",
          "Business Services",
          "Information Technology",
          "Consumer Services",
          "Business Services",
          "Media",
          "Information Technology",
          "Business Services",
          "Insurance",
          "Biotech & Pharmaceuticals",
          "Business Services",
          "Finance",
          "Retail",
          "Information Technology",
          "Business Services",
          "Information Technology",
          "Business Services",
          "Business Services",
          "Information Technology",
          "Business Services",
          "Business Services",
          "Business Services",
          "Insurance",
          "Insurance",
          "Health Care",
          "Finance",
          "Health Care",
          "Finance",
          "Consumer Services",
          "Finance",
          "Business Services",
          "Information Technology",
          "Business Services",
          "Information Technology",
          "Retail",
          "Business Services",
          "Finance",
          "Information Technology",
          "Information Technology",
          "Finance",
          "Media",
          "Information Technology",
          "Insurance",
          "Media",
          "Business Services",
          "Restaurants, Bars & Food Services",
          "Information Technology",
          "Business Services",
          "Business Services",
          "Insurance",
          "Non-Profit",
          "Information Technology",
          "Business Services",
          "Information Technology",
          "Manufacturing",
          "Insurance",
          "Business Services",
          "Information Technology",
          "Information Technology",
          "Information Technology",
          "Finance",
          "Finance",
          "Retail",
          "Information Technology",
          "Media",
          "Information Technology",
          "Finance",
          "Information Technology",
          "Business Services",
          "Information Technology",
          "Business Services",
          "Information Technology",
          "Information Technology",
          "Finance",
          "Finance",
          "Information Technology",
          "Health Care",
          "Health Care",
          "Information Technology",
          "Finance",
          "Finance",
          "Government",
          "Information Technology",
          "Information Technology",
          "Finance",
          "Finance",
          "Business Services",
          "Health Care",
          "Arts, Entertainment & Recreation",
          "Finance",
          "Finance",
          "Retail",
          "Finance",
          "Finance",
          "Information Technology",
          "Finance",
          "Retail",
          "Business Services",
          "Government",
          "Non-Profit",
          "Information Technology",
          "Information Technology",
          "Business Services",
          "Retail",
          "Information Technology",
          "Information Technology",
          "Business Services",
          "Business Services",
          "Information Technology",
          "Information Technology",
          "Information Technology",
          "Information Technology",
          "Information Technology",
          "Insurance",
          "Insurance",
          "Biotech & Pharmaceuticals",
          "Business Services",
          "Information Technology",
          "Information Technology",
          "Media",
          "Finance",
          "Information Technology",
          "Finance",
          "Media",
          "Business Services",
          "Media",
          "Media",
          "Information Technology",
          "Retail",
          "Media",
          "Insurance",
          "Aerospace & Defense",
          "Health Care",
          "Business Services",
          "Business Services",
          "Business Services",
          "Information Technology",
          "Finance",
          "Information Technology",
          "Information Technology",
          "Business Services",
          "Information Technology",
          "Information Technology",
          "Media",
          "Information Technology",
          "Government",
          "Finance",
          "Information Technology",
          "Information Technology",
          "Finance",
          "Finance",
          "Information Technology",
          "Information Technology",
          "Information Technology",
          "Media",
          "Information Technology",
          "Oil, Gas, Energy & Utilities",
          "Media",
          "Health Care",
          "Health Care",
          "Information Technology",
          "Real Estate",
          "Information Technology",
          "Real Estate",
          "Construction, Repair & Maintenance",
          "Business Services",
          "Transportation & Logistics",
          "Information Technology",
          "Retail",
          "Finance",
          "Biotech & Pharmaceuticals",
          "Business Services",
          "Information Technology",
          "Business Services",
          "Information Technology",
          "Information Technology",
          "Information Technology",
          "Transportation & Logistics",
          "Real Estate",
          "Health Care",
          "Non-Profit",
          "Retail",
          "Information Technology",
          "Business Services",
          "Information Technology",
          "Non-Profit",
          "Finance",
          "Information Technology",
          "Information Technology",
          "Information Technology",
          "Information Technology",
          "Finance",
          "Media",
          "Media",
          "Media",
          "Finance",
          "Business Services",
          "Information Technology",
          "Business Services",
          "Information Technology",
          "Information Technology",
          "Information Technology",
          "Business Services",
          "Health Care",
          "Information Technology",
          "Media",
          "Information Technology",
          "Media",
          "Business Services",
          "Biotech & Pharmaceuticals",
          "Media",
          "Information Technology",
          "Information Technology",
          "Business Services",
          "Information Technology",
          "Information Technology",
          "Business Services",
          "Education",
          "Aerospace & Defense",
          "Manufacturing",
          "Retail",
          "Business Services",
          "Information Technology",
          "Information Technology",
          "Education",
          "Business Services",
          "Biotech & Pharmaceuticals",
          "Biotech & Pharmaceuticals",
          "Business Services",
          "Information Technology",
          "Information Technology",
          "Aerospace & Defense",
          "Media",
          "Finance",
          "Education",
          "Information Technology",
          "Business Services",
          "Retail",
          "Government",
          "Construction, Repair & Maintenance",
          "Retail",
          "Information Technology",
          "Business Services",
          "Insurance",
          "Media",
          "Information Technology",
          "Information Technology",
          "Information Technology",
          "Media",
          "Consumer Services",
          "Government",
          "Non-Profit",
          "Education",
          "Information Technology",
          "Business Services",
          "Education",
          "Aerospace & Defense",
          "Government",
          "Business Services",
          "Transportation & Logistics",
          "Information Technology",
          "Biotech & Pharmaceuticals",
          "Finance",
          "Information Technology",
          "Manufacturing",
          "Business Services",
          "Business Services",
          "Business Services",
          "Biotech & Pharmaceuticals",
          "Health Care",
          "Business Services",
          "Media",
          "Information Technology",
          "Business Services",
          "Information Technology",
          "Manufacturing",
          "Accounting & Legal",
          "Information Technology",
          "Education",
          "Education",
          "Information Technology",
          "Health Care",
          "Health Care",
          "Construction, Repair & Maintenance",
          "Business Services",
          "Information Technology",
          "Information Technology",
          "Business Services",
          "Information Technology",
          "Business Services",
          "Information Technology",
          "Business Services",
          "Information Technology",
          "Business Services",
          "Media",
          "Business Services",
          "Finance",
          "Information Technology",
          "Information Technology",
          "Health Care",
          "Information Technology",
          "Information Technology",
          "Health Care",
          "Biotech & Pharmaceuticals",
          "Information Technology",
          "Information Technology",
          "Biotech & Pharmaceuticals",
          "Media",
          "Accounting & Legal",
          "Aerospace & Defense",
          "Media",
          "Information Technology",
          "Finance",
          "Manufacturing",
          "Media",
          "Health Care",
          "Business Services",
          "Information Technology",
          "Media",
          "Information Technology",
          "Consumer Services",
          "Information Technology",
          "Business Services",
          "Information Technology",
          "Business Services",
          "Media",
          "Health Care",
          "Media",
          "Information Technology",
          "Information Technology",
          "Accounting & Legal",
          "Information Technology",
          "Media",
          "Media",
          "Manufacturing",
          "Information Technology",
          "Health Care",
          "Insurance",
          "Real Estate",
          "Insurance",
          "Media",
          "Health Care",
          "Information Technology",
          "Biotech & Pharmaceuticals",
          "Media",
          "Finance",
          "Media",
          "Agriculture & Forestry",
          "Information Technology",
          "Finance",
          "Media",
          "Information Technology",
          "Biotech & Pharmaceuticals",
          "Business Services",
          "Health Care",
          "Education",
          "Information Technology",
          "Finance",
          "Information Technology",
          "Business Services",
          "Biotech & Pharmaceuticals",
          "Information Technology",
          "Biotech & Pharmaceuticals",
          "Business Services",
          "Business Services",
          "Agriculture & Forestry",
          "Media",
          "Government",
          "Insurance",
          "Information Technology",
          "Information Technology",
          "Biotech & Pharmaceuticals",
          "Information Technology",
          "Government",
          "Health Care",
          "Information Technology",
          "Media",
          "Business Services",
          "Business Services",
          "Business Services",
          "Media",
          "Business Services",
          "Information Technology",
          "Biotech & Pharmaceuticals",
          "Aerospace & Defense",
          "Business Services",
          "Manufacturing",
          "Construction, Repair & Maintenance",
          "Business Services",
          "Business Services",
          "Media",
          "Media",
          "Information Technology",
          "Media",
          "Biotech & Pharmaceuticals",
          "Health Care",
          "Health Care",
          "Health Care",
          "Business Services",
          "Biotech & Pharmaceuticals",
          "Insurance",
          "Business Services",
          "Finance",
          "Telecommunications",
          "Information Technology",
          "Information Technology",
          "Consumer Services",
          "Insurance",
          "Business Services",
          "Media",
          "Manufacturing",
          "Business Services",
          "Information Technology",
          "Information Technology",
          "Health Care",
          "Information Technology",
          "Transportation & Logistics",
          "Business Services",
          "Retail",
          "Health Care",
          "Education",
          "Health Care",
          "Construction, Repair & Maintenance",
          "Health Care",
          "Health Care",
          "Biotech & Pharmaceuticals",
          "Information Technology",
          "Finance",
          "Information Technology",
          "Finance",
          "Finance",
          "Finance",
          "Information Technology",
          "Business Services",
          "Finance",
          "Finance",
          "Business Services",
          "Finance",
          "Business Services",
          "Information Technology",
          "Arts, Entertainment & Recreation",
          "Information Technology",
          "Retail",
          "Business Services",
          "Information Technology",
          "Finance",
          "Manufacturing",
          "Health Care",
          "Insurance",
          "Insurance",
          "Information Technology",
          "Health Care",
          "Manufacturing",
          "Business Services",
          "Information Technology",
          "Information Technology",
          "Retail",
          "Information Technology",
          "Information Technology",
          "Information Technology",
          "Manufacturing",
          "Information Technology",
          "Information Technology",
          "Information Technology",
          "Finance",
          "Information Technology",
          "Information Technology",
          "Information Technology",
          "Information Technology",
          "Media",
          "Business Services",
          "Information Technology",
          "Information Technology",
          "Information Technology",
          "Information Technology",
          "Business Services",
          "Government",
          "Information Technology",
          "Government",
          "Business Services",
          "Business Services",
          "Business Services",
          "Information Technology",
          "Manufacturing",
          "Information Technology",
          "Information Technology",
          "Finance",
          "Business Services",
          "Business Services",
          "Media",
          "Business Services",
          "Finance",
          "Finance",
          "Information Technology",
          "Health Care",
          "Travel & Tourism",
          "Information Technology",
          "Transportation & Logistics",
          "Business Services",
          "Finance",
          "Finance",
          "Business Services",
          "Business Services",
          "Business Services",
          "Insurance",
          "Information Technology",
          "Information Technology",
          "Finance",
          "Business Services",
          "Education",
          "Business Services",
          "Biotech & Pharmaceuticals",
          "Finance",
          "Information Technology",
          "Manufacturing",
          "Business Services",
          "Finance",
          "Finance",
          "Education",
          "Finance",
          "Information Technology",
          "Manufacturing",
          "Education",
          "Finance",
          "Information Technology",
          "Insurance",
          "Business Services",
          "Business Services",
          "Manufacturing",
          "Health Care",
          "Finance",
          "Health Care",
          "Finance",
          "Finance",
          "Business Services",
          "Insurance",
          "Insurance",
          "Information Technology",
          "Business Services",
          "Health Care",
          "Oil, Gas, Energy & Utilities",
          "Biotech & Pharmaceuticals",
          "Business Services",
          "Business Services",
          "Finance",
          "Information Technology",
          "Information Technology",
          "Information Technology",
          "Non-Profit",
          "Business Services",
          "Health Care",
          "Health Care",
          "Health Care",
          "Biotech & Pharmaceuticals",
          "Travel & Tourism",
          "Finance",
          "Biotech & Pharmaceuticals",
          "Information Technology",
          "Finance",
          "Business Services",
          "Information Technology",
          "Information Technology",
          "Education",
          "Information Technology",
          "Information Technology",
          "Media",
          "Information Technology",
          "Information Technology",
          "Information Technology",
          "Information Technology",
          "Business Services",
          "Information Technology",
          "Finance",
          "Information Technology",
          "Information Technology",
          "Information Technology",
          "Business Services",
          "Education",
          "Business Services",
          "Information Technology",
          "Business Services",
          "Insurance",
          "Business Services",
          "Business Services",
          "Information Technology",
          "Information Technology",
          "Finance",
          "Finance",
          "Business Services",
          "Insurance",
          "Business Services",
          "Education",
          "Information Technology",
          "Information Technology",
          "Business Services",
          "Business Services",
          "Business Services",
          "Business Services",
          "Information Technology",
          "Finance",
          "Accounting & Legal",
          "Business Services",
          "Business Services",
          "Business Services",
          "Information Technology",
          "Finance",
          "Media",
          "Information Technology",
          "Business Services",
          "Information Technology",
          "Information Technology",
          "Education",
          "Information Technology",
          "Business Services",
          "Finance",
          "Information Technology",
          "Finance",
          "Finance",
          "Media",
          "Business Services",
          "Information Technology",
          "Biotech & Pharmaceuticals",
          "Finance",
          "Non-Profit",
          "Information Technology",
          "Manufacturing",
          "Health Care",
          "Information Technology",
          "Business Services",
          "Business Services",
          "Manufacturing",
          "Information Technology",
          "Manufacturing",
          "Finance",
          "Business Services",
          "Education",
          "Finance",
          "Business Services",
          "Information Technology",
          "Information Technology",
          "Information Technology",
          "Health Care",
          "Business Services",
          "Information Technology",
          "Biotech & Pharmaceuticals",
          "Accounting & Legal",
          "Information Technology",
          "Manufacturing",
          "Information Technology",
          "Information Technology",
          "Health Care",
          "Business Services",
          "Business Services",
          "Health Care",
          "Business Services",
          "Business Services",
          "Insurance",
          "Biotech & Pharmaceuticals",
          "Finance",
          "Finance",
          "Business Services",
          "Information Technology",
          "Insurance",
          "Health Care",
          "Business Services",
          "Information Technology",
          "Information Technology",
          "Information Technology",
          "Information Technology",
          "Biotech & Pharmaceuticals",
          "Manufacturing",
          "Information Technology",
          "Business Services",
          "Finance",
          "Information Technology",
          "Biotech & Pharmaceuticals",
          "Business Services",
          "Business Services",
          "Business Services",
          "Manufacturing",
          "Finance",
          "Education",
          "Business Services",
          "Business Services",
          "Real Estate",
          "Accounting & Legal",
          "Business Services",
          "Information Technology",
          "Health Care",
          "Transportation & Logistics",
          "Business Services",
          "Government",
          "Media",
          "Business Services",
          "Business Services",
          "Information Technology",
          "Information Technology",
          "Biotech & Pharmaceuticals",
          "Health Care",
          "Biotech & Pharmaceuticals",
          "Business Services",
          "Business Services",
          "Health Care",
          "Health Care",
          "Health Care",
          "Information Technology",
          "Business Services",
          "Finance",
          "Information Technology",
          "Information Technology",
          "Finance",
          "Business Services",
          "Accounting & Legal",
          "Biotech & Pharmaceuticals",
          "Government",
          "Business Services",
          "Government",
          "Information Technology",
          "Insurance",
          "Information Technology",
          "Finance",
          "Health Care",
          "Manufacturing",
          "Business Services",
          "Information Technology",
          "Business Services",
          "Insurance",
          "Business Services",
          "Business Services",
          "Business Services",
          "Information Technology",
          "Real Estate",
          "Construction, Repair & Maintenance",
          "Business Services",
          "Business Services",
          "Accounting & Legal",
          "Information Technology",
          "Biotech & Pharmaceuticals",
          "Information Technology",
          "Information Technology",
          "Information Technology",
          "Health Care",
          "Media",
          "Education",
          "Accounting & Legal",
          "Finance",
          "Oil, Gas, Energy & Utilities",
          "Business Services",
          "Information Technology",
          "Oil, Gas, Energy & Utilities",
          "Information Technology",
          "Information Technology",
          "Oil, Gas, Energy & Utilities",
          "Oil, Gas, Energy & Utilities",
          "Oil, Gas, Energy & Utilities",
          "Government",
          "Business Services",
          "Biotech & Pharmaceuticals",
          "Business Services",
          "Insurance",
          "Business Services",
          "Information Technology",
          "Manufacturing",
          "Business Services",
          "Government",
          "Information Technology",
          "Education",
          "Oil, Gas, Energy & Utilities",
          "Business Services",
          "Information Technology",
          "Education",
          "Information Technology",
          "Business Services",
          "Information Technology",
          "Accounting & Legal",
          "Government",
          "Accounting & Legal",
          "Information Technology",
          "Biotech & Pharmaceuticals",
          "Oil, Gas, Energy & Utilities",
          "Information Technology",
          "Finance",
          "Restaurants, Bars & Food Services",
          "Business Services",
          "Information Technology",
          "Finance",
          "Accounting & Legal",
          "Business Services",
          "Information Technology",
          "Manufacturing",
          "Accounting & Legal",
          "Government",
          "Telecommunications",
          "Business Services",
          "Information Technology",
          "Information Technology",
          "Business Services",
          "Health Care",
          "Business Services",
          "Information Technology",
          "Information Technology",
          "Information Technology",
          "Business Services",
          "Information Technology",
          "Information Technology",
          "Business Services",
          "Biotech & Pharmaceuticals",
          "Health Care",
          "Oil, Gas, Energy & Utilities",
          "Information Technology",
          "Health Care",
          "Health Care",
          "Manufacturing",
          "Information Technology",
          "Business Services",
          "Business Services",
          "Information Technology",
          "Information Technology",
          "Information Technology",
          "Manufacturing",
          "Aerospace & Defense",
          "Information Technology",
          "Information Technology",
          "Information Technology",
          "Oil, Gas, Energy & Utilities",
          "Manufacturing",
          "Business Services",
          "Business Services",
          "Finance",
          "Business Services",
          "Business Services",
          "Oil, Gas, Energy & Utilities",
          "Health Care",
          "Restaurants, Bars & Food Services",
          "Health Care",
          "Real Estate",
          "Biotech & Pharmaceuticals",
          "Accounting & Legal",
          "Business Services",
          "Manufacturing",
          "Business Services",
          "Business Services",
          "Education",
          "Construction, Repair & Maintenance",
          "Manufacturing",
          "Business Services",
          "Finance",
          "Accounting & Legal",
          "Information Technology",
          "Information Technology",
          "Biotech & Pharmaceuticals",
          "Information Technology",
          "Health Care",
          "Business Services",
          "Health Care",
          "Retail",
          "Manufacturing",
          "Oil, Gas, Energy & Utilities",
          "Health Care",
          "Information Technology",
          "Finance",
          "Manufacturing",
          "Information Technology",
          "Health Care",
          "Business Services",
          "Information Technology",
          "Information Technology",
          "Health Care",
          "Manufacturing",
          "Finance",
          "Information Technology",
          "Biotech & Pharmaceuticals",
          "Business Services",
          "Consumer Services",
          "Business Services",
          "Finance",
          "Government",
          "Information Technology",
          "Biotech & Pharmaceuticals",
          "Business Services",
          "Manufacturing",
          "Business Services",
          "Information Technology",
          "Oil, Gas, Energy & Utilities",
          "Health Care",
          "Health Care",
          "Business Services",
          "Manufacturing",
          "Accounting & Legal",
          "Health Care",
          "Accounting & Legal",
          "Health Care",
          "Construction, Repair & Maintenance",
          "Information Technology",
          "Health Care",
          "Health Care",
          "Information Technology",
          "Business Services",
          "Health Care",
          "Health Care",
          "Business Services",
          "Finance",
          "Health Care",
          "Health Care",
          "Health Care",
          "Health Care",
          "Manufacturing",
          "Accounting & Legal",
          "Health Care",
          "Health Care",
          "Health Care",
          "Information Technology",
          "Business Services",
          "Business Services",
          "Accounting & Legal",
          "Business Services",
          "Accounting & Legal",
          "Information Technology",
          "Accounting & Legal",
          "Information Technology",
          "Health Care",
          "Insurance",
          "Insurance",
          "Finance",
          "Biotech & Pharmaceuticals",
          "Business Services",
          "Accounting & Legal",
          "Health Care",
          "Health Care",
          "Health Care",
          "Telecommunications",
          "Business Services",
          "Health Care",
          "Business Services",
          "Information Technology",
          "Information Technology",
          "Business Services",
          "Information Technology",
          "Information Technology",
          "Information Technology",
          "Information Technology",
          "Information Technology",
          "Information Technology",
          "Retail",
          "Business Services",
          "Business Services",
          "Information Technology",
          "Finance",
          "Insurance",
          "Insurance",
          "Information Technology",
          "Real Estate",
          "Information Technology",
          "Business Services",
          "Business Services",
          "Construction, Repair & Maintenance",
          "Information Technology",
          "Business Services",
          "Information Technology",
          "Information Technology",
          "Information Technology",
          "Business Services",
          "Information Technology",
          "Information Technology",
          "Government",
          "Business Services",
          "Finance",
          "Information Technology",
          "Information Technology",
          "Information Technology",
          "Information Technology",
          "Insurance",
          "Education",
          "Information Technology",
          "Information Technology",
          "Information Technology",
          "Information Technology",
          "Information Technology",
          "Telecommunications",
          "Education",
          "Business Services",
          "Telecommunications",
          "Information Technology",
          "Finance",
          "Business Services",
          "Insurance",
          "Information Technology",
          "Finance",
          "Manufacturing",
          "Health Care",
          "Construction, Repair & Maintenance",
          "Insurance",
          "Finance",
          "Retail",
          "Information Technology",
          "Finance",
          "Finance",
          "Insurance",
          "Information Technology",
          "Business Services",
          "Business Services",
          "Business Services",
          "Retail",
          "Finance",
          "Manufacturing",
          "Information Technology",
          "Information Technology",
          "Information Technology",
          "Business Services",
          "Information Technology",
          "Business Services",
          "Information Technology",
          "Business Services",
          "Information Technology",
          "Retail",
          "Information Technology",
          "Retail",
          "Information Technology",
          "Business Services",
          "Business Services",
          "Business Services",
          "Business Services",
          "Health Care",
          "Information Technology",
          "Business Services",
          "Information Technology",
          "Finance",
          "Information Technology",
          "Information Technology",
          "Health Care",
          "Information Technology",
          "Finance",
          "Information Technology",
          "Retail",
          "Accounting & Legal",
          "Finance",
          "Information Technology",
          "Biotech & Pharmaceuticals",
          "Information Technology",
          "Finance",
          "Business Services",
          "Education",
          "Insurance",
          "Information Technology",
          "Information Technology",
          "Business Services",
          "Health Care",
          "Business Services",
          "Business Services",
          "Information Technology",
          "Retail",
          "Business Services",
          "Information Technology",
          "Information Technology",
          "Retail",
          "Health Care",
          "Retail",
          "Information Technology",
          "Finance",
          "Business Services",
          "Government",
          "Business Services",
          "Health Care",
          "Information Technology",
          "Business Services",
          "Information Technology",
          "Information Technology",
          "Information Technology",
          "Information Technology",
          "Information Technology",
          "Health Care",
          "Information Technology",
          "Transportation & Logistics",
          "Business Services",
          "Business Services",
          "Information Technology",
          "Accounting & Legal",
          "Government",
          "Biotech & Pharmaceuticals",
          "Information Technology",
          "Finance",
          "Health Care",
          "Business Services",
          "Retail",
          "Business Services",
          "Information Technology",
          "Information Technology",
          "Information Technology",
          "Business Services",
          "Information Technology",
          "Construction, Repair & Maintenance",
          "Information Technology",
          "Business Services",
          "Finance",
          "Information Technology",
          "Information Technology",
          "Information Technology",
          "Business Services",
          "Information Technology",
          "Health Care",
          "Business Services",
          "Business Services",
          "Accounting & Legal",
          "Information Technology",
          "Business Services",
          "Health Care",
          "Government",
          "Information Technology",
          "Business Services",
          "Business Services",
          "Information Technology",
          "Information Technology",
          "Manufacturing",
          "Finance",
          "Information Technology",
          "Retail",
          "Manufacturing",
          "Telecommunications",
          "Insurance",
          "Health Care",
          "Business Services",
          "Information Technology",
          "Business Services",
          "Business Services",
          "Information Technology",
          "Finance",
          "Business Services",
          "Government",
          "Business Services",
          "Information Technology",
          "Business Services",
          "Information Technology",
          "Retail",
          "Information Technology",
          "Information Technology",
          "Business Services",
          "Business Services",
          "Business Services",
          "Information Technology",
          "Information Technology",
          "Business Services",
          "Information Technology",
          "Information Technology",
          "Manufacturing",
          "Business Services",
          "Accounting & Legal",
          "Business Services",
          "Business Services",
          "Education",
          "Manufacturing",
          "Business Services",
          "Information Technology",
          "Retail",
          "Information Technology",
          "Health Care",
          "Information Technology",
          "Insurance",
          "Insurance",
          "Retail",
          "Business Services",
          "Information Technology",
          "Information Technology",
          "Finance",
          "Finance",
          "Transportation & Logistics",
          "Information Technology",
          "Telecommunications",
          "Information Technology",
          "Information Technology",
          "Information Technology",
          "Information Technology",
          "Business Services",
          "Information Technology",
          "Information Technology",
          "Accounting & Legal",
          "Insurance",
          "Business Services",
          "Business Services",
          "Business Services",
          "Business Services",
          "Information Technology",
          "Information Technology",
          "Information Technology",
          "Information Technology",
          "Business Services",
          "Business Services",
          "Information Technology",
          "Accounting & Legal",
          "Accounting & Legal",
          "Information Technology",
          "Information Technology",
          "Information Technology",
          "Biotech & Pharmaceuticals",
          "Business Services",
          "Finance",
          "Information Technology",
          "Health Care",
          "Biotech & Pharmaceuticals",
          "Arts, Entertainment & Recreation",
          "Business Services",
          "Education",
          "Consumer Services",
          "Information Technology",
          "Arts, Entertainment & Recreation",
          "Information Technology",
          "Information Technology",
          "Aerospace & Defense",
          "Information Technology",
          "Aerospace & Defense",
          "Finance",
          "Business Services",
          "Biotech & Pharmaceuticals",
          "Finance",
          "Information Technology",
          "Biotech & Pharmaceuticals",
          "Manufacturing",
          "Business Services",
          "Education",
          "Retail",
          "Information Technology",
          "Business Services",
          "Information Technology",
          "Information Technology",
          "Business Services",
          "Government",
          "Information Technology",
          "Insurance",
          "Finance",
          "Business Services",
          "Business Services",
          "Biotech & Pharmaceuticals",
          "Biotech & Pharmaceuticals",
          "Information Technology",
          "Finance",
          "Biotech & Pharmaceuticals",
          "Biotech & Pharmaceuticals",
          "Business Services",
          "Biotech & Pharmaceuticals",
          "Business Services",
          "Business Services",
          "Finance",
          "Arts, Entertainment & Recreation",
          "Biotech & Pharmaceuticals",
          "Education",
          "Business Services",
          "Finance",
          "Business Services",
          "Business Services",
          "Business Services",
          "Business Services",
          "Education",
          "Health Care",
          "Information Technology",
          "Information Technology",
          "Biotech & Pharmaceuticals",
          "Finance",
          "Business Services",
          "Health Care",
          "Information Technology",
          "Information Technology",
          "Health Care",
          "Business Services",
          "Business Services",
          "Information Technology",
          "Information Technology",
          "Business Services",
          "Business Services",
          "Information Technology",
          "Information Technology",
          "Information Technology",
          "Mining & Metals",
          "Information Technology",
          "Education",
          "Health Care",
          "Education",
          "Business Services",
          "Business Services",
          "Health Care",
          "Retail",
          "Information Technology",
          "Business Services",
          "Telecommunications",
          "Government",
          "Biotech & Pharmaceuticals",
          "Information Technology",
          "Health Care",
          "Real Estate",
          "Business Services",
          "Information Technology",
          "Business Services",
          "Education",
          "Non-Profit",
          "Information Technology",
          "Government",
          "Business Services",
          "Retail",
          "Finance",
          "Information Technology",
          "Biotech & Pharmaceuticals",
          "Business Services",
          "Information Technology",
          "Arts, Entertainment & Recreation",
          "Information Technology",
          "Government",
          "Accounting & Legal",
          "Information Technology",
          "Information Technology",
          "Information Technology",
          "Insurance",
          "Information Technology",
          "Biotech & Pharmaceuticals",
          "Information Technology",
          "Information Technology",
          "Business Services",
          "Business Services",
          "Information Technology",
          "Biotech & Pharmaceuticals",
          "Biotech & Pharmaceuticals",
          "Business Services",
          "Information Technology",
          "Business Services",
          "Biotech & Pharmaceuticals",
          "Finance",
          "Business Services",
          "Finance",
          "Finance",
          "Information Technology",
          "Education",
          "Non-Profit",
          "Biotech & Pharmaceuticals",
          "Biotech & Pharmaceuticals",
          "Information Technology",
          "Finance",
          "Biotech & Pharmaceuticals",
          "Biotech & Pharmaceuticals",
          "Media",
          "Aerospace & Defense",
          "Business Services",
          "Education",
          "Information Technology",
          "Information Technology",
          "Business Services",
          "Business Services",
          "Transportation & Logistics",
          "Biotech & Pharmaceuticals",
          "Business Services",
          "Biotech & Pharmaceuticals",
          "Biotech & Pharmaceuticals",
          "Biotech & Pharmaceuticals",
          "Information Technology",
          "Biotech & Pharmaceuticals",
          "Business Services",
          "Information Technology",
          "Government",
          "Information Technology",
          "Biotech & Pharmaceuticals",
          "Transportation & Logistics",
          "Business Services",
          "Insurance",
          "Insurance",
          "Health Care",
          "Information Technology",
          "Biotech & Pharmaceuticals",
          "Business Services",
          "Business Services",
          "Information Technology",
          "Business Services",
          "Biotech & Pharmaceuticals",
          "Biotech & Pharmaceuticals",
          "Biotech & Pharmaceuticals",
          "Media",
          "Health Care",
          "Information Technology",
          "Information Technology",
          "Biotech & Pharmaceuticals",
          "Health Care",
          "Information Technology",
          "Biotech & Pharmaceuticals",
          "Biotech & Pharmaceuticals",
          "Health Care",
          "Biotech & Pharmaceuticals",
          "Biotech & Pharmaceuticals",
          "Business Services",
          "Health Care",
          "Biotech & Pharmaceuticals",
          "Biotech & Pharmaceuticals",
          "Biotech & Pharmaceuticals",
          "Biotech & Pharmaceuticals",
          "Business Services",
          "Business Services",
          "Transportation & Logistics",
          "Biotech & Pharmaceuticals",
          "Biotech & Pharmaceuticals",
          "Biotech & Pharmaceuticals",
          "Business Services",
          "Manufacturing",
          "Finance",
          "Finance",
          "Biotech & Pharmaceuticals",
          "Education",
          "Information Technology",
          "Health Care",
          "Business Services",
          "Biotech & Pharmaceuticals",
          "Biotech & Pharmaceuticals",
          "Information Technology",
          "Aerospace & Defense",
          "Information Technology",
          "Biotech & Pharmaceuticals",
          "Education",
          "Health Care",
          "Finance",
          "Biotech & Pharmaceuticals",
          "Information Technology",
          "Biotech & Pharmaceuticals",
          "Telecommunications",
          "Biotech & Pharmaceuticals",
          "Biotech & Pharmaceuticals",
          "Biotech & Pharmaceuticals",
          "Business Services",
          "Business Services",
          "Biotech & Pharmaceuticals",
          "Business Services",
          "Business Services",
          "Biotech & Pharmaceuticals",
          "Biotech & Pharmaceuticals",
          "Information Technology",
          "Information Technology",
          "Business Services",
          "Biotech & Pharmaceuticals",
          "Business Services",
          "Information Technology",
          "Biotech & Pharmaceuticals",
          "Biotech & Pharmaceuticals",
          "Biotech & Pharmaceuticals",
          "Aerospace & Defense",
          "Biotech & Pharmaceuticals",
          "Information Technology",
          "Biotech & Pharmaceuticals",
          "Biotech & Pharmaceuticals",
          "Finance",
          "Biotech & Pharmaceuticals",
          "Business Services",
          "Biotech & Pharmaceuticals",
          "Biotech & Pharmaceuticals",
          "Biotech & Pharmaceuticals",
          "Information Technology",
          "Biotech & Pharmaceuticals",
          "Biotech & Pharmaceuticals",
          "Finance",
          "Finance",
          "Biotech & Pharmaceuticals",
          "Information Technology",
          "Business Services",
          "Consumer Services",
          "Biotech & Pharmaceuticals",
          "Biotech & Pharmaceuticals",
          "Biotech & Pharmaceuticals",
          "Biotech & Pharmaceuticals",
          "Information Technology",
          "Biotech & Pharmaceuticals",
          "Biotech & Pharmaceuticals",
          "Biotech & Pharmaceuticals",
          "Retail",
          "Non-Profit",
          "Finance",
          "Biotech & Pharmaceuticals",
          "Business Services",
          "Business Services",
          "Retail",
          "Biotech & Pharmaceuticals",
          "Biotech & Pharmaceuticals",
          "Accounting & Legal",
          "Oil, Gas, Energy & Utilities",
          "Business Services",
          "Finance",
          "Business Services",
          "Biotech & Pharmaceuticals",
          "Biotech & Pharmaceuticals",
          "Information Technology",
          "Biotech & Pharmaceuticals",
          "Biotech & Pharmaceuticals",
          "Biotech & Pharmaceuticals",
          "Manufacturing",
          "Health Care",
          "Biotech & Pharmaceuticals",
          "Information Technology",
          "Biotech & Pharmaceuticals",
          "Business Services",
          "Business Services",
          "Biotech & Pharmaceuticals",
          "Biotech & Pharmaceuticals",
          "Business Services",
          "Business Services",
          "Business Services",
          "Business Services",
          "Information Technology",
          "Biotech & Pharmaceuticals",
          "Biotech & Pharmaceuticals",
          "Information Technology",
          "Business Services",
          "Information Technology",
          "Business Services",
          "Health Care",
          "Biotech & Pharmaceuticals",
          "Biotech & Pharmaceuticals",
          "Insurance",
          "Insurance",
          "Business Services",
          "Finance",
          "Manufacturing",
          "Information Technology",
          "Information Technology",
          "Business Services",
          "Business Services",
          "Information Technology",
          "Business Services",
          "Media",
          "Information Technology",
          "Business Services",
          "Telecommunications",
          "Business Services",
          "Finance",
          "Information Technology",
          "Business Services",
          "Government",
          "Business Services",
          "Business Services",
          "Insurance",
          "Government",
          "Information Technology",
          "Oil, Gas, Energy & Utilities",
          "Insurance",
          "Information Technology",
          "Insurance",
          "Business Services",
          "Oil, Gas, Energy & Utilities",
          "Business Services",
          "Insurance",
          "Information Technology",
          "Information Technology",
          "Information Technology",
          "Business Services",
          "Business Services",
          "Information Technology",
          "Business Services",
          "Business Services",
          "Business Services",
          "Insurance",
          "Information Technology",
          "Health Care",
          "Insurance",
          "Information Technology",
          "Information Technology",
          "Business Services",
          "Telecommunications",
          "Insurance",
          "Finance",
          "Information Technology",
          "Business Services",
          "Insurance",
          "Information Technology",
          "Information Technology",
          "Business Services",
          "Business Services",
          "Business Services",
          "Retail",
          "Information Technology",
          "Business Services",
          "Information Technology",
          "Information Technology",
          "Business Services",
          "Business Services",
          "Accounting & Legal",
          "Business Services",
          "Biotech & Pharmaceuticals",
          "Health Care",
          "Aerospace & Defense",
          "Information Technology",
          "Business Services",
          "Finance",
          "Media",
          "Information Technology",
          "Information Technology",
          "Information Technology",
          "Information Technology",
          "Business Services",
          "Retail",
          "Business Services",
          "Retail",
          "Government",
          "Information Technology",
          "Aerospace & Defense",
          "Insurance",
          "Business Services",
          "Health Care",
          "Health Care",
          "Health Care",
          "Business Services",
          "Business Services",
          "Health Care",
          "Business Services",
          "Business Services",
          "Business Services",
          "Information Technology",
          "Information Technology",
          "Business Services",
          "Health Care",
          "Information Technology",
          "Government",
          "Business Services",
          "Information Technology",
          "Finance",
          "Aerospace & Defense",
          "Business Services",
          "Government",
          "Business Services",
          "Information Technology",
          "Business Services",
          "Business Services",
          "Information Technology",
          "Retail",
          "Business Services",
          "Business Services",
          "Finance",
          "Business Services",
          "Biotech & Pharmaceuticals",
          "Government",
          "Education",
          "Business Services",
          "Government",
          "Retail",
          "Government",
          "Business Services",
          "Business Services",
          "Government",
          "Information Technology",
          "Information Technology",
          "Government",
          "Business Services",
          "Business Services",
          "Business Services",
          "Retail",
          "Finance",
          "Information Technology",
          "Business Services",
          "Business Services",
          "Government",
          "Business Services",
          "Business Services",
          "Accounting & Legal",
          "Aerospace & Defense",
          "Business Services",
          "Information Technology",
          "Business Services",
          "Health Care",
          "Business Services",
          "Education",
          "Health Care",
          "Business Services",
          "Government",
          "Aerospace & Defense",
          "Finance",
          "Information Technology",
          "Biotech & Pharmaceuticals",
          "Finance",
          "Information Technology",
          "Insurance",
          "Information Technology",
          "Aerospace & Defense",
          "Biotech & Pharmaceuticals",
          "Finance",
          "Biotech & Pharmaceuticals",
          "Biotech & Pharmaceuticals",
          "Health Care",
          "Biotech & Pharmaceuticals",
          "Information Technology",
          "Business Services",
          "Business Services",
          "Retail",
          "Biotech & Pharmaceuticals",
          "Biotech & Pharmaceuticals",
          "Real Estate",
          "Biotech & Pharmaceuticals",
          "Health Care",
          "Biotech & Pharmaceuticals",
          "Government",
          "Information Technology",
          "Information Technology",
          "Oil, Gas, Energy & Utilities",
          "Accounting & Legal",
          "Information Technology",
          "Biotech & Pharmaceuticals",
          "Business Services",
          "Biotech & Pharmaceuticals",
          "Biotech & Pharmaceuticals",
          "Business Services",
          "Information Technology",
          "Business Services",
          "Biotech & Pharmaceuticals",
          "Biotech & Pharmaceuticals",
          "Biotech & Pharmaceuticals",
          "Insurance",
          "Accounting & Legal",
          "Business Services",
          "Information Technology",
          "Oil, Gas, Energy & Utilities",
          "Biotech & Pharmaceuticals",
          "Health Care",
          "Education",
          "Business Services",
          "Biotech & Pharmaceuticals",
          "Non-Profit",
          "Information Technology",
          "Insurance",
          "Business Services",
          "Aerospace & Defense",
          "Information Technology",
          "Information Technology",
          "Health Care",
          "Finance",
          "Biotech & Pharmaceuticals",
          "Business Services",
          "Biotech & Pharmaceuticals",
          "Aerospace & Defense",
          "Government",
          "Business Services",
          "Information Technology",
          "Business Services",
          "Information Technology",
          "Biotech & Pharmaceuticals",
          "Education",
          "Information Technology",
          "Biotech & Pharmaceuticals",
          "Biotech & Pharmaceuticals",
          "Business Services",
          "Biotech & Pharmaceuticals",
          "Biotech & Pharmaceuticals",
          "Business Services",
          "Information Technology",
          "Information Technology",
          "Biotech & Pharmaceuticals",
          "Biotech & Pharmaceuticals",
          "Health Care",
          "Biotech & Pharmaceuticals",
          "Business Services",
          "Information Technology",
          "Business Services",
          "Biotech & Pharmaceuticals",
          "Biotech & Pharmaceuticals",
          "Biotech & Pharmaceuticals",
          "Information Technology",
          "Biotech & Pharmaceuticals",
          "Biotech & Pharmaceuticals",
          "Information Technology",
          "Biotech & Pharmaceuticals",
          "Oil, Gas, Energy & Utilities",
          "Information Technology",
          "Biotech & Pharmaceuticals",
          "Information Technology",
          "Business Services",
          "Biotech & Pharmaceuticals",
          "Biotech & Pharmaceuticals",
          "Information Technology",
          "Business Services",
          "Biotech & Pharmaceuticals",
          "Biotech & Pharmaceuticals",
          "Biotech & Pharmaceuticals",
          "Health Care",
          "Biotech & Pharmaceuticals",
          "Information Technology",
          "Business Services",
          "Manufacturing",
          "Business Services",
          "Business Services",
          "Government",
          "Business Services",
          "Aerospace & Defense",
          "Information Technology",
          "Education",
          "Biotech & Pharmaceuticals",
          "Information Technology",
          "Information Technology",
          "Business Services",
          "Information Technology",
          "Biotech & Pharmaceuticals",
          "Accounting & Legal",
          "Accounting & Legal",
          "Biotech & Pharmaceuticals",
          "Education",
          "Biotech & Pharmaceuticals",
          "Biotech & Pharmaceuticals",
          "Information Technology",
          "Government",
          "Information Technology",
          "Information Technology",
          "Information Technology",
          "Information Technology",
          "Biotech & Pharmaceuticals",
          "Education",
          "Education",
          "Information Technology",
          "Finance",
          "Manufacturing",
          "Biotech & Pharmaceuticals",
          "Biotech & Pharmaceuticals",
          "Information Technology",
          "Biotech & Pharmaceuticals",
          "Education",
          "Information Technology",
          "Manufacturing",
          "Information Technology",
          "Oil, Gas, Energy & Utilities",
          "Business Services",
          "Biotech & Pharmaceuticals",
          "Business Services",
          "Education",
          "Accounting & Legal",
          "Information Technology",
          "Biotech & Pharmaceuticals",
          "Education",
          "Aerospace & Defense",
          "Information Technology",
          "Business Services",
          "Accounting & Legal",
          "Telecommunications",
          "Biotech & Pharmaceuticals",
          "Biotech & Pharmaceuticals",
          "Biotech & Pharmaceuticals",
          "Biotech & Pharmaceuticals",
          "Accounting & Legal",
          "Business Services",
          "Information Technology",
          "Biotech & Pharmaceuticals",
          "Finance",
          "Biotech & Pharmaceuticals",
          "Biotech & Pharmaceuticals",
          "Health Care",
          "Biotech & Pharmaceuticals",
          "Information Technology",
          "Health Care",
          "Biotech & Pharmaceuticals",
          "Information Technology",
          "Information Technology",
          "Business Services",
          "Biotech & Pharmaceuticals",
          "Biotech & Pharmaceuticals",
          "Education",
          "Biotech & Pharmaceuticals",
          "Information Technology",
          "Business Services",
          "Business Services",
          "Business Services",
          "Information Technology",
          "Biotech & Pharmaceuticals",
          "Information Technology",
          "Biotech & Pharmaceuticals",
          "Information Technology",
          "Biotech & Pharmaceuticals",
          "Biotech & Pharmaceuticals",
          "Information Technology",
          "Biotech & Pharmaceuticals",
          "Education",
          "Biotech & Pharmaceuticals",
          "Biotech & Pharmaceuticals",
          "Biotech & Pharmaceuticals",
          "Biotech & Pharmaceuticals",
          "Finance",
          "Biotech & Pharmaceuticals",
          "Biotech & Pharmaceuticals",
          "Biotech & Pharmaceuticals",
          "Biotech & Pharmaceuticals",
          "Biotech & Pharmaceuticals",
          "Biotech & Pharmaceuticals",
          "Biotech & Pharmaceuticals",
          "Biotech & Pharmaceuticals",
          "Biotech & Pharmaceuticals",
          "Biotech & Pharmaceuticals",
          "Biotech & Pharmaceuticals",
          "Manufacturing",
          "Biotech & Pharmaceuticals",
          "Biotech & Pharmaceuticals",
          "Biotech & Pharmaceuticals",
          "Education",
          "Biotech & Pharmaceuticals",
          "Accounting & Legal",
          "Business Services",
          "Biotech & Pharmaceuticals",
          "Biotech & Pharmaceuticals",
          "Manufacturing",
          "Business Services",
          "Biotech & Pharmaceuticals",
          "Education",
          "Biotech & Pharmaceuticals",
          "Biotech & Pharmaceuticals",
          "Biotech & Pharmaceuticals",
          "Government",
          "Business Services",
          "Accounting & Legal",
          "Biotech & Pharmaceuticals",
          "Biotech & Pharmaceuticals",
          "Biotech & Pharmaceuticals",
          "Retail",
          "Biotech & Pharmaceuticals",
          "Biotech & Pharmaceuticals",
          "Biotech & Pharmaceuticals",
          "Manufacturing",
          "Education",
          "Education",
          "Biotech & Pharmaceuticals",
          "Insurance",
          "Health Care",
          "Biotech & Pharmaceuticals",
          "Business Services",
          "Biotech & Pharmaceuticals",
          "Biotech & Pharmaceuticals",
          "Information Technology",
          "Biotech & Pharmaceuticals",
          "Biotech & Pharmaceuticals",
          "Biotech & Pharmaceuticals",
          "Information Technology",
          "Accounting & Legal",
          "Business Services",
          "Biotech & Pharmaceuticals",
          "Biotech & Pharmaceuticals",
          "Business Services",
          "Oil, Gas, Energy & Utilities",
          "Education",
          "Biotech & Pharmaceuticals",
          "Biotech & Pharmaceuticals",
          "Accounting & Legal",
          "Biotech & Pharmaceuticals",
          "Biotech & Pharmaceuticals",
          "Biotech & Pharmaceuticals",
          "Information Technology",
          "Information Technology",
          "Information Technology",
          "Information Technology",
          "Information Technology",
          "Insurance",
          "Information Technology",
          "Manufacturing",
          "Information Technology",
          "Retail",
          "Business Services",
          "Information Technology",
          "Business Services",
          "Information Technology",
          "Business Services",
          "Manufacturing",
          "Arts, Entertainment & Recreation",
          "Information Technology",
          "Information Technology",
          "Information Technology",
          "Business Services",
          "Information Technology",
          "Business Services",
          "Finance",
          "Business Services",
          "Health Care",
          "Finance",
          "Information Technology",
          "Finance",
          "Information Technology",
          "Health Care",
          "Finance",
          "Finance",
          "Finance",
          "Insurance",
          "Business Services",
          "Information Technology",
          "Education",
          "Business Services",
          "Information Technology",
          "Accounting & Legal",
          "Finance",
          "Government",
          "Information Technology",
          "Information Technology",
          "Business Services",
          "Media",
          "Business Services",
          "Health Care",
          "Information Technology",
          "Government",
          "Insurance",
          "Information Technology",
          "Arts, Entertainment & Recreation",
          "Information Technology",
          "Aerospace & Defense",
          "Finance",
          "Biotech & Pharmaceuticals",
          "Business Services",
          "Oil, Gas, Energy & Utilities",
          "Telecommunications",
          "Business Services",
          "Manufacturing",
          "Retail",
          "Telecommunications",
          "Business Services",
          "Retail",
          "Information Technology",
          "Business Services",
          "Finance",
          "Information Technology",
          "Finance",
          "Manufacturing",
          "Business Services",
          "Information Technology",
          "Business Services",
          "Health Care",
          "Information Technology",
          "Information Technology",
          "Telecommunications",
          "Business Services",
          "Insurance",
          "Information Technology",
          "Restaurants, Bars & Food Services",
          "Information Technology",
          "Business Services",
          "Finance",
          "Insurance",
          "Insurance",
          "Information Technology",
          "Insurance",
          "Information Technology",
          "Finance",
          "Information Technology",
          "Biotech & Pharmaceuticals",
          "Finance",
          "Finance",
          "Finance",
          "Information Technology",
          "Business Services",
          "Information Technology",
          "Health Care",
          "Health Care",
          "Aerospace & Defense",
          "Finance",
          "Finance",
          "Business Services",
          "Information Technology",
          "Information Technology",
          "Telecommunications",
          "Finance",
          "Business Services",
          "Government",
          "Accounting & Legal",
          "Information Technology",
          "Business Services",
          "Accounting & Legal",
          "Business Services",
          "Business Services",
          "Information Technology",
          "Manufacturing",
          "Information Technology",
          "Information Technology",
          "Finance",
          "Information Technology",
          "Insurance",
          "Insurance",
          "Information Technology",
          "Business Services",
          "Insurance",
          "Media",
          "Finance",
          "Information Technology",
          "Retail",
          "Information Technology",
          "Telecommunications",
          "Consumer Services",
          "Information Technology",
          "Information Technology",
          "Information Technology",
          "Business Services",
          "Business Services",
          "Business Services",
          "Information Technology",
          "Finance",
          "Information Technology",
          "Information Technology",
          "Business Services",
          "Information Technology",
          "Government",
          "Information Technology",
          "Information Technology",
          "Information Technology",
          "Finance",
          "Information Technology",
          "Insurance",
          "Telecommunications",
          "Health Care",
          "Real Estate",
          "Business Services",
          "Business Services",
          "Business Services",
          "Information Technology",
          "Business Services",
          "Information Technology",
          "Biotech & Pharmaceuticals",
          "Information Technology",
          "Business Services",
          "Information Technology",
          "Information Technology",
          "Business Services",
          "Business Services",
          "Information Technology",
          "Accounting & Legal",
          "Finance",
          "Information Technology",
          "Information Technology",
          "Information Technology",
          "Information Technology",
          "Information Technology",
          "Business Services",
          "Information Technology",
          "Information Technology",
          "Information Technology",
          "Accounting & Legal",
          "Finance",
          "Finance",
          "Finance",
          "Manufacturing",
          "Information Technology",
          "Media",
          "Business Services",
          "Information Technology",
          "Information Technology",
          "Information Technology",
          "Health Care",
          "Information Technology",
          "Finance",
          "Business Services",
          "Business Services",
          "Business Services",
          "Business Services",
          "Information Technology",
          "Oil, Gas, Energy & Utilities",
          "Construction, Repair & Maintenance",
          "Finance",
          "Finance",
          "Finance",
          "Finance",
          "Finance",
          "Consumer Services",
          "Business Services",
          "Biotech & Pharmaceuticals",
          "Business Services",
          "Information Technology",
          "Information Technology",
          "Information Technology",
          "Business Services",
          "Information Technology",
          "Information Technology",
          "Education",
          "Travel & Tourism",
          "Information Technology",
          "Information Technology",
          "Business Services",
          "Business Services",
          "Finance",
          "Business Services",
          "Business Services",
          "Information Technology",
          "Accounting & Legal",
          "Business Services",
          "Information Technology",
          "Information Technology",
          "Manufacturing",
          "Education",
          "Business Services",
          "Finance",
          "Business Services",
          "Information Technology",
          "Information Technology",
          "Business Services",
          "Information Technology",
          "Business Services",
          "Finance",
          "Business Services",
          "Information Technology",
          "Business Services",
          "Information Technology",
          "Information Technology",
          "Business Services",
          "Manufacturing",
          "Finance",
          "Business Services",
          "Information Technology",
          "Information Technology",
          "Aerospace & Defense",
          "Business Services",
          "Business Services",
          "Business Services",
          "Information Technology",
          "Finance",
          "Information Technology",
          "Information Technology",
          "Information Technology",
          "Information Technology",
          "Business Services",
          "Business Services",
          "Finance",
          "Information Technology",
          "Business Services",
          "Finance",
          "Finance",
          "Information Technology",
          "Retail",
          "Arts, Entertainment & Recreation",
          "Information Technology",
          "Business Services",
          "Finance",
          "Information Technology",
          "Information Technology",
          "Information Technology",
          "Business Services",
          "Information Technology",
          "Information Technology",
          "Restaurants, Bars & Food Services",
          "Information Technology",
          "Information Technology",
          "Information Technology",
          "Finance",
          "Business Services",
          "Finance",
          "Business Services",
          "Finance",
          "Information Technology",
          "Finance",
          "Insurance",
          "Consumer Services",
          "Finance",
          "Business Services",
          "Business Services",
          "Information Technology",
          "Insurance",
          "Information Technology",
          "Information Technology",
          "Business Services",
          "Telecommunications",
          "Information Technology",
          "Finance",
          "Information Technology",
          "Information Technology",
          "Telecommunications",
          "Finance",
          "Information Technology",
          "Aerospace & Defense",
          "Biotech & Pharmaceuticals",
          "Information Technology",
          "Aerospace & Defense",
          "Business Services",
          "Information Technology",
          "Information Technology",
          "Biotech & Pharmaceuticals",
          "Biotech & Pharmaceuticals",
          "Information Technology",
          "Information Technology",
          "Information Technology",
          "Information Technology",
          "Information Technology",
          "Information Technology",
          "Information Technology",
          "Information Technology",
          "Manufacturing",
          "Information Technology",
          "Insurance",
          "Information Technology",
          "Manufacturing",
          "Business Services",
          "Business Services",
          "Information Technology",
          "Agriculture & Forestry",
          "Information Technology",
          "Information Technology",
          "Manufacturing",
          "Information Technology",
          "Information Technology",
          "Information Technology",
          "Accounting & Legal",
          "Information Technology",
          "Information Technology",
          "Information Technology",
          "Government",
          "Biotech & Pharmaceuticals",
          "Manufacturing",
          "Information Technology",
          "Information Technology",
          "Information Technology",
          "Information Technology",
          "Information Technology",
          "Health Care",
          "Information Technology",
          "Biotech & Pharmaceuticals",
          "Biotech & Pharmaceuticals",
          "Information Technology",
          "Information Technology",
          "Business Services",
          "Information Technology",
          "Information Technology",
          "Information Technology",
          "Information Technology",
          "Information Technology",
          "Information Technology",
          "Business Services",
          "Information Technology",
          "Information Technology",
          "Accounting & Legal",
          "Biotech & Pharmaceuticals",
          "Business Services",
          "Information Technology",
          "Health Care",
          "Information Technology",
          "Education",
          "Business Services",
          "Information Technology",
          "Business Services",
          "Information Technology",
          "Business Services",
          "Information Technology",
          "Manufacturing",
          "Information Technology",
          "Information Technology",
          "Government",
          "Government",
          "Biotech & Pharmaceuticals",
          "Business Services",
          "Information Technology",
          "Manufacturing",
          "Information Technology",
          "Information Technology",
          "Business Services",
          "Manufacturing",
          "Media",
          "Information Technology",
          "Information Technology",
          "Information Technology",
          "Information Technology",
          "Information Technology",
          "Retail",
          "Information Technology",
          "Information Technology",
          "Education",
          "Information Technology",
          "Information Technology",
          "Information Technology",
          "Information Technology",
          "Business Services",
          "Information Technology",
          "Information Technology",
          "Information Technology",
          "Information Technology",
          "Biotech & Pharmaceuticals",
          "Education",
          "Finance",
          "Information Technology",
          "Information Technology",
          "Manufacturing",
          "Business Services",
          "Information Technology",
          "Information Technology",
          "Information Technology",
          "Biotech & Pharmaceuticals",
          "Information Technology",
          "Finance",
          "Information Technology",
          "Information Technology",
          "Information Technology",
          "Information Technology",
          "Information Technology",
          "Information Technology",
          "Business Services",
          "Manufacturing",
          "Information Technology",
          "Information Technology",
          "Information Technology",
          "Information Technology",
          "Information Technology",
          "Finance",
          "Information Technology",
          "Information Technology",
          "Information Technology",
          "Information Technology",
          "Information Technology",
          "Information Technology",
          "Business Services",
          "Information Technology",
          "Information Technology",
          "Information Technology",
          "Information Technology",
          "Information Technology",
          "Information Technology",
          "Business Services",
          "Information Technology",
          "Information Technology",
          "Information Technology",
          "Information Technology",
          "Business Services",
          "Information Technology",
          "Information Technology",
          "Arts, Entertainment & Recreation",
          "Biotech & Pharmaceuticals",
          "Information Technology",
          "Finance",
          "Finance",
          "Information Technology",
          "Aerospace & Defense",
          "Information Technology",
          "Information Technology",
          "Insurance",
          "Health Care",
          "Information Technology",
          "Business Services",
          "Information Technology",
          "Information Technology",
          "Information Technology",
          "Business Services",
          "Information Technology",
          "Information Technology",
          "Manufacturing",
          "Information Technology",
          "Information Technology",
          "Media",
          "Business Services",
          "Information Technology",
          "Information Technology",
          "Information Technology",
          "Information Technology",
          "Business Services",
          "Information Technology",
          "Biotech & Pharmaceuticals",
          "Information Technology",
          "Business Services",
          "Insurance",
          "Biotech & Pharmaceuticals",
          "Health Care",
          "Information Technology",
          "Information Technology",
          "Manufacturing",
          "Information Technology",
          "Information Technology",
          "Business Services",
          "Business Services",
          "Transportation & Logistics",
          "Information Technology",
          "Information Technology",
          "Biotech & Pharmaceuticals",
          "Business Services",
          "Information Technology",
          "Information Technology",
          "Information Technology",
          "Retail",
          "Business Services",
          "Information Technology",
          "Information Technology",
          "Information Technology",
          "Manufacturing",
          "Information Technology",
          "Information Technology",
          "Information Technology",
          "Information Technology",
          "Information Technology",
          "Information Technology",
          "Information Technology",
          "Information Technology",
          "Information Technology",
          "Information Technology",
          "Information Technology",
          "Information Technology",
          "Information Technology",
          "Information Technology",
          "Information Technology",
          "Media",
          "Biotech & Pharmaceuticals",
          "Information Technology",
          "Information Technology",
          "Business Services",
          "Information Technology",
          "Business Services",
          "Information Technology",
          "Information Technology",
          "Manufacturing",
          "Retail",
          "Biotech & Pharmaceuticals",
          "Information Technology",
          "Information Technology",
          "Information Technology",
          "Biotech & Pharmaceuticals",
          "Health Care",
          "Information Technology",
          "Accounting & Legal",
          "Information Technology",
          "Information Technology",
          "Information Technology",
          "Information Technology",
          "Biotech & Pharmaceuticals",
          "Media",
          "Information Technology",
          "Information Technology",
          "Information Technology",
          "Information Technology",
          "Information Technology",
          "Information Technology",
          "Business Services",
          "Manufacturing",
          "Business Services",
          "Information Technology",
          "Information Technology",
          "Information Technology",
          "Information Technology",
          "Information Technology",
          "Information Technology",
          "Business Services",
          "Accounting & Legal",
          "Information Technology",
          "Information Technology",
          "Business Services",
          "Information Technology",
          "Government",
          "Business Services",
          "Information Technology",
          "Information Technology",
          "Information Technology",
          "Information Technology",
          "Information Technology",
          "Information Technology",
          "Information Technology",
          "Information Technology",
          "Information Technology",
          "Media",
          "Information Technology",
          "Aerospace & Defense",
          "Business Services",
          "Information Technology",
          "Information Technology",
          "Business Services",
          "Biotech & Pharmaceuticals",
          "Information Technology",
          "Information Technology",
          "Information Technology",
          "Government",
          "Retail",
          "Information Technology",
          "Biotech & Pharmaceuticals",
          "Information Technology",
          "Information Technology",
          "Information Technology",
          "Information Technology",
          "Retail",
          "Education",
          "Information Technology",
          "Information Technology",
          "Information Technology",
          "Information Technology",
          "Manufacturing",
          "Information Technology",
          "Information Technology",
          "Business Services",
          "Consumer Services",
          "Business Services",
          "Information Technology",
          "Information Technology",
          "Information Technology",
          "Retail",
          "Insurance",
          "Information Technology",
          "Information Technology",
          "Business Services",
          "Information Technology",
          "Media",
          "Information Technology",
          "Information Technology",
          "Information Technology",
          "Information Technology",
          "Information Technology",
          "Health Care",
          "Insurance",
          "Information Technology",
          "Biotech & Pharmaceuticals",
          "Business Services",
          "Information Technology",
          "Information Technology",
          "Health Care",
          "Information Technology",
          "Media",
          "Information Technology",
          "Information Technology",
          "Finance",
          "Business Services",
          "Information Technology",
          "Information Technology",
          "Insurance",
          "Manufacturing",
          "Media",
          "Retail",
          "Information Technology",
          "Information Technology",
          "Information Technology",
          "Information Technology",
          "Education",
          "Media",
          "Insurance",
          "Information Technology",
          "Aerospace & Defense",
          "Information Technology",
          "Media",
          "Government",
          "Information Technology",
          "Information Technology",
          "Information Technology",
          "Government",
          "Information Technology",
          "Information Technology",
          "Information Technology",
          "Media",
          "Information Technology",
          "Accounting & Legal",
          "Information Technology",
          "Information Technology",
          "Information Technology",
          "Information Technology",
          "Information Technology",
          "Information Technology",
          "Information Technology",
          "Information Technology",
          "Accounting & Legal",
          "Information Technology",
          "Information Technology",
          "Information Technology",
          "Government",
          "Information Technology",
          "Business Services",
          "Information Technology",
          "Business Services",
          "Finance",
          "Education",
          "Accounting & Legal",
          "Accounting & Legal",
          "Oil, Gas, Energy & Utilities",
          "Information Technology",
          "Business Services",
          "Information Technology",
          "Business Services",
          "Information Technology",
          "Manufacturing",
          "Education",
          "Education",
          "Information Technology",
          "Information Technology",
          "Information Technology",
          "Information Technology",
          "Finance",
          "Information Technology",
          "Business Services",
          "Government",
          "Aerospace & Defense",
          "Manufacturing",
          "Information Technology",
          "Information Technology",
          "Finance",
          "Business Services",
          "Information Technology",
          "Information Technology",
          "Information Technology",
          "Health Care",
          "Information Technology",
          "Information Technology",
          "Business Services",
          "Accounting & Legal",
          "Education",
          "Information Technology",
          "Education",
          "Manufacturing",
          "Information Technology",
          "Information Technology",
          "Business Services",
          "Business Services",
          "Information Technology",
          "Government",
          "Education",
          "Aerospace & Defense",
          "Oil, Gas, Energy & Utilities",
          "Information Technology",
          "Information Technology",
          "Education",
          "Business Services",
          "Information Technology",
          "Telecommunications",
          "Information Technology",
          "Information Technology",
          "Information Technology",
          "Media",
          "Information Technology",
          "Information Technology",
          "Information Technology",
          "Insurance",
          "Information Technology",
          "Information Technology",
          "Information Technology",
          "Information Technology",
          "Health Care",
          "Information Technology",
          "Information Technology",
          "Information Technology",
          "Information Technology",
          "Information Technology",
          "Information Technology",
          "Information Technology",
          "Insurance",
          "Information Technology",
          "Information Technology",
          "Information Technology",
          "Business Services",
          "Business Services",
          "Information Technology",
          "Information Technology",
          "Health Care",
          "Media",
          "Information Technology",
          "Information Technology",
          "Information Technology",
          "Information Technology",
          "Media",
          "Accounting & Legal",
          "Business Services",
          "Information Technology",
          "Information Technology",
          "Business Services",
          "Education",
          "Business Services",
          "Business Services",
          "Business Services",
          "Insurance",
          "Information Technology",
          "Education",
          "Business Services",
          "Information Technology",
          "Information Technology",
          "Information Technology",
          "Health Care",
          "Information Technology",
          "Consumer Services",
          "Education",
          "Accounting & Legal",
          "Business Services",
          "Insurance",
          "Education",
          "Business Services",
          "Education",
          "Information Technology",
          "Education",
          "Government",
          "Business Services",
          "Insurance",
          "Business Services",
          "Finance",
          "Finance",
          "Retail",
          "Information Technology",
          "Information Technology",
          "Business Services",
          "Information Technology",
          "Information Technology",
          "Manufacturing",
          "Business Services",
          "Finance",
          "Manufacturing",
          "Health Care",
          "Government",
          "Accounting & Legal",
          "Information Technology",
          "Insurance",
          "Business Services",
          "Information Technology",
          "Construction, Repair & Maintenance",
          "Information Technology",
          "Information Technology",
          "Health Care",
          "Information Technology",
          "Information Technology",
          "Information Technology",
          "Information Technology",
          "Information Technology",
          "Information Technology",
          "Information Technology",
          "Information Technology",
          "Education",
          "Health Care",
          "Business Services",
          "Health Care",
          "Education",
          "Government",
          "Information Technology",
          "Business Services",
          "Information Technology",
          "Information Technology",
          "Consumer Services",
          "Accounting & Legal",
          "Information Technology",
          "Aerospace & Defense",
          "Information Technology",
          "Health Care",
          "Education",
          "Government",
          "Information Technology",
          "Information Technology",
          "Education",
          "Education",
          "Finance",
          "Biotech & Pharmaceuticals",
          "Health Care",
          "Consumer Services",
          "Information Technology",
          "Education",
          "Information Technology",
          "Education",
          "Transportation & Logistics",
          "Government",
          "Biotech & Pharmaceuticals",
          "Health Care",
          "Business Services",
          "Biotech & Pharmaceuticals",
          "Education",
          "Biotech & Pharmaceuticals",
          "Education",
          "Government",
          "Finance",
          "Business Services",
          "Business Services",
          "Biotech & Pharmaceuticals",
          "Business Services",
          "Government",
          "Information Technology",
          "Business Services",
          "Business Services",
          "Information Technology",
          "Aerospace & Defense",
          "Education",
          "Business Services",
          "Construction, Repair & Maintenance",
          "Information Technology",
          "Information Technology",
          "Manufacturing",
          "Information Technology",
          "Business Services",
          "Information Technology",
          "Information Technology",
          "Information Technology",
          "Health Care",
          "Information Technology",
          "Information Technology",
          "Business Services",
          "Information Technology",
          "Information Technology",
          "Education",
          "Information Technology",
          "Information Technology",
          "Information Technology",
          "Education",
          "Information Technology",
          "Government",
          "Information Technology",
          "Education",
          "Information Technology",
          "Finance",
          "Education",
          "Business Services",
          "Information Technology",
          "Information Technology",
          "Accounting & Legal",
          "Education",
          "Business Services",
          "Finance",
          "Information Technology",
          "Business Services",
          "Information Technology",
          "Information Technology",
          "Business Services",
          "Information Technology",
          "Information Technology",
          "Education",
          "Manufacturing",
          "Biotech & Pharmaceuticals",
          "Government",
          "Information Technology",
          "Education",
          "Health Care",
          "Business Services",
          "Education",
          "Business Services",
          "Information Technology",
          "Education",
          "Education",
          "Accounting & Legal",
          "Government",
          "Information Technology",
          "Insurance",
          "Education",
          "Manufacturing",
          "Accounting & Legal",
          "Accounting & Legal",
          "Business Services",
          "Insurance",
          "Information Technology",
          "Government",
          "Business Services",
          "Oil, Gas, Energy & Utilities",
          "Business Services",
          "Insurance",
          "Business Services",
          "Business Services",
          "Business Services",
          "Information Technology",
          "Information Technology",
          "Business Services",
          "Business Services",
          "Business Services",
          "Business Services",
          "Business Services",
          "Business Services",
          "Information Technology",
          "Insurance",
          "Transportation & Logistics",
          "Business Services",
          "Information Technology",
          "Biotech & Pharmaceuticals",
          "Business Services",
          "Government",
          "Business Services",
          "Non-Profit",
          "Non-Profit",
          "Insurance",
          "Health Care",
          "Government",
          "Insurance",
          "Health Care",
          "Health Care",
          "Business Services",
          "Business Services",
          "Business Services",
          "Information Technology",
          "Information Technology",
          "Health Care",
          "Business Services",
          "Business Services",
          "Business Services",
          "Retail",
          "Finance",
          "Non-Profit",
          "Finance",
          "Business Services",
          "Information Technology",
          "Government",
          "Business Services",
          "Business Services",
          "Non-Profit",
          "Information Technology",
          "Information Technology",
          "Finance",
          "Aerospace & Defense",
          "Finance",
          "Government",
          "Insurance",
          "Biotech & Pharmaceuticals",
          "Business Services",
          "Aerospace & Defense",
          "Information Technology",
          "Aerospace & Defense",
          "Government",
          "Finance",
          "Business Services",
          "Retail",
          "Business Services",
          "Information Technology",
          "Information Technology",
          "Finance",
          "Oil, Gas, Energy & Utilities",
          "Information Technology",
          "Information Technology",
          "Restaurants, Bars & Food Services",
          "Business Services",
          "Business Services",
          "Information Technology",
          "Manufacturing",
          "Insurance",
          "Government",
          "Consumer Services",
          "Information Technology",
          "Information Technology",
          "Information Technology",
          "Finance",
          "Health Care",
          "Information Technology",
          "Information Technology",
          "Health Care",
          "Business Services",
          "Health Care",
          "Business Services",
          "Information Technology",
          "Information Technology",
          "Business Services",
          "Business Services",
          "Information Technology",
          "Restaurants, Bars & Food Services",
          "Information Technology",
          "Information Technology",
          "Information Technology",
          "Insurance",
          "Insurance",
          "Information Technology",
          "Finance",
          "Information Technology",
          "Business Services",
          "Information Technology",
          "Business Services",
          "Information Technology",
          "Finance",
          "Information Technology",
          "Information Technology",
          "Finance",
          "Information Technology",
          "Finance",
          "Information Technology",
          "Retail",
          "Information Technology",
          "Information Technology",
          "Finance",
          "Finance",
          "Business Services",
          "Information Technology",
          "Finance",
          "Health Care",
          "Business Services",
          "Finance",
          "Information Technology",
          "Information Technology",
          "Information Technology",
          "Information Technology",
          "Health Care",
          "Finance",
          "Information Technology",
          "Information Technology",
          "Information Technology",
          "Finance",
          "Business Services",
          "Finance",
          "Finance",
          "Finance",
          "Finance",
          "Finance",
          "Business Services",
          "Insurance",
          "Health Care",
          "Business Services",
          "Information Technology",
          "Business Services",
          "Information Technology",
          "Business Services",
          "Finance",
          "Information Technology",
          "Retail",
          "Information Technology",
          "Business Services",
          "Health Care",
          "Finance",
          "Oil, Gas, Energy & Utilities",
          "Manufacturing",
          "Information Technology",
          "Education",
          "Information Technology",
          "Finance",
          "Business Services",
          "Government",
          "Information Technology",
          "Health Care",
          "Business Services",
          "Business Services",
          "Business Services",
          "Business Services",
          "Finance",
          "Finance",
          "Finance",
          "Manufacturing",
          "Business Services",
          "Business Services",
          "Information Technology",
          "Accounting & Legal",
          "Oil, Gas, Energy & Utilities",
          "Information Technology",
          "Health Care",
          "Information Technology",
          "Construction, Repair & Maintenance",
          "Retail",
          "Insurance",
          "Government",
          "Business Services",
          "Information Technology",
          "Transportation & Logistics",
          "Health Care",
          "Transportation & Logistics",
          "Business Services",
          "Business Services",
          "Business Services",
          "Information Technology",
          "Oil, Gas, Energy & Utilities",
          "Health Care",
          "Retail",
          "Insurance",
          "Biotech & Pharmaceuticals",
          "Information Technology",
          "Finance",
          "Health Care",
          "Insurance",
          "Business Services",
          "Biotech & Pharmaceuticals",
          "Accounting & Legal",
          "Information Technology",
          "Health Care",
          "Biotech & Pharmaceuticals",
          "Business Services",
          "Health Care",
          "Business Services",
          "Finance",
          "Business Services",
          "Health Care",
          "Business Services",
          "Business Services",
          "Business Services",
          "Insurance",
          "Business Services",
          "Insurance",
          "Business Services",
          "Finance",
          "Business Services",
          "Finance",
          "Biotech & Pharmaceuticals",
          "Biotech & Pharmaceuticals",
          "Biotech & Pharmaceuticals",
          "Business Services",
          "Business Services",
          "Biotech & Pharmaceuticals",
          "Health Care",
          "Oil, Gas, Energy & Utilities",
          "Government",
          "Health Care",
          "Oil, Gas, Energy & Utilities",
          "Business Services",
          "Biotech & Pharmaceuticals",
          "Business Services",
          "Health Care",
          "Information Technology",
          "Health Care",
          "Business Services",
          "Health Care",
          "Health Care",
          "Health Care",
          "Finance",
          "Health Care",
          "Retail",
          "Health Care",
          "Education",
          "Information Technology",
          "Business Services",
          "Health Care",
          "Business Services",
          "Health Care",
          "Health Care",
          "Health Care",
          "Health Care",
          "Information Technology",
          "Consumer Services",
          "Business Services",
          "Finance",
          "Finance",
          "Information Technology",
          "Business Services",
          "Health Care",
          "Information Technology",
          "Information Technology",
          "Business Services",
          "Information Technology",
          "Information Technology",
          "Finance",
          "Finance",
          "Biotech & Pharmaceuticals",
          "Information Technology",
          "Biotech & Pharmaceuticals",
          "Construction, Repair & Maintenance",
          "Finance",
          "Business Services",
          "Business Services",
          "Information Technology",
          "Information Technology",
          "Information Technology",
          "Information Technology",
          "Information Technology",
          "Business Services",
          "Accounting & Legal",
          "Biotech & Pharmaceuticals"
         ],
         "x0": " ",
         "xaxis": "x",
         "y": {
          "bdata": "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",
          "dtype": "i4"
         },
         "y0": " ",
         "yaxis": "y"
        }
       ],
       "layout": {
        "boxmode": "group",
        "legend": {
         "tracegroupgap": 0
        },
        "margin": {
         "t": 60
        },
        "template": {
         "data": {
          "bar": [
           {
            "error_x": {
             "color": "#2a3f5f"
            },
            "error_y": {
             "color": "#2a3f5f"
            },
            "marker": {
             "line": {
              "color": "#E5ECF6",
              "width": 0.5
             },
             "pattern": {
              "fillmode": "overlay",
              "size": 10,
              "solidity": 0.2
             }
            },
            "type": "bar"
           }
          ],
          "barpolar": [
           {
            "marker": {
             "line": {
              "color": "#E5ECF6",
              "width": 0.5
             },
             "pattern": {
              "fillmode": "overlay",
              "size": 10,
              "solidity": 0.2
             }
            },
            "type": "barpolar"
           }
          ],
          "carpet": [
           {
            "aaxis": {
             "endlinecolor": "#2a3f5f",
             "gridcolor": "white",
             "linecolor": "white",
             "minorgridcolor": "white",
             "startlinecolor": "#2a3f5f"
            },
            "baxis": {
             "endlinecolor": "#2a3f5f",
             "gridcolor": "white",
             "linecolor": "white",
             "minorgridcolor": "white",
             "startlinecolor": "#2a3f5f"
            },
            "type": "carpet"
           }
          ],
          "choropleth": [
           {
            "colorbar": {
             "outlinewidth": 0,
             "ticks": ""
            },
            "type": "choropleth"
           }
          ],
          "contour": [
           {
            "colorbar": {
             "outlinewidth": 0,
             "ticks": ""
            },
            "colorscale": [
             [
              0,
              "#0d0887"
             ],
             [
              0.1111111111111111,
              "#46039f"
             ],
             [
              0.2222222222222222,
              "#7201a8"
             ],
             [
              0.3333333333333333,
              "#9c179e"
             ],
             [
              0.4444444444444444,
              "#bd3786"
             ],
             [
              0.5555555555555556,
              "#d8576b"
             ],
             [
              0.6666666666666666,
              "#ed7953"
             ],
             [
              0.7777777777777778,
              "#fb9f3a"
             ],
             [
              0.8888888888888888,
              "#fdca26"
             ],
             [
              1,
              "#f0f921"
             ]
            ],
            "type": "contour"
           }
          ],
          "contourcarpet": [
           {
            "colorbar": {
             "outlinewidth": 0,
             "ticks": ""
            },
            "type": "contourcarpet"
           }
          ],
          "heatmap": [
           {
            "colorbar": {
             "outlinewidth": 0,
             "ticks": ""
            },
            "colorscale": [
             [
              0,
              "#0d0887"
             ],
             [
              0.1111111111111111,
              "#46039f"
             ],
             [
              0.2222222222222222,
              "#7201a8"
             ],
             [
              0.3333333333333333,
              "#9c179e"
             ],
             [
              0.4444444444444444,
              "#bd3786"
             ],
             [
              0.5555555555555556,
              "#d8576b"
             ],
             [
              0.6666666666666666,
              "#ed7953"
             ],
             [
              0.7777777777777778,
              "#fb9f3a"
             ],
             [
              0.8888888888888888,
              "#fdca26"
             ],
             [
              1,
              "#f0f921"
             ]
            ],
            "type": "heatmap"
           }
          ],
          "histogram": [
           {
            "marker": {
             "pattern": {
              "fillmode": "overlay",
              "size": 10,
              "solidity": 0.2
             }
            },
            "type": "histogram"
           }
          ],
          "histogram2d": [
           {
            "colorbar": {
             "outlinewidth": 0,
             "ticks": ""
            },
            "colorscale": [
             [
              0,
              "#0d0887"
             ],
             [
              0.1111111111111111,
              "#46039f"
             ],
             [
              0.2222222222222222,
              "#7201a8"
             ],
             [
              0.3333333333333333,
              "#9c179e"
             ],
             [
              0.4444444444444444,
              "#bd3786"
             ],
             [
              0.5555555555555556,
              "#d8576b"
             ],
             [
              0.6666666666666666,
              "#ed7953"
             ],
             [
              0.7777777777777778,
              "#fb9f3a"
             ],
             [
              0.8888888888888888,
              "#fdca26"
             ],
             [
              1,
              "#f0f921"
             ]
            ],
            "type": "histogram2d"
           }
          ],
          "histogram2dcontour": [
           {
            "colorbar": {
             "outlinewidth": 0,
             "ticks": ""
            },
            "colorscale": [
             [
              0,
              "#0d0887"
             ],
             [
              0.1111111111111111,
              "#46039f"
             ],
             [
              0.2222222222222222,
              "#7201a8"
             ],
             [
              0.3333333333333333,
              "#9c179e"
             ],
             [
              0.4444444444444444,
              "#bd3786"
             ],
             [
              0.5555555555555556,
              "#d8576b"
             ],
             [
              0.6666666666666666,
              "#ed7953"
             ],
             [
              0.7777777777777778,
              "#fb9f3a"
             ],
             [
              0.8888888888888888,
              "#fdca26"
             ],
             [
              1,
              "#f0f921"
             ]
            ],
            "type": "histogram2dcontour"
           }
          ],
          "mesh3d": [
           {
            "colorbar": {
             "outlinewidth": 0,
             "ticks": ""
            },
            "type": "mesh3d"
           }
          ],
          "parcoords": [
           {
            "line": {
             "colorbar": {
              "outlinewidth": 0,
              "ticks": ""
             }
            },
            "type": "parcoords"
           }
          ],
          "pie": [
           {
            "automargin": true,
            "type": "pie"
           }
          ],
          "scatter": [
           {
            "fillpattern": {
             "fillmode": "overlay",
             "size": 10,
             "solidity": 0.2
            },
            "type": "scatter"
           }
          ],
          "scatter3d": [
           {
            "line": {
             "colorbar": {
              "outlinewidth": 0,
              "ticks": ""
             }
            },
            "marker": {
             "colorbar": {
              "outlinewidth": 0,
              "ticks": ""
             }
            },
            "type": "scatter3d"
           }
          ],
          "scattercarpet": [
           {
            "marker": {
             "colorbar": {
              "outlinewidth": 0,
              "ticks": ""
             }
            },
            "type": "scattercarpet"
           }
          ],
          "scattergeo": [
           {
            "marker": {
             "colorbar": {
              "outlinewidth": 0,
              "ticks": ""
             }
            },
            "type": "scattergeo"
           }
          ],
          "scattergl": [
           {
            "marker": {
             "colorbar": {
              "outlinewidth": 0,
              "ticks": ""
             }
            },
            "type": "scattergl"
           }
          ],
          "scattermap": [
           {
            "marker": {
             "colorbar": {
              "outlinewidth": 0,
              "ticks": ""
             }
            },
            "type": "scattermap"
           }
          ],
          "scattermapbox": [
           {
            "marker": {
             "colorbar": {
              "outlinewidth": 0,
              "ticks": ""
             }
            },
            "type": "scattermapbox"
           }
          ],
          "scatterpolar": [
           {
            "marker": {
             "colorbar": {
              "outlinewidth": 0,
              "ticks": ""
             }
            },
            "type": "scatterpolar"
           }
          ],
          "scatterpolargl": [
           {
            "marker": {
             "colorbar": {
              "outlinewidth": 0,
              "ticks": ""
             }
            },
            "type": "scatterpolargl"
           }
          ],
          "scatterternary": [
           {
            "marker": {
             "colorbar": {
              "outlinewidth": 0,
              "ticks": ""
             }
            },
            "type": "scatterternary"
           }
          ],
          "surface": [
           {
            "colorbar": {
             "outlinewidth": 0,
             "ticks": ""
            },
            "colorscale": [
             [
              0,
              "#0d0887"
             ],
             [
              0.1111111111111111,
              "#46039f"
             ],
             [
              0.2222222222222222,
              "#7201a8"
             ],
             [
              0.3333333333333333,
              "#9c179e"
             ],
             [
              0.4444444444444444,
              "#bd3786"
             ],
             [
              0.5555555555555556,
              "#d8576b"
             ],
             [
              0.6666666666666666,
              "#ed7953"
             ],
             [
              0.7777777777777778,
              "#fb9f3a"
             ],
             [
              0.8888888888888888,
              "#fdca26"
             ],
             [
              1,
              "#f0f921"
             ]
            ],
            "type": "surface"
           }
          ],
          "table": [
           {
            "cells": {
             "fill": {
              "color": "#EBF0F8"
             },
             "line": {
              "color": "white"
             }
            },
            "header": {
             "fill": {
              "color": "#C8D4E3"
             },
             "line": {
              "color": "white"
             }
            },
            "type": "table"
           }
          ]
         },
         "layout": {
          "annotationdefaults": {
           "arrowcolor": "#2a3f5f",
           "arrowhead": 0,
           "arrowwidth": 1
          },
          "autotypenumbers": "strict",
          "coloraxis": {
           "colorbar": {
            "outlinewidth": 0,
            "ticks": ""
           }
          },
          "colorscale": {
           "diverging": [
            [
             0,
             "#8e0152"
            ],
            [
             0.1,
             "#c51b7d"
            ],
            [
             0.2,
             "#de77ae"
            ],
            [
             0.3,
             "#f1b6da"
            ],
            [
             0.4,
             "#fde0ef"
            ],
            [
             0.5,
             "#f7f7f7"
            ],
            [
             0.6,
             "#e6f5d0"
            ],
            [
             0.7,
             "#b8e186"
            ],
            [
             0.8,
             "#7fbc41"
            ],
            [
             0.9,
             "#4d9221"
            ],
            [
             1,
             "#276419"
            ]
           ],
           "sequential": [
            [
             0,
             "#0d0887"
            ],
            [
             0.1111111111111111,
             "#46039f"
            ],
            [
             0.2222222222222222,
             "#7201a8"
            ],
            [
             0.3333333333333333,
             "#9c179e"
            ],
            [
             0.4444444444444444,
             "#bd3786"
            ],
            [
             0.5555555555555556,
             "#d8576b"
            ],
            [
             0.6666666666666666,
             "#ed7953"
            ],
            [
             0.7777777777777778,
             "#fb9f3a"
            ],
            [
             0.8888888888888888,
             "#fdca26"
            ],
            [
             1,
             "#f0f921"
            ]
           ],
           "sequentialminus": [
            [
             0,
             "#0d0887"
            ],
            [
             0.1111111111111111,
             "#46039f"
            ],
            [
             0.2222222222222222,
             "#7201a8"
            ],
            [
             0.3333333333333333,
             "#9c179e"
            ],
            [
             0.4444444444444444,
             "#bd3786"
            ],
            [
             0.5555555555555556,
             "#d8576b"
            ],
            [
             0.6666666666666666,
             "#ed7953"
            ],
            [
             0.7777777777777778,
             "#fb9f3a"
            ],
            [
             0.8888888888888888,
             "#fdca26"
            ],
            [
             1,
             "#f0f921"
            ]
           ]
          },
          "colorway": [
           "#636efa",
           "#EF553B",
           "#00cc96",
           "#ab63fa",
           "#FFA15A",
           "#19d3f3",
           "#FF6692",
           "#B6E880",
           "#FF97FF",
           "#FECB52"
          ],
          "font": {
           "color": "#2a3f5f"
          },
          "geo": {
           "bgcolor": "white",
           "lakecolor": "white",
           "landcolor": "#E5ECF6",
           "showlakes": true,
           "showland": true,
           "subunitcolor": "white"
          },
          "hoverlabel": {
           "align": "left"
          },
          "hovermode": "closest",
          "mapbox": {
           "style": "light"
          },
          "paper_bgcolor": "white",
          "plot_bgcolor": "#E5ECF6",
          "polar": {
           "angularaxis": {
            "gridcolor": "white",
            "linecolor": "white",
            "ticks": ""
           },
           "bgcolor": "#E5ECF6",
           "radialaxis": {
            "gridcolor": "white",
            "linecolor": "white",
            "ticks": ""
           }
          },
          "scene": {
           "xaxis": {
            "backgroundcolor": "#E5ECF6",
            "gridcolor": "white",
            "gridwidth": 2,
            "linecolor": "white",
            "showbackground": true,
            "ticks": "",
            "zerolinecolor": "white"
           },
           "yaxis": {
            "backgroundcolor": "#E5ECF6",
            "gridcolor": "white",
            "gridwidth": 2,
            "linecolor": "white",
            "showbackground": true,
            "ticks": "",
            "zerolinecolor": "white"
           },
           "zaxis": {
            "backgroundcolor": "#E5ECF6",
            "gridcolor": "white",
            "gridwidth": 2,
            "linecolor": "white",
            "showbackground": true,
            "ticks": "",
            "zerolinecolor": "white"
           }
          },
          "shapedefaults": {
           "line": {
            "color": "#2a3f5f"
           }
          },
          "ternary": {
           "aaxis": {
            "gridcolor": "white",
            "linecolor": "white",
            "ticks": ""
           },
           "baxis": {
            "gridcolor": "white",
            "linecolor": "white",
            "ticks": ""
           },
           "bgcolor": "#E5ECF6",
           "caxis": {
            "gridcolor": "white",
            "linecolor": "white",
            "ticks": ""
           }
          },
          "title": {
           "x": 0.05
          },
          "xaxis": {
           "automargin": true,
           "gridcolor": "white",
           "linecolor": "white",
           "ticks": "",
           "title": {
            "standoff": 15
           },
           "zerolinecolor": "white",
           "zerolinewidth": 2
          },
          "yaxis": {
           "automargin": true,
           "gridcolor": "white",
           "linecolor": "white",
           "ticks": "",
           "title": {
            "standoff": 15
           },
           "zerolinecolor": "white",
           "zerolinewidth": 2
          }
         }
        },
        "xaxis": {
         "anchor": "y",
         "domain": [
          0,
          1
         ],
         "title": {
          "text": "sector"
         }
        },
        "yaxis": {
         "anchor": "x",
         "domain": [
          0,
          1
         ],
         "title": {
          "text": "min_salary_estimate"
         }
        }
       }
      }
     },
     "metadata": {},
     "output_type": "display_data"
    }
   ],
   "source": [
    "fig = px.box(data_frame=df, x = \"sector\", y = \"min_salary_estimate\")\n",
    "fig.show()"
   ]
  },
  {
   "cell_type": "markdown",
   "metadata": {},
   "source": [
    "### Number of job posting by location"
   ]
  },
  {
   "cell_type": "code",
   "execution_count": 29,
   "metadata": {},
   "outputs": [
    {
     "data": {
      "application/vnd.plotly.v1+json": {
       "config": {
        "plotlyServerURL": "https://plot.ly"
       },
       "data": [
        {
         "hovertemplate": "sector=%{x}<br>num_of_job_posting=%{y}<extra></extra>",
         "legendgroup": "",
         "marker": {
          "color": "#636efa",
          "pattern": {
           "shape": ""
          }
         },
         "name": "",
         "orientation": "v",
         "showlegend": false,
         "textposition": "auto",
         "type": "bar",
         "x": [
          "Information Technology",
          "Business Services",
          "Biotech & Pharmaceuticals",
          "Finance",
          "Health Care",
          "Insurance",
          "Education",
          "Manufacturing",
          "Government",
          "Media"
         ],
         "xaxis": "x",
         "y": {
          "bdata": "ZASnAiUBDgHFAG0AZQBXAFIASwA=",
          "dtype": "i2"
         },
         "yaxis": "y"
        }
       ],
       "layout": {
        "barmode": "relative",
        "legend": {
         "tracegroupgap": 0
        },
        "template": {
         "data": {
          "bar": [
           {
            "error_x": {
             "color": "#f2f5fa"
            },
            "error_y": {
             "color": "#f2f5fa"
            },
            "marker": {
             "line": {
              "color": "rgb(17,17,17)",
              "width": 0.5
             },
             "pattern": {
              "fillmode": "overlay",
              "size": 10,
              "solidity": 0.2
             }
            },
            "type": "bar"
           }
          ],
          "barpolar": [
           {
            "marker": {
             "line": {
              "color": "rgb(17,17,17)",
              "width": 0.5
             },
             "pattern": {
              "fillmode": "overlay",
              "size": 10,
              "solidity": 0.2
             }
            },
            "type": "barpolar"
           }
          ],
          "carpet": [
           {
            "aaxis": {
             "endlinecolor": "#A2B1C6",
             "gridcolor": "#506784",
             "linecolor": "#506784",
             "minorgridcolor": "#506784",
             "startlinecolor": "#A2B1C6"
            },
            "baxis": {
             "endlinecolor": "#A2B1C6",
             "gridcolor": "#506784",
             "linecolor": "#506784",
             "minorgridcolor": "#506784",
             "startlinecolor": "#A2B1C6"
            },
            "type": "carpet"
           }
          ],
          "choropleth": [
           {
            "colorbar": {
             "outlinewidth": 0,
             "ticks": ""
            },
            "type": "choropleth"
           }
          ],
          "contour": [
           {
            "colorbar": {
             "outlinewidth": 0,
             "ticks": ""
            },
            "colorscale": [
             [
              0,
              "#0d0887"
             ],
             [
              0.1111111111111111,
              "#46039f"
             ],
             [
              0.2222222222222222,
              "#7201a8"
             ],
             [
              0.3333333333333333,
              "#9c179e"
             ],
             [
              0.4444444444444444,
              "#bd3786"
             ],
             [
              0.5555555555555556,
              "#d8576b"
             ],
             [
              0.6666666666666666,
              "#ed7953"
             ],
             [
              0.7777777777777778,
              "#fb9f3a"
             ],
             [
              0.8888888888888888,
              "#fdca26"
             ],
             [
              1,
              "#f0f921"
             ]
            ],
            "type": "contour"
           }
          ],
          "contourcarpet": [
           {
            "colorbar": {
             "outlinewidth": 0,
             "ticks": ""
            },
            "type": "contourcarpet"
           }
          ],
          "heatmap": [
           {
            "colorbar": {
             "outlinewidth": 0,
             "ticks": ""
            },
            "colorscale": [
             [
              0,
              "#0d0887"
             ],
             [
              0.1111111111111111,
              "#46039f"
             ],
             [
              0.2222222222222222,
              "#7201a8"
             ],
             [
              0.3333333333333333,
              "#9c179e"
             ],
             [
              0.4444444444444444,
              "#bd3786"
             ],
             [
              0.5555555555555556,
              "#d8576b"
             ],
             [
              0.6666666666666666,
              "#ed7953"
             ],
             [
              0.7777777777777778,
              "#fb9f3a"
             ],
             [
              0.8888888888888888,
              "#fdca26"
             ],
             [
              1,
              "#f0f921"
             ]
            ],
            "type": "heatmap"
           }
          ],
          "histogram": [
           {
            "marker": {
             "pattern": {
              "fillmode": "overlay",
              "size": 10,
              "solidity": 0.2
             }
            },
            "type": "histogram"
           }
          ],
          "histogram2d": [
           {
            "colorbar": {
             "outlinewidth": 0,
             "ticks": ""
            },
            "colorscale": [
             [
              0,
              "#0d0887"
             ],
             [
              0.1111111111111111,
              "#46039f"
             ],
             [
              0.2222222222222222,
              "#7201a8"
             ],
             [
              0.3333333333333333,
              "#9c179e"
             ],
             [
              0.4444444444444444,
              "#bd3786"
             ],
             [
              0.5555555555555556,
              "#d8576b"
             ],
             [
              0.6666666666666666,
              "#ed7953"
             ],
             [
              0.7777777777777778,
              "#fb9f3a"
             ],
             [
              0.8888888888888888,
              "#fdca26"
             ],
             [
              1,
              "#f0f921"
             ]
            ],
            "type": "histogram2d"
           }
          ],
          "histogram2dcontour": [
           {
            "colorbar": {
             "outlinewidth": 0,
             "ticks": ""
            },
            "colorscale": [
             [
              0,
              "#0d0887"
             ],
             [
              0.1111111111111111,
              "#46039f"
             ],
             [
              0.2222222222222222,
              "#7201a8"
             ],
             [
              0.3333333333333333,
              "#9c179e"
             ],
             [
              0.4444444444444444,
              "#bd3786"
             ],
             [
              0.5555555555555556,
              "#d8576b"
             ],
             [
              0.6666666666666666,
              "#ed7953"
             ],
             [
              0.7777777777777778,
              "#fb9f3a"
             ],
             [
              0.8888888888888888,
              "#fdca26"
             ],
             [
              1,
              "#f0f921"
             ]
            ],
            "type": "histogram2dcontour"
           }
          ],
          "mesh3d": [
           {
            "colorbar": {
             "outlinewidth": 0,
             "ticks": ""
            },
            "type": "mesh3d"
           }
          ],
          "parcoords": [
           {
            "line": {
             "colorbar": {
              "outlinewidth": 0,
              "ticks": ""
             }
            },
            "type": "parcoords"
           }
          ],
          "pie": [
           {
            "automargin": true,
            "type": "pie"
           }
          ],
          "scatter": [
           {
            "marker": {
             "line": {
              "color": "#283442"
             }
            },
            "type": "scatter"
           }
          ],
          "scatter3d": [
           {
            "line": {
             "colorbar": {
              "outlinewidth": 0,
              "ticks": ""
             }
            },
            "marker": {
             "colorbar": {
              "outlinewidth": 0,
              "ticks": ""
             }
            },
            "type": "scatter3d"
           }
          ],
          "scattercarpet": [
           {
            "marker": {
             "colorbar": {
              "outlinewidth": 0,
              "ticks": ""
             }
            },
            "type": "scattercarpet"
           }
          ],
          "scattergeo": [
           {
            "marker": {
             "colorbar": {
              "outlinewidth": 0,
              "ticks": ""
             }
            },
            "type": "scattergeo"
           }
          ],
          "scattergl": [
           {
            "marker": {
             "line": {
              "color": "#283442"
             }
            },
            "type": "scattergl"
           }
          ],
          "scattermap": [
           {
            "marker": {
             "colorbar": {
              "outlinewidth": 0,
              "ticks": ""
             }
            },
            "type": "scattermap"
           }
          ],
          "scattermapbox": [
           {
            "marker": {
             "colorbar": {
              "outlinewidth": 0,
              "ticks": ""
             }
            },
            "type": "scattermapbox"
           }
          ],
          "scatterpolar": [
           {
            "marker": {
             "colorbar": {
              "outlinewidth": 0,
              "ticks": ""
             }
            },
            "type": "scatterpolar"
           }
          ],
          "scatterpolargl": [
           {
            "marker": {
             "colorbar": {
              "outlinewidth": 0,
              "ticks": ""
             }
            },
            "type": "scatterpolargl"
           }
          ],
          "scatterternary": [
           {
            "marker": {
             "colorbar": {
              "outlinewidth": 0,
              "ticks": ""
             }
            },
            "type": "scatterternary"
           }
          ],
          "surface": [
           {
            "colorbar": {
             "outlinewidth": 0,
             "ticks": ""
            },
            "colorscale": [
             [
              0,
              "#0d0887"
             ],
             [
              0.1111111111111111,
              "#46039f"
             ],
             [
              0.2222222222222222,
              "#7201a8"
             ],
             [
              0.3333333333333333,
              "#9c179e"
             ],
             [
              0.4444444444444444,
              "#bd3786"
             ],
             [
              0.5555555555555556,
              "#d8576b"
             ],
             [
              0.6666666666666666,
              "#ed7953"
             ],
             [
              0.7777777777777778,
              "#fb9f3a"
             ],
             [
              0.8888888888888888,
              "#fdca26"
             ],
             [
              1,
              "#f0f921"
             ]
            ],
            "type": "surface"
           }
          ],
          "table": [
           {
            "cells": {
             "fill": {
              "color": "#506784"
             },
             "line": {
              "color": "rgb(17,17,17)"
             }
            },
            "header": {
             "fill": {
              "color": "#2a3f5f"
             },
             "line": {
              "color": "rgb(17,17,17)"
             }
            },
            "type": "table"
           }
          ]
         },
         "layout": {
          "annotationdefaults": {
           "arrowcolor": "#f2f5fa",
           "arrowhead": 0,
           "arrowwidth": 1
          },
          "autotypenumbers": "strict",
          "coloraxis": {
           "colorbar": {
            "outlinewidth": 0,
            "ticks": ""
           }
          },
          "colorscale": {
           "diverging": [
            [
             0,
             "#8e0152"
            ],
            [
             0.1,
             "#c51b7d"
            ],
            [
             0.2,
             "#de77ae"
            ],
            [
             0.3,
             "#f1b6da"
            ],
            [
             0.4,
             "#fde0ef"
            ],
            [
             0.5,
             "#f7f7f7"
            ],
            [
             0.6,
             "#e6f5d0"
            ],
            [
             0.7,
             "#b8e186"
            ],
            [
             0.8,
             "#7fbc41"
            ],
            [
             0.9,
             "#4d9221"
            ],
            [
             1,
             "#276419"
            ]
           ],
           "sequential": [
            [
             0,
             "#0d0887"
            ],
            [
             0.1111111111111111,
             "#46039f"
            ],
            [
             0.2222222222222222,
             "#7201a8"
            ],
            [
             0.3333333333333333,
             "#9c179e"
            ],
            [
             0.4444444444444444,
             "#bd3786"
            ],
            [
             0.5555555555555556,
             "#d8576b"
            ],
            [
             0.6666666666666666,
             "#ed7953"
            ],
            [
             0.7777777777777778,
             "#fb9f3a"
            ],
            [
             0.8888888888888888,
             "#fdca26"
            ],
            [
             1,
             "#f0f921"
            ]
           ],
           "sequentialminus": [
            [
             0,
             "#0d0887"
            ],
            [
             0.1111111111111111,
             "#46039f"
            ],
            [
             0.2222222222222222,
             "#7201a8"
            ],
            [
             0.3333333333333333,
             "#9c179e"
            ],
            [
             0.4444444444444444,
             "#bd3786"
            ],
            [
             0.5555555555555556,
             "#d8576b"
            ],
            [
             0.6666666666666666,
             "#ed7953"
            ],
            [
             0.7777777777777778,
             "#fb9f3a"
            ],
            [
             0.8888888888888888,
             "#fdca26"
            ],
            [
             1,
             "#f0f921"
            ]
           ]
          },
          "colorway": [
           "#636efa",
           "#EF553B",
           "#00cc96",
           "#ab63fa",
           "#FFA15A",
           "#19d3f3",
           "#FF6692",
           "#B6E880",
           "#FF97FF",
           "#FECB52"
          ],
          "font": {
           "color": "#f2f5fa"
          },
          "geo": {
           "bgcolor": "rgb(17,17,17)",
           "lakecolor": "rgb(17,17,17)",
           "landcolor": "rgb(17,17,17)",
           "showlakes": true,
           "showland": true,
           "subunitcolor": "#506784"
          },
          "hoverlabel": {
           "align": "left"
          },
          "hovermode": "closest",
          "mapbox": {
           "style": "dark"
          },
          "paper_bgcolor": "rgb(17,17,17)",
          "plot_bgcolor": "rgb(17,17,17)",
          "polar": {
           "angularaxis": {
            "gridcolor": "#506784",
            "linecolor": "#506784",
            "ticks": ""
           },
           "bgcolor": "rgb(17,17,17)",
           "radialaxis": {
            "gridcolor": "#506784",
            "linecolor": "#506784",
            "ticks": ""
           }
          },
          "scene": {
           "xaxis": {
            "backgroundcolor": "rgb(17,17,17)",
            "gridcolor": "#506784",
            "gridwidth": 2,
            "linecolor": "#506784",
            "showbackground": true,
            "ticks": "",
            "zerolinecolor": "#C8D4E3"
           },
           "yaxis": {
            "backgroundcolor": "rgb(17,17,17)",
            "gridcolor": "#506784",
            "gridwidth": 2,
            "linecolor": "#506784",
            "showbackground": true,
            "ticks": "",
            "zerolinecolor": "#C8D4E3"
           },
           "zaxis": {
            "backgroundcolor": "rgb(17,17,17)",
            "gridcolor": "#506784",
            "gridwidth": 2,
            "linecolor": "#506784",
            "showbackground": true,
            "ticks": "",
            "zerolinecolor": "#C8D4E3"
           }
          },
          "shapedefaults": {
           "line": {
            "color": "#f2f5fa"
           }
          },
          "sliderdefaults": {
           "bgcolor": "#C8D4E3",
           "bordercolor": "rgb(17,17,17)",
           "borderwidth": 1,
           "tickwidth": 0
          },
          "ternary": {
           "aaxis": {
            "gridcolor": "#506784",
            "linecolor": "#506784",
            "ticks": ""
           },
           "baxis": {
            "gridcolor": "#506784",
            "linecolor": "#506784",
            "ticks": ""
           },
           "bgcolor": "rgb(17,17,17)",
           "caxis": {
            "gridcolor": "#506784",
            "linecolor": "#506784",
            "ticks": ""
           }
          },
          "title": {
           "x": 0.05
          },
          "updatemenudefaults": {
           "bgcolor": "#506784",
           "borderwidth": 0
          },
          "xaxis": {
           "automargin": true,
           "gridcolor": "#283442",
           "linecolor": "#506784",
           "ticks": "",
           "title": {
            "standoff": 15
           },
           "zerolinecolor": "#283442",
           "zerolinewidth": 2
          },
          "yaxis": {
           "automargin": true,
           "gridcolor": "#283442",
           "linecolor": "#506784",
           "ticks": "",
           "title": {
            "standoff": 15
           },
           "zerolinecolor": "#283442",
           "zerolinewidth": 2
          }
         }
        },
        "title": {
         "text": "Number of Job Posting by Sector",
         "x": 0.5
        },
        "xaxis": {
         "anchor": "y",
         "domain": [
          0,
          1
         ],
         "title": {
          "text": "sector"
         }
        },
        "yaxis": {
         "anchor": "x",
         "domain": [
          0,
          1
         ],
         "title": {
          "text": "num_of_job_posting"
         }
        }
       }
      }
     },
     "metadata": {},
     "output_type": "display_data"
    }
   ],
   "source": [
    "roles_by_sectors = df.groupby(['sector'])[['job_title']]\\\n",
    "                     .count()\\\n",
    "                     .reset_index()\\\n",
    "                     .sort_values(by='job_title', ascending=False)\\\n",
    "                     .head(10)\n",
    "                     \n",
    "roles_by_sectors = roles_by_sectors.rename(columns={'job_title': 'num_of_job_posting'})\n",
    "\n",
    "fig = px.bar(roles_by_sectors, x = \"sector\", y = \"num_of_job_posting\", template=PLOTLY_THEME, title=\"Number of Job Posting by Sector\")\n",
    "fig.update_layout(title_x = 0.5)\n",
    "fig.show()"
   ]
  },
  {
   "cell_type": "markdown",
   "metadata": {},
   "source": [
    "### NB Provide insigths on location based industries and support the statement using references/articles to be in a poster\n",
    "\n",
    "---"
   ]
  },
  {
   "cell_type": "code",
   "execution_count": 30,
   "metadata": {},
   "outputs": [
    {
     "data": {
      "text/html": [
       "<div>\n",
       "<style scoped>\n",
       "    .dataframe tbody tr th:only-of-type {\n",
       "        vertical-align: middle;\n",
       "    }\n",
       "\n",
       "    .dataframe tbody tr th {\n",
       "        vertical-align: top;\n",
       "    }\n",
       "\n",
       "    .dataframe thead th {\n",
       "        text-align: right;\n",
       "    }\n",
       "</style>\n",
       "<table border=\"1\" class=\"dataframe\">\n",
       "  <thead>\n",
       "    <tr style=\"text-align: right;\">\n",
       "      <th></th>\n",
       "      <th>company_size_category</th>\n",
       "      <th>num_of_job_posting</th>\n",
       "    </tr>\n",
       "  </thead>\n",
       "  <tbody>\n",
       "    <tr>\n",
       "      <th>0</th>\n",
       "      <td>Large</td>\n",
       "      <td>1738</td>\n",
       "    </tr>\n",
       "    <tr>\n",
       "      <th>1</th>\n",
       "      <td>Medium</td>\n",
       "      <td>696</td>\n",
       "    </tr>\n",
       "    <tr>\n",
       "      <th>2</th>\n",
       "      <td>Small</td>\n",
       "      <td>914</td>\n",
       "    </tr>\n",
       "    <tr>\n",
       "      <th>3</th>\n",
       "      <td>Unknown</td>\n",
       "      <td>15</td>\n",
       "    </tr>\n",
       "  </tbody>\n",
       "</table>\n",
       "</div>"
      ],
      "text/plain": [
       "  company_size_category  num_of_job_posting\n",
       "0                 Large                1738\n",
       "1                Medium                 696\n",
       "2                 Small                 914\n",
       "3               Unknown                  15"
      ]
     },
     "execution_count": 30,
     "metadata": {},
     "output_type": "execute_result"
    }
   ],
   "source": [
    "roles_by_company_size = df.groupby(['company_size_category'])[['job_title']]\\\n",
    "                          .count()\\\n",
    "                          .reset_index()\\\n",
    "                          \n",
    "roles_by_company_size = roles_by_company_size.rename(columns={\"job_title\": \"num_of_job_posting\"})                          \n",
    "                          \n",
    "roles_by_company_size.head()"
   ]
  },
  {
   "cell_type": "code",
   "execution_count": null,
   "metadata": {},
   "outputs": [
    {
     "data": {
      "application/vnd.plotly.v1+json": {
       "config": {
        "plotlyServerURL": "https://plot.ly"
       },
       "data": [
        {
         "domain": {
          "x": [
           0,
           1
          ],
          "y": [
           0,
           1
          ]
         },
         "hovertemplate": "company_size_category=%{label}<br>num_of_job_posting=%{value}<extra></extra>",
         "labels": [
          "Large",
          "Medium",
          "Small",
          "Unknown"
         ],
         "legendgroup": "",
         "name": "",
         "showlegend": true,
         "type": "pie",
         "values": {
          "bdata": "yga4ApIDDwA=",
          "dtype": "i2"
         }
        }
       ],
       "layout": {
        "legend": {
         "tracegroupgap": 0
        },
        "margin": {
         "t": 60
        },
        "template": {
         "data": {
          "bar": [
           {
            "error_x": {
             "color": "#f2f5fa"
            },
            "error_y": {
             "color": "#f2f5fa"
            },
            "marker": {
             "line": {
              "color": "rgb(17,17,17)",
              "width": 0.5
             },
             "pattern": {
              "fillmode": "overlay",
              "size": 10,
              "solidity": 0.2
             }
            },
            "type": "bar"
           }
          ],
          "barpolar": [
           {
            "marker": {
             "line": {
              "color": "rgb(17,17,17)",
              "width": 0.5
             },
             "pattern": {
              "fillmode": "overlay",
              "size": 10,
              "solidity": 0.2
             }
            },
            "type": "barpolar"
           }
          ],
          "carpet": [
           {
            "aaxis": {
             "endlinecolor": "#A2B1C6",
             "gridcolor": "#506784",
             "linecolor": "#506784",
             "minorgridcolor": "#506784",
             "startlinecolor": "#A2B1C6"
            },
            "baxis": {
             "endlinecolor": "#A2B1C6",
             "gridcolor": "#506784",
             "linecolor": "#506784",
             "minorgridcolor": "#506784",
             "startlinecolor": "#A2B1C6"
            },
            "type": "carpet"
           }
          ],
          "choropleth": [
           {
            "colorbar": {
             "outlinewidth": 0,
             "ticks": ""
            },
            "type": "choropleth"
           }
          ],
          "contour": [
           {
            "colorbar": {
             "outlinewidth": 0,
             "ticks": ""
            },
            "colorscale": [
             [
              0,
              "#0d0887"
             ],
             [
              0.1111111111111111,
              "#46039f"
             ],
             [
              0.2222222222222222,
              "#7201a8"
             ],
             [
              0.3333333333333333,
              "#9c179e"
             ],
             [
              0.4444444444444444,
              "#bd3786"
             ],
             [
              0.5555555555555556,
              "#d8576b"
             ],
             [
              0.6666666666666666,
              "#ed7953"
             ],
             [
              0.7777777777777778,
              "#fb9f3a"
             ],
             [
              0.8888888888888888,
              "#fdca26"
             ],
             [
              1,
              "#f0f921"
             ]
            ],
            "type": "contour"
           }
          ],
          "contourcarpet": [
           {
            "colorbar": {
             "outlinewidth": 0,
             "ticks": ""
            },
            "type": "contourcarpet"
           }
          ],
          "heatmap": [
           {
            "colorbar": {
             "outlinewidth": 0,
             "ticks": ""
            },
            "colorscale": [
             [
              0,
              "#0d0887"
             ],
             [
              0.1111111111111111,
              "#46039f"
             ],
             [
              0.2222222222222222,
              "#7201a8"
             ],
             [
              0.3333333333333333,
              "#9c179e"
             ],
             [
              0.4444444444444444,
              "#bd3786"
             ],
             [
              0.5555555555555556,
              "#d8576b"
             ],
             [
              0.6666666666666666,
              "#ed7953"
             ],
             [
              0.7777777777777778,
              "#fb9f3a"
             ],
             [
              0.8888888888888888,
              "#fdca26"
             ],
             [
              1,
              "#f0f921"
             ]
            ],
            "type": "heatmap"
           }
          ],
          "histogram": [
           {
            "marker": {
             "pattern": {
              "fillmode": "overlay",
              "size": 10,
              "solidity": 0.2
             }
            },
            "type": "histogram"
           }
          ],
          "histogram2d": [
           {
            "colorbar": {
             "outlinewidth": 0,
             "ticks": ""
            },
            "colorscale": [
             [
              0,
              "#0d0887"
             ],
             [
              0.1111111111111111,
              "#46039f"
             ],
             [
              0.2222222222222222,
              "#7201a8"
             ],
             [
              0.3333333333333333,
              "#9c179e"
             ],
             [
              0.4444444444444444,
              "#bd3786"
             ],
             [
              0.5555555555555556,
              "#d8576b"
             ],
             [
              0.6666666666666666,
              "#ed7953"
             ],
             [
              0.7777777777777778,
              "#fb9f3a"
             ],
             [
              0.8888888888888888,
              "#fdca26"
             ],
             [
              1,
              "#f0f921"
             ]
            ],
            "type": "histogram2d"
           }
          ],
          "histogram2dcontour": [
           {
            "colorbar": {
             "outlinewidth": 0,
             "ticks": ""
            },
            "colorscale": [
             [
              0,
              "#0d0887"
             ],
             [
              0.1111111111111111,
              "#46039f"
             ],
             [
              0.2222222222222222,
              "#7201a8"
             ],
             [
              0.3333333333333333,
              "#9c179e"
             ],
             [
              0.4444444444444444,
              "#bd3786"
             ],
             [
              0.5555555555555556,
              "#d8576b"
             ],
             [
              0.6666666666666666,
              "#ed7953"
             ],
             [
              0.7777777777777778,
              "#fb9f3a"
             ],
             [
              0.8888888888888888,
              "#fdca26"
             ],
             [
              1,
              "#f0f921"
             ]
            ],
            "type": "histogram2dcontour"
           }
          ],
          "mesh3d": [
           {
            "colorbar": {
             "outlinewidth": 0,
             "ticks": ""
            },
            "type": "mesh3d"
           }
          ],
          "parcoords": [
           {
            "line": {
             "colorbar": {
              "outlinewidth": 0,
              "ticks": ""
             }
            },
            "type": "parcoords"
           }
          ],
          "pie": [
           {
            "automargin": true,
            "type": "pie"
           }
          ],
          "scatter": [
           {
            "marker": {
             "line": {
              "color": "#283442"
             }
            },
            "type": "scatter"
           }
          ],
          "scatter3d": [
           {
            "line": {
             "colorbar": {
              "outlinewidth": 0,
              "ticks": ""
             }
            },
            "marker": {
             "colorbar": {
              "outlinewidth": 0,
              "ticks": ""
             }
            },
            "type": "scatter3d"
           }
          ],
          "scattercarpet": [
           {
            "marker": {
             "colorbar": {
              "outlinewidth": 0,
              "ticks": ""
             }
            },
            "type": "scattercarpet"
           }
          ],
          "scattergeo": [
           {
            "marker": {
             "colorbar": {
              "outlinewidth": 0,
              "ticks": ""
             }
            },
            "type": "scattergeo"
           }
          ],
          "scattergl": [
           {
            "marker": {
             "line": {
              "color": "#283442"
             }
            },
            "type": "scattergl"
           }
          ],
          "scattermap": [
           {
            "marker": {
             "colorbar": {
              "outlinewidth": 0,
              "ticks": ""
             }
            },
            "type": "scattermap"
           }
          ],
          "scattermapbox": [
           {
            "marker": {
             "colorbar": {
              "outlinewidth": 0,
              "ticks": ""
             }
            },
            "type": "scattermapbox"
           }
          ],
          "scatterpolar": [
           {
            "marker": {
             "colorbar": {
              "outlinewidth": 0,
              "ticks": ""
             }
            },
            "type": "scatterpolar"
           }
          ],
          "scatterpolargl": [
           {
            "marker": {
             "colorbar": {
              "outlinewidth": 0,
              "ticks": ""
             }
            },
            "type": "scatterpolargl"
           }
          ],
          "scatterternary": [
           {
            "marker": {
             "colorbar": {
              "outlinewidth": 0,
              "ticks": ""
             }
            },
            "type": "scatterternary"
           }
          ],
          "surface": [
           {
            "colorbar": {
             "outlinewidth": 0,
             "ticks": ""
            },
            "colorscale": [
             [
              0,
              "#0d0887"
             ],
             [
              0.1111111111111111,
              "#46039f"
             ],
             [
              0.2222222222222222,
              "#7201a8"
             ],
             [
              0.3333333333333333,
              "#9c179e"
             ],
             [
              0.4444444444444444,
              "#bd3786"
             ],
             [
              0.5555555555555556,
              "#d8576b"
             ],
             [
              0.6666666666666666,
              "#ed7953"
             ],
             [
              0.7777777777777778,
              "#fb9f3a"
             ],
             [
              0.8888888888888888,
              "#fdca26"
             ],
             [
              1,
              "#f0f921"
             ]
            ],
            "type": "surface"
           }
          ],
          "table": [
           {
            "cells": {
             "fill": {
              "color": "#506784"
             },
             "line": {
              "color": "rgb(17,17,17)"
             }
            },
            "header": {
             "fill": {
              "color": "#2a3f5f"
             },
             "line": {
              "color": "rgb(17,17,17)"
             }
            },
            "type": "table"
           }
          ]
         },
         "layout": {
          "annotationdefaults": {
           "arrowcolor": "#f2f5fa",
           "arrowhead": 0,
           "arrowwidth": 1
          },
          "autotypenumbers": "strict",
          "coloraxis": {
           "colorbar": {
            "outlinewidth": 0,
            "ticks": ""
           }
          },
          "colorscale": {
           "diverging": [
            [
             0,
             "#8e0152"
            ],
            [
             0.1,
             "#c51b7d"
            ],
            [
             0.2,
             "#de77ae"
            ],
            [
             0.3,
             "#f1b6da"
            ],
            [
             0.4,
             "#fde0ef"
            ],
            [
             0.5,
             "#f7f7f7"
            ],
            [
             0.6,
             "#e6f5d0"
            ],
            [
             0.7,
             "#b8e186"
            ],
            [
             0.8,
             "#7fbc41"
            ],
            [
             0.9,
             "#4d9221"
            ],
            [
             1,
             "#276419"
            ]
           ],
           "sequential": [
            [
             0,
             "#0d0887"
            ],
            [
             0.1111111111111111,
             "#46039f"
            ],
            [
             0.2222222222222222,
             "#7201a8"
            ],
            [
             0.3333333333333333,
             "#9c179e"
            ],
            [
             0.4444444444444444,
             "#bd3786"
            ],
            [
             0.5555555555555556,
             "#d8576b"
            ],
            [
             0.6666666666666666,
             "#ed7953"
            ],
            [
             0.7777777777777778,
             "#fb9f3a"
            ],
            [
             0.8888888888888888,
             "#fdca26"
            ],
            [
             1,
             "#f0f921"
            ]
           ],
           "sequentialminus": [
            [
             0,
             "#0d0887"
            ],
            [
             0.1111111111111111,
             "#46039f"
            ],
            [
             0.2222222222222222,
             "#7201a8"
            ],
            [
             0.3333333333333333,
             "#9c179e"
            ],
            [
             0.4444444444444444,
             "#bd3786"
            ],
            [
             0.5555555555555556,
             "#d8576b"
            ],
            [
             0.6666666666666666,
             "#ed7953"
            ],
            [
             0.7777777777777778,
             "#fb9f3a"
            ],
            [
             0.8888888888888888,
             "#fdca26"
            ],
            [
             1,
             "#f0f921"
            ]
           ]
          },
          "colorway": [
           "#636efa",
           "#EF553B",
           "#00cc96",
           "#ab63fa",
           "#FFA15A",
           "#19d3f3",
           "#FF6692",
           "#B6E880",
           "#FF97FF",
           "#FECB52"
          ],
          "font": {
           "color": "#f2f5fa"
          },
          "geo": {
           "bgcolor": "rgb(17,17,17)",
           "lakecolor": "rgb(17,17,17)",
           "landcolor": "rgb(17,17,17)",
           "showlakes": true,
           "showland": true,
           "subunitcolor": "#506784"
          },
          "hoverlabel": {
           "align": "left"
          },
          "hovermode": "closest",
          "mapbox": {
           "style": "dark"
          },
          "paper_bgcolor": "rgb(17,17,17)",
          "plot_bgcolor": "rgb(17,17,17)",
          "polar": {
           "angularaxis": {
            "gridcolor": "#506784",
            "linecolor": "#506784",
            "ticks": ""
           },
           "bgcolor": "rgb(17,17,17)",
           "radialaxis": {
            "gridcolor": "#506784",
            "linecolor": "#506784",
            "ticks": ""
           }
          },
          "scene": {
           "xaxis": {
            "backgroundcolor": "rgb(17,17,17)",
            "gridcolor": "#506784",
            "gridwidth": 2,
            "linecolor": "#506784",
            "showbackground": true,
            "ticks": "",
            "zerolinecolor": "#C8D4E3"
           },
           "yaxis": {
            "backgroundcolor": "rgb(17,17,17)",
            "gridcolor": "#506784",
            "gridwidth": 2,
            "linecolor": "#506784",
            "showbackground": true,
            "ticks": "",
            "zerolinecolor": "#C8D4E3"
           },
           "zaxis": {
            "backgroundcolor": "rgb(17,17,17)",
            "gridcolor": "#506784",
            "gridwidth": 2,
            "linecolor": "#506784",
            "showbackground": true,
            "ticks": "",
            "zerolinecolor": "#C8D4E3"
           }
          },
          "shapedefaults": {
           "line": {
            "color": "#f2f5fa"
           }
          },
          "sliderdefaults": {
           "bgcolor": "#C8D4E3",
           "bordercolor": "rgb(17,17,17)",
           "borderwidth": 1,
           "tickwidth": 0
          },
          "ternary": {
           "aaxis": {
            "gridcolor": "#506784",
            "linecolor": "#506784",
            "ticks": ""
           },
           "baxis": {
            "gridcolor": "#506784",
            "linecolor": "#506784",
            "ticks": ""
           },
           "bgcolor": "rgb(17,17,17)",
           "caxis": {
            "gridcolor": "#506784",
            "linecolor": "#506784",
            "ticks": ""
           }
          },
          "title": {
           "x": 0.05
          },
          "updatemenudefaults": {
           "bgcolor": "#506784",
           "borderwidth": 0
          },
          "xaxis": {
           "automargin": true,
           "gridcolor": "#283442",
           "linecolor": "#506784",
           "ticks": "",
           "title": {
            "standoff": 15
           },
           "zerolinecolor": "#283442",
           "zerolinewidth": 2
          },
          "yaxis": {
           "automargin": true,
           "gridcolor": "#283442",
           "linecolor": "#506784",
           "ticks": "",
           "title": {
            "standoff": 15
           },
           "zerolinecolor": "#283442",
           "zerolinewidth": 2
          }
         }
        }
       }
      }
     },
     "metadata": {},
     "output_type": "display_data"
    }
   ],
   "source": [
    "fig = px.pie(roles_by_company_size, values='num_of_job_posting', names=\"company_size_category\", template=PLOTLY_THEME)\n",
    "fig.show()"
   ]
  },
  {
   "cell_type": "markdown",
   "metadata": {},
   "source": [
    "##### Provide insights\n",
    "---"
   ]
  },
  {
   "cell_type": "markdown",
   "metadata": {},
   "source": [
    "#### Get the avg min salary estimate by sector and location"
   ]
  },
  {
   "cell_type": "code",
   "execution_count": 34,
   "metadata": {},
   "outputs": [
    {
     "data": {
      "application/vnd.plotly.v1+json": {
       "config": {
        "plotlyServerURL": "https://plot.ly"
       },
       "data": [
        {
         "hovertemplate": "location=New York, NY<br>sector=%{x}<br>min_salary_estimate=%{y}<extra></extra>",
         "legendgroup": "New York, NY",
         "marker": {
          "color": "#636efa",
          "pattern": {
           "shape": ""
          }
         },
         "name": "New York, NY",
         "orientation": "v",
         "showlegend": true,
         "textposition": "auto",
         "type": "bar",
         "x": [
          "Real Estate"
         ],
         "xaxis": "x",
         "y": {
          "bdata": "AAAAAAALA0E=",
          "dtype": "f8"
         },
         "yaxis": "y"
        },
        {
         "hovertemplate": "location=Redwood City, CA<br>sector=%{x}<br>min_salary_estimate=%{y}<extra></extra>",
         "legendgroup": "Redwood City, CA",
         "marker": {
          "color": "#EF553B",
          "pattern": {
           "shape": ""
          }
         },
         "name": "Redwood City, CA",
         "orientation": "v",
         "showlegend": true,
         "textposition": "auto",
         "type": "bar",
         "x": [
          "Information Technology",
          "Finance"
         ],
         "xaxis": "x",
         "y": {
          "bdata": "FK5H4bY0AkEAAAAAgE8CQQ==",
          "dtype": "f8"
         },
         "yaxis": "y"
        },
        {
         "hovertemplate": "location=Rockville Centre, NY<br>sector=%{x}<br>min_salary_estimate=%{y}<extra></extra>",
         "legendgroup": "Rockville Centre, NY",
         "marker": {
          "color": "#00cc96",
          "pattern": {
           "shape": ""
          }
         },
         "name": "Rockville Centre, NY",
         "orientation": "v",
         "showlegend": true,
         "textposition": "auto",
         "type": "bar",
         "x": [
          "Health Care"
         ],
         "xaxis": "x",
         "y": {
          "bdata": "AAAAAAALA0E=",
          "dtype": "f8"
         },
         "yaxis": "y"
        },
        {
         "hovertemplate": "location=Santa Clara, CA<br>sector=%{x}<br>min_salary_estimate=%{y}<extra></extra>",
         "legendgroup": "Santa Clara, CA",
         "marker": {
          "color": "#ab63fa",
          "pattern": {
           "shape": ""
          }
         },
         "name": "Santa Clara, CA",
         "orientation": "v",
         "showlegend": true,
         "textposition": "auto",
         "type": "bar",
         "x": [
          "Finance",
          "Arts, Entertainment & Recreation",
          "Accounting & Legal"
         ],
         "xaxis": "x",
         "y": {
          "bdata": "AAAAAABqCEEAAAAAAGoIQQAAAABAMAJB",
          "dtype": "f8"
         },
         "yaxis": "y"
        },
        {
         "hovertemplate": "location=Stanford, CA<br>sector=%{x}<br>min_salary_estimate=%{y}<extra></extra>",
         "legendgroup": "Stanford, CA",
         "marker": {
          "color": "#FFA15A",
          "pattern": {
           "shape": ""
          }
         },
         "name": "Stanford, CA",
         "orientation": "v",
         "showlegend": true,
         "textposition": "auto",
         "type": "bar",
         "x": [
          "Education"
         ],
         "xaxis": "x",
         "y": {
          "bdata": "AAAAAIBPAkE=",
          "dtype": "f8"
         },
         "yaxis": "y"
        },
        {
         "hovertemplate": "location=Livermore, CA<br>sector=%{x}<br>min_salary_estimate=%{y}<extra></extra>",
         "legendgroup": "Livermore, CA",
         "marker": {
          "color": "#19d3f3",
          "pattern": {
           "shape": ""
          }
         },
         "name": "Livermore, CA",
         "orientation": "v",
         "showlegend": true,
         "textposition": "auto",
         "type": "bar",
         "x": [
          "Business Services"
         ],
         "xaxis": "x",
         "y": {
          "bdata": "AAAAAIBPAkE=",
          "dtype": "f8"
         },
         "yaxis": "y"
        },
        {
         "hovertemplate": "location=Sunnyvale, CA<br>sector=%{x}<br>min_salary_estimate=%{y}<extra></extra>",
         "legendgroup": "Sunnyvale, CA",
         "marker": {
          "color": "#FF6692",
          "pattern": {
           "shape": ""
          }
         },
         "name": "Sunnyvale, CA",
         "orientation": "v",
         "showlegend": true,
         "textposition": "auto",
         "type": "bar",
         "x": [
          "Biotech & Pharmaceuticals"
         ],
         "xaxis": "x",
         "y": {
          "bdata": "AAAAAAARAkE=",
          "dtype": "f8"
         },
         "yaxis": "y"
        }
       ],
       "layout": {
        "barmode": "relative",
        "legend": {
         "title": {
          "text": "location"
         },
         "tracegroupgap": 0
        },
        "template": {
         "data": {
          "bar": [
           {
            "error_x": {
             "color": "#f2f5fa"
            },
            "error_y": {
             "color": "#f2f5fa"
            },
            "marker": {
             "line": {
              "color": "rgb(17,17,17)",
              "width": 0.5
             },
             "pattern": {
              "fillmode": "overlay",
              "size": 10,
              "solidity": 0.2
             }
            },
            "type": "bar"
           }
          ],
          "barpolar": [
           {
            "marker": {
             "line": {
              "color": "rgb(17,17,17)",
              "width": 0.5
             },
             "pattern": {
              "fillmode": "overlay",
              "size": 10,
              "solidity": 0.2
             }
            },
            "type": "barpolar"
           }
          ],
          "carpet": [
           {
            "aaxis": {
             "endlinecolor": "#A2B1C6",
             "gridcolor": "#506784",
             "linecolor": "#506784",
             "minorgridcolor": "#506784",
             "startlinecolor": "#A2B1C6"
            },
            "baxis": {
             "endlinecolor": "#A2B1C6",
             "gridcolor": "#506784",
             "linecolor": "#506784",
             "minorgridcolor": "#506784",
             "startlinecolor": "#A2B1C6"
            },
            "type": "carpet"
           }
          ],
          "choropleth": [
           {
            "colorbar": {
             "outlinewidth": 0,
             "ticks": ""
            },
            "type": "choropleth"
           }
          ],
          "contour": [
           {
            "colorbar": {
             "outlinewidth": 0,
             "ticks": ""
            },
            "colorscale": [
             [
              0,
              "#0d0887"
             ],
             [
              0.1111111111111111,
              "#46039f"
             ],
             [
              0.2222222222222222,
              "#7201a8"
             ],
             [
              0.3333333333333333,
              "#9c179e"
             ],
             [
              0.4444444444444444,
              "#bd3786"
             ],
             [
              0.5555555555555556,
              "#d8576b"
             ],
             [
              0.6666666666666666,
              "#ed7953"
             ],
             [
              0.7777777777777778,
              "#fb9f3a"
             ],
             [
              0.8888888888888888,
              "#fdca26"
             ],
             [
              1,
              "#f0f921"
             ]
            ],
            "type": "contour"
           }
          ],
          "contourcarpet": [
           {
            "colorbar": {
             "outlinewidth": 0,
             "ticks": ""
            },
            "type": "contourcarpet"
           }
          ],
          "heatmap": [
           {
            "colorbar": {
             "outlinewidth": 0,
             "ticks": ""
            },
            "colorscale": [
             [
              0,
              "#0d0887"
             ],
             [
              0.1111111111111111,
              "#46039f"
             ],
             [
              0.2222222222222222,
              "#7201a8"
             ],
             [
              0.3333333333333333,
              "#9c179e"
             ],
             [
              0.4444444444444444,
              "#bd3786"
             ],
             [
              0.5555555555555556,
              "#d8576b"
             ],
             [
              0.6666666666666666,
              "#ed7953"
             ],
             [
              0.7777777777777778,
              "#fb9f3a"
             ],
             [
              0.8888888888888888,
              "#fdca26"
             ],
             [
              1,
              "#f0f921"
             ]
            ],
            "type": "heatmap"
           }
          ],
          "histogram": [
           {
            "marker": {
             "pattern": {
              "fillmode": "overlay",
              "size": 10,
              "solidity": 0.2
             }
            },
            "type": "histogram"
           }
          ],
          "histogram2d": [
           {
            "colorbar": {
             "outlinewidth": 0,
             "ticks": ""
            },
            "colorscale": [
             [
              0,
              "#0d0887"
             ],
             [
              0.1111111111111111,
              "#46039f"
             ],
             [
              0.2222222222222222,
              "#7201a8"
             ],
             [
              0.3333333333333333,
              "#9c179e"
             ],
             [
              0.4444444444444444,
              "#bd3786"
             ],
             [
              0.5555555555555556,
              "#d8576b"
             ],
             [
              0.6666666666666666,
              "#ed7953"
             ],
             [
              0.7777777777777778,
              "#fb9f3a"
             ],
             [
              0.8888888888888888,
              "#fdca26"
             ],
             [
              1,
              "#f0f921"
             ]
            ],
            "type": "histogram2d"
           }
          ],
          "histogram2dcontour": [
           {
            "colorbar": {
             "outlinewidth": 0,
             "ticks": ""
            },
            "colorscale": [
             [
              0,
              "#0d0887"
             ],
             [
              0.1111111111111111,
              "#46039f"
             ],
             [
              0.2222222222222222,
              "#7201a8"
             ],
             [
              0.3333333333333333,
              "#9c179e"
             ],
             [
              0.4444444444444444,
              "#bd3786"
             ],
             [
              0.5555555555555556,
              "#d8576b"
             ],
             [
              0.6666666666666666,
              "#ed7953"
             ],
             [
              0.7777777777777778,
              "#fb9f3a"
             ],
             [
              0.8888888888888888,
              "#fdca26"
             ],
             [
              1,
              "#f0f921"
             ]
            ],
            "type": "histogram2dcontour"
           }
          ],
          "mesh3d": [
           {
            "colorbar": {
             "outlinewidth": 0,
             "ticks": ""
            },
            "type": "mesh3d"
           }
          ],
          "parcoords": [
           {
            "line": {
             "colorbar": {
              "outlinewidth": 0,
              "ticks": ""
             }
            },
            "type": "parcoords"
           }
          ],
          "pie": [
           {
            "automargin": true,
            "type": "pie"
           }
          ],
          "scatter": [
           {
            "marker": {
             "line": {
              "color": "#283442"
             }
            },
            "type": "scatter"
           }
          ],
          "scatter3d": [
           {
            "line": {
             "colorbar": {
              "outlinewidth": 0,
              "ticks": ""
             }
            },
            "marker": {
             "colorbar": {
              "outlinewidth": 0,
              "ticks": ""
             }
            },
            "type": "scatter3d"
           }
          ],
          "scattercarpet": [
           {
            "marker": {
             "colorbar": {
              "outlinewidth": 0,
              "ticks": ""
             }
            },
            "type": "scattercarpet"
           }
          ],
          "scattergeo": [
           {
            "marker": {
             "colorbar": {
              "outlinewidth": 0,
              "ticks": ""
             }
            },
            "type": "scattergeo"
           }
          ],
          "scattergl": [
           {
            "marker": {
             "line": {
              "color": "#283442"
             }
            },
            "type": "scattergl"
           }
          ],
          "scattermap": [
           {
            "marker": {
             "colorbar": {
              "outlinewidth": 0,
              "ticks": ""
             }
            },
            "type": "scattermap"
           }
          ],
          "scattermapbox": [
           {
            "marker": {
             "colorbar": {
              "outlinewidth": 0,
              "ticks": ""
             }
            },
            "type": "scattermapbox"
           }
          ],
          "scatterpolar": [
           {
            "marker": {
             "colorbar": {
              "outlinewidth": 0,
              "ticks": ""
             }
            },
            "type": "scatterpolar"
           }
          ],
          "scatterpolargl": [
           {
            "marker": {
             "colorbar": {
              "outlinewidth": 0,
              "ticks": ""
             }
            },
            "type": "scatterpolargl"
           }
          ],
          "scatterternary": [
           {
            "marker": {
             "colorbar": {
              "outlinewidth": 0,
              "ticks": ""
             }
            },
            "type": "scatterternary"
           }
          ],
          "surface": [
           {
            "colorbar": {
             "outlinewidth": 0,
             "ticks": ""
            },
            "colorscale": [
             [
              0,
              "#0d0887"
             ],
             [
              0.1111111111111111,
              "#46039f"
             ],
             [
              0.2222222222222222,
              "#7201a8"
             ],
             [
              0.3333333333333333,
              "#9c179e"
             ],
             [
              0.4444444444444444,
              "#bd3786"
             ],
             [
              0.5555555555555556,
              "#d8576b"
             ],
             [
              0.6666666666666666,
              "#ed7953"
             ],
             [
              0.7777777777777778,
              "#fb9f3a"
             ],
             [
              0.8888888888888888,
              "#fdca26"
             ],
             [
              1,
              "#f0f921"
             ]
            ],
            "type": "surface"
           }
          ],
          "table": [
           {
            "cells": {
             "fill": {
              "color": "#506784"
             },
             "line": {
              "color": "rgb(17,17,17)"
             }
            },
            "header": {
             "fill": {
              "color": "#2a3f5f"
             },
             "line": {
              "color": "rgb(17,17,17)"
             }
            },
            "type": "table"
           }
          ]
         },
         "layout": {
          "annotationdefaults": {
           "arrowcolor": "#f2f5fa",
           "arrowhead": 0,
           "arrowwidth": 1
          },
          "autotypenumbers": "strict",
          "coloraxis": {
           "colorbar": {
            "outlinewidth": 0,
            "ticks": ""
           }
          },
          "colorscale": {
           "diverging": [
            [
             0,
             "#8e0152"
            ],
            [
             0.1,
             "#c51b7d"
            ],
            [
             0.2,
             "#de77ae"
            ],
            [
             0.3,
             "#f1b6da"
            ],
            [
             0.4,
             "#fde0ef"
            ],
            [
             0.5,
             "#f7f7f7"
            ],
            [
             0.6,
             "#e6f5d0"
            ],
            [
             0.7,
             "#b8e186"
            ],
            [
             0.8,
             "#7fbc41"
            ],
            [
             0.9,
             "#4d9221"
            ],
            [
             1,
             "#276419"
            ]
           ],
           "sequential": [
            [
             0,
             "#0d0887"
            ],
            [
             0.1111111111111111,
             "#46039f"
            ],
            [
             0.2222222222222222,
             "#7201a8"
            ],
            [
             0.3333333333333333,
             "#9c179e"
            ],
            [
             0.4444444444444444,
             "#bd3786"
            ],
            [
             0.5555555555555556,
             "#d8576b"
            ],
            [
             0.6666666666666666,
             "#ed7953"
            ],
            [
             0.7777777777777778,
             "#fb9f3a"
            ],
            [
             0.8888888888888888,
             "#fdca26"
            ],
            [
             1,
             "#f0f921"
            ]
           ],
           "sequentialminus": [
            [
             0,
             "#0d0887"
            ],
            [
             0.1111111111111111,
             "#46039f"
            ],
            [
             0.2222222222222222,
             "#7201a8"
            ],
            [
             0.3333333333333333,
             "#9c179e"
            ],
            [
             0.4444444444444444,
             "#bd3786"
            ],
            [
             0.5555555555555556,
             "#d8576b"
            ],
            [
             0.6666666666666666,
             "#ed7953"
            ],
            [
             0.7777777777777778,
             "#fb9f3a"
            ],
            [
             0.8888888888888888,
             "#fdca26"
            ],
            [
             1,
             "#f0f921"
            ]
           ]
          },
          "colorway": [
           "#636efa",
           "#EF553B",
           "#00cc96",
           "#ab63fa",
           "#FFA15A",
           "#19d3f3",
           "#FF6692",
           "#B6E880",
           "#FF97FF",
           "#FECB52"
          ],
          "font": {
           "color": "#f2f5fa"
          },
          "geo": {
           "bgcolor": "rgb(17,17,17)",
           "lakecolor": "rgb(17,17,17)",
           "landcolor": "rgb(17,17,17)",
           "showlakes": true,
           "showland": true,
           "subunitcolor": "#506784"
          },
          "hoverlabel": {
           "align": "left"
          },
          "hovermode": "closest",
          "mapbox": {
           "style": "dark"
          },
          "paper_bgcolor": "rgb(17,17,17)",
          "plot_bgcolor": "rgb(17,17,17)",
          "polar": {
           "angularaxis": {
            "gridcolor": "#506784",
            "linecolor": "#506784",
            "ticks": ""
           },
           "bgcolor": "rgb(17,17,17)",
           "radialaxis": {
            "gridcolor": "#506784",
            "linecolor": "#506784",
            "ticks": ""
           }
          },
          "scene": {
           "xaxis": {
            "backgroundcolor": "rgb(17,17,17)",
            "gridcolor": "#506784",
            "gridwidth": 2,
            "linecolor": "#506784",
            "showbackground": true,
            "ticks": "",
            "zerolinecolor": "#C8D4E3"
           },
           "yaxis": {
            "backgroundcolor": "rgb(17,17,17)",
            "gridcolor": "#506784",
            "gridwidth": 2,
            "linecolor": "#506784",
            "showbackground": true,
            "ticks": "",
            "zerolinecolor": "#C8D4E3"
           },
           "zaxis": {
            "backgroundcolor": "rgb(17,17,17)",
            "gridcolor": "#506784",
            "gridwidth": 2,
            "linecolor": "#506784",
            "showbackground": true,
            "ticks": "",
            "zerolinecolor": "#C8D4E3"
           }
          },
          "shapedefaults": {
           "line": {
            "color": "#f2f5fa"
           }
          },
          "sliderdefaults": {
           "bgcolor": "#C8D4E3",
           "bordercolor": "rgb(17,17,17)",
           "borderwidth": 1,
           "tickwidth": 0
          },
          "ternary": {
           "aaxis": {
            "gridcolor": "#506784",
            "linecolor": "#506784",
            "ticks": ""
           },
           "baxis": {
            "gridcolor": "#506784",
            "linecolor": "#506784",
            "ticks": ""
           },
           "bgcolor": "rgb(17,17,17)",
           "caxis": {
            "gridcolor": "#506784",
            "linecolor": "#506784",
            "ticks": ""
           }
          },
          "title": {
           "x": 0.05
          },
          "updatemenudefaults": {
           "bgcolor": "#506784",
           "borderwidth": 0
          },
          "xaxis": {
           "automargin": true,
           "gridcolor": "#283442",
           "linecolor": "#506784",
           "ticks": "",
           "title": {
            "standoff": 15
           },
           "zerolinecolor": "#283442",
           "zerolinewidth": 2
          },
          "yaxis": {
           "automargin": true,
           "gridcolor": "#283442",
           "linecolor": "#506784",
           "ticks": "",
           "title": {
            "standoff": 15
           },
           "zerolinecolor": "#283442",
           "zerolinewidth": 2
          }
         }
        },
        "title": {
         "text": "Average min salary by sector and location",
         "x": 0.5
        },
        "xaxis": {
         "anchor": "y",
         "domain": [
          0,
          1
         ],
         "title": {
          "text": "sector"
         }
        },
        "yaxis": {
         "anchor": "x",
         "domain": [
          0,
          1
         ],
         "title": {
          "text": "min_salary_estimate"
         }
        }
       }
      }
     },
     "metadata": {},
     "output_type": "display_data"
    }
   ],
   "source": [
    "\n",
    "avg_min_salary_by_sector = df.groupby(['sector','location'])[['min_salary_estimate']]\\\n",
    "                             .mean()\\\n",
    "                             .reset_index()\\\n",
    "                             .sort_values(by=['min_salary_estimate'], ascending=False)\\\n",
    "                             .round(2)\n",
    "\t\n",
    "\n",
    "#print(avg_min_salary_by_sector.head(10)) # Top 10 of most paying sectors by sector and location\n",
    "\n",
    "fig = px.bar(data_frame=avg_min_salary_by_sector.head(10).sort_values(by='sector', ascending=False),\n",
    "              x = \"sector\",\n",
    "              y = \"min_salary_estimate\",\n",
    "              color=\"location\",\n",
    "              title=\"Average min salary by sector and location\", \n",
    "              template=PLOTLY_THEME)\n",
    "fig.update_layout(title_x=0.5)\n",
    "fig.show()"
   ]
  },
  {
   "cell_type": "markdown",
   "metadata": {},
   "source": [
    "## 1. High-Paying Sectors and Locations\n",
    "- Finance stands out as the sector with the highest minimum salary estimates, particularly in Santa Clara, CA.\n",
    "- Information Technology (IT), a major sector for data science roles, shows a strong salary offering, particularly in Redwood City, CA.\n",
    "- Real Estate, Health Care, and Business Services also offer competitive salaries, indicating potential demand for data analytics and AI-driven decision-making.\n",
    "\n",
    "\n",
    "## 2. Data Science Job Monetization Opportunity\n",
    "- The Finance and IT sectors are particularly lucrative for data science professionals, making them prime targets for recruitment solutions.\n",
    "- Santa Clara and Redwood City, CA, seem to be key locations offering high-paying jobs, meaning job postings from these locations could be prioritized for insights and monetization.\n",
    "\n",
    "---"
   ]
  },
  {
   "cell_type": "markdown",
   "metadata": {},
   "source": [
    "#### Demand for Data Science Roles by Company Size"
   ]
  },
  {
   "cell_type": "code",
   "execution_count": 35,
   "metadata": {},
   "outputs": [
    {
     "data": {
      "text/html": [
       "<div>\n",
       "<style scoped>\n",
       "    .dataframe tbody tr th:only-of-type {\n",
       "        vertical-align: middle;\n",
       "    }\n",
       "\n",
       "    .dataframe tbody tr th {\n",
       "        vertical-align: top;\n",
       "    }\n",
       "\n",
       "    .dataframe thead th {\n",
       "        text-align: right;\n",
       "    }\n",
       "</style>\n",
       "<table border=\"1\" class=\"dataframe\">\n",
       "  <thead>\n",
       "    <tr style=\"text-align: right;\">\n",
       "      <th></th>\n",
       "      <th>industry</th>\n",
       "      <th>company_size_category</th>\n",
       "      <th>job_title</th>\n",
       "    </tr>\n",
       "  </thead>\n",
       "  <tbody>\n",
       "    <tr>\n",
       "      <th>20</th>\n",
       "      <td>Biotech &amp; Pharmaceuticals</td>\n",
       "      <td>Large</td>\n",
       "      <td>173</td>\n",
       "    </tr>\n",
       "    <tr>\n",
       "      <th>105</th>\n",
       "      <td>IT Services</td>\n",
       "      <td>Small</td>\n",
       "      <td>171</td>\n",
       "    </tr>\n",
       "    <tr>\n",
       "      <th>103</th>\n",
       "      <td>IT Services</td>\n",
       "      <td>Large</td>\n",
       "      <td>160</td>\n",
       "    </tr>\n",
       "    <tr>\n",
       "      <th>95</th>\n",
       "      <td>Health Care Services &amp; Hospitals</td>\n",
       "      <td>Large</td>\n",
       "      <td>151</td>\n",
       "    </tr>\n",
       "    <tr>\n",
       "      <th>115</th>\n",
       "      <td>Internet</td>\n",
       "      <td>Large</td>\n",
       "      <td>148</td>\n",
       "    </tr>\n",
       "    <tr>\n",
       "      <th>104</th>\n",
       "      <td>IT Services</td>\n",
       "      <td>Medium</td>\n",
       "      <td>140</td>\n",
       "    </tr>\n",
       "    <tr>\n",
       "      <th>37</th>\n",
       "      <td>Computer Hardware &amp; Software</td>\n",
       "      <td>Large</td>\n",
       "      <td>131</td>\n",
       "    </tr>\n",
       "    <tr>\n",
       "      <th>179</th>\n",
       "      <td>Staffing &amp; Outsourcing</td>\n",
       "      <td>Small</td>\n",
       "      <td>121</td>\n",
       "    </tr>\n",
       "    <tr>\n",
       "      <th>177</th>\n",
       "      <td>Staffing &amp; Outsourcing</td>\n",
       "      <td>Large</td>\n",
       "      <td>104</td>\n",
       "    </tr>\n",
       "    <tr>\n",
       "      <th>39</th>\n",
       "      <td>Computer Hardware &amp; Software</td>\n",
       "      <td>Small</td>\n",
       "      <td>102</td>\n",
       "    </tr>\n",
       "  </tbody>\n",
       "</table>\n",
       "</div>"
      ],
      "text/plain": [
       "                             industry company_size_category  job_title\n",
       "20          Biotech & Pharmaceuticals                 Large        173\n",
       "105                       IT Services                 Small        171\n",
       "103                       IT Services                 Large        160\n",
       "95   Health Care Services & Hospitals                 Large        151\n",
       "115                          Internet                 Large        148\n",
       "104                       IT Services                Medium        140\n",
       "37       Computer Hardware & Software                 Large        131\n",
       "179            Staffing & Outsourcing                 Small        121\n",
       "177            Staffing & Outsourcing                 Large        104\n",
       "39       Computer Hardware & Software                 Small        102"
      ]
     },
     "execution_count": 35,
     "metadata": {},
     "output_type": "execute_result"
    }
   ],
   "source": [
    "demand_by_company_size = df.groupby(['industry', 'company_size_category'])[['job_title']]\\\n",
    "                      .count()\\\n",
    "                      .reset_index()\\\n",
    "                      .sort_values(by = \"job_title\", ascending=False)\n",
    "\n",
    "demand_by_company_size.head(10)"
   ]
  },
  {
   "cell_type": "code",
   "execution_count": 36,
   "metadata": {},
   "outputs": [
    {
     "data": {
      "text/html": [
       "<div>\n",
       "<style scoped>\n",
       "    .dataframe tbody tr th:only-of-type {\n",
       "        vertical-align: middle;\n",
       "    }\n",
       "\n",
       "    .dataframe tbody tr th {\n",
       "        vertical-align: top;\n",
       "    }\n",
       "\n",
       "    .dataframe thead th {\n",
       "        text-align: right;\n",
       "    }\n",
       "</style>\n",
       "<table border=\"1\" class=\"dataframe\">\n",
       "  <thead>\n",
       "    <tr style=\"text-align: right;\">\n",
       "      <th></th>\n",
       "      <th>company_size_category</th>\n",
       "      <th>max_salary_estimate</th>\n",
       "    </tr>\n",
       "  </thead>\n",
       "  <tbody>\n",
       "    <tr>\n",
       "      <th>0</th>\n",
       "      <td>Large</td>\n",
       "      <td>136000.0</td>\n",
       "    </tr>\n",
       "    <tr>\n",
       "      <th>1</th>\n",
       "      <td>Medium</td>\n",
       "      <td>122000.0</td>\n",
       "    </tr>\n",
       "    <tr>\n",
       "      <th>2</th>\n",
       "      <td>Small</td>\n",
       "      <td>139000.0</td>\n",
       "    </tr>\n",
       "    <tr>\n",
       "      <th>3</th>\n",
       "      <td>Unknown</td>\n",
       "      <td>149000.0</td>\n",
       "    </tr>\n",
       "  </tbody>\n",
       "</table>\n",
       "</div>"
      ],
      "text/plain": [
       "  company_size_category  max_salary_estimate\n",
       "0                 Large             136000.0\n",
       "1                Medium             122000.0\n",
       "2                 Small             139000.0\n",
       "3               Unknown             149000.0"
      ]
     },
     "execution_count": 36,
     "metadata": {},
     "output_type": "execute_result"
    }
   ],
   "source": [
    "#Salary Trends Based on Company Size\n",
    "\n",
    "avg_min_salary_by_comany_size = df.groupby(['company_size_category'])[['max_salary_estimate']]\\\n",
    "                                  .median()\\\n",
    "                                  .reset_index()\\\n",
    "                                  .round(2)\n",
    "\n",
    "\n",
    "avg_min_salary_by_comany_size"
   ]
  },
  {
   "cell_type": "code",
   "execution_count": 37,
   "metadata": {},
   "outputs": [
    {
     "data": {
      "application/vnd.plotly.v1+json": {
       "config": {
        "plotlyServerURL": "https://plot.ly"
       },
       "data": [
        {
         "hovertemplate": "company_size_category=%{x}<br>max_salary_estimate=%{y}<extra></extra>",
         "legendgroup": "",
         "marker": {
          "color": "#636efa",
          "pattern": {
           "shape": ""
          }
         },
         "name": "",
         "orientation": "v",
         "showlegend": false,
         "textposition": "auto",
         "type": "bar",
         "x": [
          "Large",
          "Medium",
          "Small",
          "Unknown"
         ],
         "xaxis": "x",
         "y": {
          "bdata": "AAAAAACaAEEAAAAAAMn9QAAAAADA9wBBAAAAAEAwAkE=",
          "dtype": "f8"
         },
         "yaxis": "y"
        }
       ],
       "layout": {
        "barmode": "relative",
        "legend": {
         "tracegroupgap": 0
        },
        "margin": {
         "t": 60
        },
        "template": {
         "data": {
          "bar": [
           {
            "error_x": {
             "color": "#2a3f5f"
            },
            "error_y": {
             "color": "#2a3f5f"
            },
            "marker": {
             "line": {
              "color": "#E5ECF6",
              "width": 0.5
             },
             "pattern": {
              "fillmode": "overlay",
              "size": 10,
              "solidity": 0.2
             }
            },
            "type": "bar"
           }
          ],
          "barpolar": [
           {
            "marker": {
             "line": {
              "color": "#E5ECF6",
              "width": 0.5
             },
             "pattern": {
              "fillmode": "overlay",
              "size": 10,
              "solidity": 0.2
             }
            },
            "type": "barpolar"
           }
          ],
          "carpet": [
           {
            "aaxis": {
             "endlinecolor": "#2a3f5f",
             "gridcolor": "white",
             "linecolor": "white",
             "minorgridcolor": "white",
             "startlinecolor": "#2a3f5f"
            },
            "baxis": {
             "endlinecolor": "#2a3f5f",
             "gridcolor": "white",
             "linecolor": "white",
             "minorgridcolor": "white",
             "startlinecolor": "#2a3f5f"
            },
            "type": "carpet"
           }
          ],
          "choropleth": [
           {
            "colorbar": {
             "outlinewidth": 0,
             "ticks": ""
            },
            "type": "choropleth"
           }
          ],
          "contour": [
           {
            "colorbar": {
             "outlinewidth": 0,
             "ticks": ""
            },
            "colorscale": [
             [
              0,
              "#0d0887"
             ],
             [
              0.1111111111111111,
              "#46039f"
             ],
             [
              0.2222222222222222,
              "#7201a8"
             ],
             [
              0.3333333333333333,
              "#9c179e"
             ],
             [
              0.4444444444444444,
              "#bd3786"
             ],
             [
              0.5555555555555556,
              "#d8576b"
             ],
             [
              0.6666666666666666,
              "#ed7953"
             ],
             [
              0.7777777777777778,
              "#fb9f3a"
             ],
             [
              0.8888888888888888,
              "#fdca26"
             ],
             [
              1,
              "#f0f921"
             ]
            ],
            "type": "contour"
           }
          ],
          "contourcarpet": [
           {
            "colorbar": {
             "outlinewidth": 0,
             "ticks": ""
            },
            "type": "contourcarpet"
           }
          ],
          "heatmap": [
           {
            "colorbar": {
             "outlinewidth": 0,
             "ticks": ""
            },
            "colorscale": [
             [
              0,
              "#0d0887"
             ],
             [
              0.1111111111111111,
              "#46039f"
             ],
             [
              0.2222222222222222,
              "#7201a8"
             ],
             [
              0.3333333333333333,
              "#9c179e"
             ],
             [
              0.4444444444444444,
              "#bd3786"
             ],
             [
              0.5555555555555556,
              "#d8576b"
             ],
             [
              0.6666666666666666,
              "#ed7953"
             ],
             [
              0.7777777777777778,
              "#fb9f3a"
             ],
             [
              0.8888888888888888,
              "#fdca26"
             ],
             [
              1,
              "#f0f921"
             ]
            ],
            "type": "heatmap"
           }
          ],
          "histogram": [
           {
            "marker": {
             "pattern": {
              "fillmode": "overlay",
              "size": 10,
              "solidity": 0.2
             }
            },
            "type": "histogram"
           }
          ],
          "histogram2d": [
           {
            "colorbar": {
             "outlinewidth": 0,
             "ticks": ""
            },
            "colorscale": [
             [
              0,
              "#0d0887"
             ],
             [
              0.1111111111111111,
              "#46039f"
             ],
             [
              0.2222222222222222,
              "#7201a8"
             ],
             [
              0.3333333333333333,
              "#9c179e"
             ],
             [
              0.4444444444444444,
              "#bd3786"
             ],
             [
              0.5555555555555556,
              "#d8576b"
             ],
             [
              0.6666666666666666,
              "#ed7953"
             ],
             [
              0.7777777777777778,
              "#fb9f3a"
             ],
             [
              0.8888888888888888,
              "#fdca26"
             ],
             [
              1,
              "#f0f921"
             ]
            ],
            "type": "histogram2d"
           }
          ],
          "histogram2dcontour": [
           {
            "colorbar": {
             "outlinewidth": 0,
             "ticks": ""
            },
            "colorscale": [
             [
              0,
              "#0d0887"
             ],
             [
              0.1111111111111111,
              "#46039f"
             ],
             [
              0.2222222222222222,
              "#7201a8"
             ],
             [
              0.3333333333333333,
              "#9c179e"
             ],
             [
              0.4444444444444444,
              "#bd3786"
             ],
             [
              0.5555555555555556,
              "#d8576b"
             ],
             [
              0.6666666666666666,
              "#ed7953"
             ],
             [
              0.7777777777777778,
              "#fb9f3a"
             ],
             [
              0.8888888888888888,
              "#fdca26"
             ],
             [
              1,
              "#f0f921"
             ]
            ],
            "type": "histogram2dcontour"
           }
          ],
          "mesh3d": [
           {
            "colorbar": {
             "outlinewidth": 0,
             "ticks": ""
            },
            "type": "mesh3d"
           }
          ],
          "parcoords": [
           {
            "line": {
             "colorbar": {
              "outlinewidth": 0,
              "ticks": ""
             }
            },
            "type": "parcoords"
           }
          ],
          "pie": [
           {
            "automargin": true,
            "type": "pie"
           }
          ],
          "scatter": [
           {
            "fillpattern": {
             "fillmode": "overlay",
             "size": 10,
             "solidity": 0.2
            },
            "type": "scatter"
           }
          ],
          "scatter3d": [
           {
            "line": {
             "colorbar": {
              "outlinewidth": 0,
              "ticks": ""
             }
            },
            "marker": {
             "colorbar": {
              "outlinewidth": 0,
              "ticks": ""
             }
            },
            "type": "scatter3d"
           }
          ],
          "scattercarpet": [
           {
            "marker": {
             "colorbar": {
              "outlinewidth": 0,
              "ticks": ""
             }
            },
            "type": "scattercarpet"
           }
          ],
          "scattergeo": [
           {
            "marker": {
             "colorbar": {
              "outlinewidth": 0,
              "ticks": ""
             }
            },
            "type": "scattergeo"
           }
          ],
          "scattergl": [
           {
            "marker": {
             "colorbar": {
              "outlinewidth": 0,
              "ticks": ""
             }
            },
            "type": "scattergl"
           }
          ],
          "scattermap": [
           {
            "marker": {
             "colorbar": {
              "outlinewidth": 0,
              "ticks": ""
             }
            },
            "type": "scattermap"
           }
          ],
          "scattermapbox": [
           {
            "marker": {
             "colorbar": {
              "outlinewidth": 0,
              "ticks": ""
             }
            },
            "type": "scattermapbox"
           }
          ],
          "scatterpolar": [
           {
            "marker": {
             "colorbar": {
              "outlinewidth": 0,
              "ticks": ""
             }
            },
            "type": "scatterpolar"
           }
          ],
          "scatterpolargl": [
           {
            "marker": {
             "colorbar": {
              "outlinewidth": 0,
              "ticks": ""
             }
            },
            "type": "scatterpolargl"
           }
          ],
          "scatterternary": [
           {
            "marker": {
             "colorbar": {
              "outlinewidth": 0,
              "ticks": ""
             }
            },
            "type": "scatterternary"
           }
          ],
          "surface": [
           {
            "colorbar": {
             "outlinewidth": 0,
             "ticks": ""
            },
            "colorscale": [
             [
              0,
              "#0d0887"
             ],
             [
              0.1111111111111111,
              "#46039f"
             ],
             [
              0.2222222222222222,
              "#7201a8"
             ],
             [
              0.3333333333333333,
              "#9c179e"
             ],
             [
              0.4444444444444444,
              "#bd3786"
             ],
             [
              0.5555555555555556,
              "#d8576b"
             ],
             [
              0.6666666666666666,
              "#ed7953"
             ],
             [
              0.7777777777777778,
              "#fb9f3a"
             ],
             [
              0.8888888888888888,
              "#fdca26"
             ],
             [
              1,
              "#f0f921"
             ]
            ],
            "type": "surface"
           }
          ],
          "table": [
           {
            "cells": {
             "fill": {
              "color": "#EBF0F8"
             },
             "line": {
              "color": "white"
             }
            },
            "header": {
             "fill": {
              "color": "#C8D4E3"
             },
             "line": {
              "color": "white"
             }
            },
            "type": "table"
           }
          ]
         },
         "layout": {
          "annotationdefaults": {
           "arrowcolor": "#2a3f5f",
           "arrowhead": 0,
           "arrowwidth": 1
          },
          "autotypenumbers": "strict",
          "coloraxis": {
           "colorbar": {
            "outlinewidth": 0,
            "ticks": ""
           }
          },
          "colorscale": {
           "diverging": [
            [
             0,
             "#8e0152"
            ],
            [
             0.1,
             "#c51b7d"
            ],
            [
             0.2,
             "#de77ae"
            ],
            [
             0.3,
             "#f1b6da"
            ],
            [
             0.4,
             "#fde0ef"
            ],
            [
             0.5,
             "#f7f7f7"
            ],
            [
             0.6,
             "#e6f5d0"
            ],
            [
             0.7,
             "#b8e186"
            ],
            [
             0.8,
             "#7fbc41"
            ],
            [
             0.9,
             "#4d9221"
            ],
            [
             1,
             "#276419"
            ]
           ],
           "sequential": [
            [
             0,
             "#0d0887"
            ],
            [
             0.1111111111111111,
             "#46039f"
            ],
            [
             0.2222222222222222,
             "#7201a8"
            ],
            [
             0.3333333333333333,
             "#9c179e"
            ],
            [
             0.4444444444444444,
             "#bd3786"
            ],
            [
             0.5555555555555556,
             "#d8576b"
            ],
            [
             0.6666666666666666,
             "#ed7953"
            ],
            [
             0.7777777777777778,
             "#fb9f3a"
            ],
            [
             0.8888888888888888,
             "#fdca26"
            ],
            [
             1,
             "#f0f921"
            ]
           ],
           "sequentialminus": [
            [
             0,
             "#0d0887"
            ],
            [
             0.1111111111111111,
             "#46039f"
            ],
            [
             0.2222222222222222,
             "#7201a8"
            ],
            [
             0.3333333333333333,
             "#9c179e"
            ],
            [
             0.4444444444444444,
             "#bd3786"
            ],
            [
             0.5555555555555556,
             "#d8576b"
            ],
            [
             0.6666666666666666,
             "#ed7953"
            ],
            [
             0.7777777777777778,
             "#fb9f3a"
            ],
            [
             0.8888888888888888,
             "#fdca26"
            ],
            [
             1,
             "#f0f921"
            ]
           ]
          },
          "colorway": [
           "#636efa",
           "#EF553B",
           "#00cc96",
           "#ab63fa",
           "#FFA15A",
           "#19d3f3",
           "#FF6692",
           "#B6E880",
           "#FF97FF",
           "#FECB52"
          ],
          "font": {
           "color": "#2a3f5f"
          },
          "geo": {
           "bgcolor": "white",
           "lakecolor": "white",
           "landcolor": "#E5ECF6",
           "showlakes": true,
           "showland": true,
           "subunitcolor": "white"
          },
          "hoverlabel": {
           "align": "left"
          },
          "hovermode": "closest",
          "mapbox": {
           "style": "light"
          },
          "paper_bgcolor": "white",
          "plot_bgcolor": "#E5ECF6",
          "polar": {
           "angularaxis": {
            "gridcolor": "white",
            "linecolor": "white",
            "ticks": ""
           },
           "bgcolor": "#E5ECF6",
           "radialaxis": {
            "gridcolor": "white",
            "linecolor": "white",
            "ticks": ""
           }
          },
          "scene": {
           "xaxis": {
            "backgroundcolor": "#E5ECF6",
            "gridcolor": "white",
            "gridwidth": 2,
            "linecolor": "white",
            "showbackground": true,
            "ticks": "",
            "zerolinecolor": "white"
           },
           "yaxis": {
            "backgroundcolor": "#E5ECF6",
            "gridcolor": "white",
            "gridwidth": 2,
            "linecolor": "white",
            "showbackground": true,
            "ticks": "",
            "zerolinecolor": "white"
           },
           "zaxis": {
            "backgroundcolor": "#E5ECF6",
            "gridcolor": "white",
            "gridwidth": 2,
            "linecolor": "white",
            "showbackground": true,
            "ticks": "",
            "zerolinecolor": "white"
           }
          },
          "shapedefaults": {
           "line": {
            "color": "#2a3f5f"
           }
          },
          "ternary": {
           "aaxis": {
            "gridcolor": "white",
            "linecolor": "white",
            "ticks": ""
           },
           "baxis": {
            "gridcolor": "white",
            "linecolor": "white",
            "ticks": ""
           },
           "bgcolor": "#E5ECF6",
           "caxis": {
            "gridcolor": "white",
            "linecolor": "white",
            "ticks": ""
           }
          },
          "title": {
           "x": 0.05
          },
          "xaxis": {
           "automargin": true,
           "gridcolor": "white",
           "linecolor": "white",
           "ticks": "",
           "title": {
            "standoff": 15
           },
           "zerolinecolor": "white",
           "zerolinewidth": 2
          },
          "yaxis": {
           "automargin": true,
           "gridcolor": "white",
           "linecolor": "white",
           "ticks": "",
           "title": {
            "standoff": 15
           },
           "zerolinecolor": "white",
           "zerolinewidth": 2
          }
         }
        },
        "xaxis": {
         "anchor": "y",
         "domain": [
          0,
          1
         ],
         "title": {
          "text": "company_size_category"
         }
        },
        "yaxis": {
         "anchor": "x",
         "domain": [
          0,
          1
         ],
         "title": {
          "text": "max_salary_estimate"
         }
        }
       }
      }
     },
     "metadata": {},
     "output_type": "display_data"
    }
   ],
   "source": [
    "fig = px.bar(data_frame=avg_min_salary_by_comany_size,\n",
    "             x='company_size_category', \n",
    "             y='max_salary_estimate')\n",
    "fig.show()"
   ]
  },
  {
   "cell_type": "markdown",
   "metadata": {},
   "source": [
    "### How many Job Posting by Industry and Location?"
   ]
  },
  {
   "cell_type": "code",
   "execution_count": 38,
   "metadata": {},
   "outputs": [],
   "source": [
    "roles_by_industry = df.groupby(['industry', 'company_size_category'])[['job_title']]\\\n",
    "                      .count()\\\n",
    "                      .reset_index()\\\n",
    "                      .sort_values(by = \"job_title\", ascending=False)"
   ]
  },
  {
   "cell_type": "code",
   "execution_count": 39,
   "metadata": {},
   "outputs": [
    {
     "data": {
      "application/vnd.plotly.v1+json": {
       "config": {
        "plotlyServerURL": "https://plot.ly"
       },
       "data": [
        {
         "hovertemplate": "company_size_category=Large<br>industry=%{x}<br>job_title=%{y}<extra></extra>",
         "legendgroup": "Large",
         "marker": {
          "color": "#636efa",
          "pattern": {
           "shape": ""
          }
         },
         "name": "Large",
         "orientation": "v",
         "showlegend": true,
         "textposition": "auto",
         "type": "bar",
         "x": [
          "Biotech & Pharmaceuticals",
          "IT Services",
          "Health Care Services & Hospitals",
          "Internet",
          "Computer Hardware & Software",
          "Staffing & Outsourcing"
         ],
         "xaxis": "x",
         "y": {
          "bdata": "rQCgAJcAlACDAGgA",
          "dtype": "i2"
         },
         "yaxis": "y"
        },
        {
         "hovertemplate": "company_size_category=Small<br>industry=%{x}<br>job_title=%{y}<extra></extra>",
         "legendgroup": "Small",
         "marker": {
          "color": "#EF553B",
          "pattern": {
           "shape": ""
          }
         },
         "name": "Small",
         "orientation": "v",
         "showlegend": true,
         "textposition": "auto",
         "type": "bar",
         "x": [
          "IT Services",
          "Staffing & Outsourcing",
          "Computer Hardware & Software"
         ],
         "xaxis": "x",
         "y": {
          "bdata": "qwB5AGYA",
          "dtype": "i2"
         },
         "yaxis": "y"
        },
        {
         "hovertemplate": "company_size_category=Medium<br>industry=%{x}<br>job_title=%{y}<extra></extra>",
         "legendgroup": "Medium",
         "marker": {
          "color": "#00cc96",
          "pattern": {
           "shape": ""
          }
         },
         "name": "Medium",
         "orientation": "v",
         "showlegend": true,
         "textposition": "auto",
         "type": "bar",
         "x": [
          "IT Services"
         ],
         "xaxis": "x",
         "y": {
          "bdata": "jAA=",
          "dtype": "i2"
         },
         "yaxis": "y"
        }
       ],
       "layout": {
        "barmode": "relative",
        "legend": {
         "title": {
          "text": "company_size_category"
         },
         "tracegroupgap": 0
        },
        "template": {
         "data": {
          "bar": [
           {
            "error_x": {
             "color": "#f2f5fa"
            },
            "error_y": {
             "color": "#f2f5fa"
            },
            "marker": {
             "line": {
              "color": "rgb(17,17,17)",
              "width": 0.5
             },
             "pattern": {
              "fillmode": "overlay",
              "size": 10,
              "solidity": 0.2
             }
            },
            "type": "bar"
           }
          ],
          "barpolar": [
           {
            "marker": {
             "line": {
              "color": "rgb(17,17,17)",
              "width": 0.5
             },
             "pattern": {
              "fillmode": "overlay",
              "size": 10,
              "solidity": 0.2
             }
            },
            "type": "barpolar"
           }
          ],
          "carpet": [
           {
            "aaxis": {
             "endlinecolor": "#A2B1C6",
             "gridcolor": "#506784",
             "linecolor": "#506784",
             "minorgridcolor": "#506784",
             "startlinecolor": "#A2B1C6"
            },
            "baxis": {
             "endlinecolor": "#A2B1C6",
             "gridcolor": "#506784",
             "linecolor": "#506784",
             "minorgridcolor": "#506784",
             "startlinecolor": "#A2B1C6"
            },
            "type": "carpet"
           }
          ],
          "choropleth": [
           {
            "colorbar": {
             "outlinewidth": 0,
             "ticks": ""
            },
            "type": "choropleth"
           }
          ],
          "contour": [
           {
            "colorbar": {
             "outlinewidth": 0,
             "ticks": ""
            },
            "colorscale": [
             [
              0,
              "#0d0887"
             ],
             [
              0.1111111111111111,
              "#46039f"
             ],
             [
              0.2222222222222222,
              "#7201a8"
             ],
             [
              0.3333333333333333,
              "#9c179e"
             ],
             [
              0.4444444444444444,
              "#bd3786"
             ],
             [
              0.5555555555555556,
              "#d8576b"
             ],
             [
              0.6666666666666666,
              "#ed7953"
             ],
             [
              0.7777777777777778,
              "#fb9f3a"
             ],
             [
              0.8888888888888888,
              "#fdca26"
             ],
             [
              1,
              "#f0f921"
             ]
            ],
            "type": "contour"
           }
          ],
          "contourcarpet": [
           {
            "colorbar": {
             "outlinewidth": 0,
             "ticks": ""
            },
            "type": "contourcarpet"
           }
          ],
          "heatmap": [
           {
            "colorbar": {
             "outlinewidth": 0,
             "ticks": ""
            },
            "colorscale": [
             [
              0,
              "#0d0887"
             ],
             [
              0.1111111111111111,
              "#46039f"
             ],
             [
              0.2222222222222222,
              "#7201a8"
             ],
             [
              0.3333333333333333,
              "#9c179e"
             ],
             [
              0.4444444444444444,
              "#bd3786"
             ],
             [
              0.5555555555555556,
              "#d8576b"
             ],
             [
              0.6666666666666666,
              "#ed7953"
             ],
             [
              0.7777777777777778,
              "#fb9f3a"
             ],
             [
              0.8888888888888888,
              "#fdca26"
             ],
             [
              1,
              "#f0f921"
             ]
            ],
            "type": "heatmap"
           }
          ],
          "histogram": [
           {
            "marker": {
             "pattern": {
              "fillmode": "overlay",
              "size": 10,
              "solidity": 0.2
             }
            },
            "type": "histogram"
           }
          ],
          "histogram2d": [
           {
            "colorbar": {
             "outlinewidth": 0,
             "ticks": ""
            },
            "colorscale": [
             [
              0,
              "#0d0887"
             ],
             [
              0.1111111111111111,
              "#46039f"
             ],
             [
              0.2222222222222222,
              "#7201a8"
             ],
             [
              0.3333333333333333,
              "#9c179e"
             ],
             [
              0.4444444444444444,
              "#bd3786"
             ],
             [
              0.5555555555555556,
              "#d8576b"
             ],
             [
              0.6666666666666666,
              "#ed7953"
             ],
             [
              0.7777777777777778,
              "#fb9f3a"
             ],
             [
              0.8888888888888888,
              "#fdca26"
             ],
             [
              1,
              "#f0f921"
             ]
            ],
            "type": "histogram2d"
           }
          ],
          "histogram2dcontour": [
           {
            "colorbar": {
             "outlinewidth": 0,
             "ticks": ""
            },
            "colorscale": [
             [
              0,
              "#0d0887"
             ],
             [
              0.1111111111111111,
              "#46039f"
             ],
             [
              0.2222222222222222,
              "#7201a8"
             ],
             [
              0.3333333333333333,
              "#9c179e"
             ],
             [
              0.4444444444444444,
              "#bd3786"
             ],
             [
              0.5555555555555556,
              "#d8576b"
             ],
             [
              0.6666666666666666,
              "#ed7953"
             ],
             [
              0.7777777777777778,
              "#fb9f3a"
             ],
             [
              0.8888888888888888,
              "#fdca26"
             ],
             [
              1,
              "#f0f921"
             ]
            ],
            "type": "histogram2dcontour"
           }
          ],
          "mesh3d": [
           {
            "colorbar": {
             "outlinewidth": 0,
             "ticks": ""
            },
            "type": "mesh3d"
           }
          ],
          "parcoords": [
           {
            "line": {
             "colorbar": {
              "outlinewidth": 0,
              "ticks": ""
             }
            },
            "type": "parcoords"
           }
          ],
          "pie": [
           {
            "automargin": true,
            "type": "pie"
           }
          ],
          "scatter": [
           {
            "marker": {
             "line": {
              "color": "#283442"
             }
            },
            "type": "scatter"
           }
          ],
          "scatter3d": [
           {
            "line": {
             "colorbar": {
              "outlinewidth": 0,
              "ticks": ""
             }
            },
            "marker": {
             "colorbar": {
              "outlinewidth": 0,
              "ticks": ""
             }
            },
            "type": "scatter3d"
           }
          ],
          "scattercarpet": [
           {
            "marker": {
             "colorbar": {
              "outlinewidth": 0,
              "ticks": ""
             }
            },
            "type": "scattercarpet"
           }
          ],
          "scattergeo": [
           {
            "marker": {
             "colorbar": {
              "outlinewidth": 0,
              "ticks": ""
             }
            },
            "type": "scattergeo"
           }
          ],
          "scattergl": [
           {
            "marker": {
             "line": {
              "color": "#283442"
             }
            },
            "type": "scattergl"
           }
          ],
          "scattermap": [
           {
            "marker": {
             "colorbar": {
              "outlinewidth": 0,
              "ticks": ""
             }
            },
            "type": "scattermap"
           }
          ],
          "scattermapbox": [
           {
            "marker": {
             "colorbar": {
              "outlinewidth": 0,
              "ticks": ""
             }
            },
            "type": "scattermapbox"
           }
          ],
          "scatterpolar": [
           {
            "marker": {
             "colorbar": {
              "outlinewidth": 0,
              "ticks": ""
             }
            },
            "type": "scatterpolar"
           }
          ],
          "scatterpolargl": [
           {
            "marker": {
             "colorbar": {
              "outlinewidth": 0,
              "ticks": ""
             }
            },
            "type": "scatterpolargl"
           }
          ],
          "scatterternary": [
           {
            "marker": {
             "colorbar": {
              "outlinewidth": 0,
              "ticks": ""
             }
            },
            "type": "scatterternary"
           }
          ],
          "surface": [
           {
            "colorbar": {
             "outlinewidth": 0,
             "ticks": ""
            },
            "colorscale": [
             [
              0,
              "#0d0887"
             ],
             [
              0.1111111111111111,
              "#46039f"
             ],
             [
              0.2222222222222222,
              "#7201a8"
             ],
             [
              0.3333333333333333,
              "#9c179e"
             ],
             [
              0.4444444444444444,
              "#bd3786"
             ],
             [
              0.5555555555555556,
              "#d8576b"
             ],
             [
              0.6666666666666666,
              "#ed7953"
             ],
             [
              0.7777777777777778,
              "#fb9f3a"
             ],
             [
              0.8888888888888888,
              "#fdca26"
             ],
             [
              1,
              "#f0f921"
             ]
            ],
            "type": "surface"
           }
          ],
          "table": [
           {
            "cells": {
             "fill": {
              "color": "#506784"
             },
             "line": {
              "color": "rgb(17,17,17)"
             }
            },
            "header": {
             "fill": {
              "color": "#2a3f5f"
             },
             "line": {
              "color": "rgb(17,17,17)"
             }
            },
            "type": "table"
           }
          ]
         },
         "layout": {
          "annotationdefaults": {
           "arrowcolor": "#f2f5fa",
           "arrowhead": 0,
           "arrowwidth": 1
          },
          "autotypenumbers": "strict",
          "coloraxis": {
           "colorbar": {
            "outlinewidth": 0,
            "ticks": ""
           }
          },
          "colorscale": {
           "diverging": [
            [
             0,
             "#8e0152"
            ],
            [
             0.1,
             "#c51b7d"
            ],
            [
             0.2,
             "#de77ae"
            ],
            [
             0.3,
             "#f1b6da"
            ],
            [
             0.4,
             "#fde0ef"
            ],
            [
             0.5,
             "#f7f7f7"
            ],
            [
             0.6,
             "#e6f5d0"
            ],
            [
             0.7,
             "#b8e186"
            ],
            [
             0.8,
             "#7fbc41"
            ],
            [
             0.9,
             "#4d9221"
            ],
            [
             1,
             "#276419"
            ]
           ],
           "sequential": [
            [
             0,
             "#0d0887"
            ],
            [
             0.1111111111111111,
             "#46039f"
            ],
            [
             0.2222222222222222,
             "#7201a8"
            ],
            [
             0.3333333333333333,
             "#9c179e"
            ],
            [
             0.4444444444444444,
             "#bd3786"
            ],
            [
             0.5555555555555556,
             "#d8576b"
            ],
            [
             0.6666666666666666,
             "#ed7953"
            ],
            [
             0.7777777777777778,
             "#fb9f3a"
            ],
            [
             0.8888888888888888,
             "#fdca26"
            ],
            [
             1,
             "#f0f921"
            ]
           ],
           "sequentialminus": [
            [
             0,
             "#0d0887"
            ],
            [
             0.1111111111111111,
             "#46039f"
            ],
            [
             0.2222222222222222,
             "#7201a8"
            ],
            [
             0.3333333333333333,
             "#9c179e"
            ],
            [
             0.4444444444444444,
             "#bd3786"
            ],
            [
             0.5555555555555556,
             "#d8576b"
            ],
            [
             0.6666666666666666,
             "#ed7953"
            ],
            [
             0.7777777777777778,
             "#fb9f3a"
            ],
            [
             0.8888888888888888,
             "#fdca26"
            ],
            [
             1,
             "#f0f921"
            ]
           ]
          },
          "colorway": [
           "#636efa",
           "#EF553B",
           "#00cc96",
           "#ab63fa",
           "#FFA15A",
           "#19d3f3",
           "#FF6692",
           "#B6E880",
           "#FF97FF",
           "#FECB52"
          ],
          "font": {
           "color": "#f2f5fa"
          },
          "geo": {
           "bgcolor": "rgb(17,17,17)",
           "lakecolor": "rgb(17,17,17)",
           "landcolor": "rgb(17,17,17)",
           "showlakes": true,
           "showland": true,
           "subunitcolor": "#506784"
          },
          "hoverlabel": {
           "align": "left"
          },
          "hovermode": "closest",
          "mapbox": {
           "style": "dark"
          },
          "paper_bgcolor": "rgb(17,17,17)",
          "plot_bgcolor": "rgb(17,17,17)",
          "polar": {
           "angularaxis": {
            "gridcolor": "#506784",
            "linecolor": "#506784",
            "ticks": ""
           },
           "bgcolor": "rgb(17,17,17)",
           "radialaxis": {
            "gridcolor": "#506784",
            "linecolor": "#506784",
            "ticks": ""
           }
          },
          "scene": {
           "xaxis": {
            "backgroundcolor": "rgb(17,17,17)",
            "gridcolor": "#506784",
            "gridwidth": 2,
            "linecolor": "#506784",
            "showbackground": true,
            "ticks": "",
            "zerolinecolor": "#C8D4E3"
           },
           "yaxis": {
            "backgroundcolor": "rgb(17,17,17)",
            "gridcolor": "#506784",
            "gridwidth": 2,
            "linecolor": "#506784",
            "showbackground": true,
            "ticks": "",
            "zerolinecolor": "#C8D4E3"
           },
           "zaxis": {
            "backgroundcolor": "rgb(17,17,17)",
            "gridcolor": "#506784",
            "gridwidth": 2,
            "linecolor": "#506784",
            "showbackground": true,
            "ticks": "",
            "zerolinecolor": "#C8D4E3"
           }
          },
          "shapedefaults": {
           "line": {
            "color": "#f2f5fa"
           }
          },
          "sliderdefaults": {
           "bgcolor": "#C8D4E3",
           "bordercolor": "rgb(17,17,17)",
           "borderwidth": 1,
           "tickwidth": 0
          },
          "ternary": {
           "aaxis": {
            "gridcolor": "#506784",
            "linecolor": "#506784",
            "ticks": ""
           },
           "baxis": {
            "gridcolor": "#506784",
            "linecolor": "#506784",
            "ticks": ""
           },
           "bgcolor": "rgb(17,17,17)",
           "caxis": {
            "gridcolor": "#506784",
            "linecolor": "#506784",
            "ticks": ""
           }
          },
          "title": {
           "x": 0.05
          },
          "updatemenudefaults": {
           "bgcolor": "#506784",
           "borderwidth": 0
          },
          "xaxis": {
           "automargin": true,
           "gridcolor": "#283442",
           "linecolor": "#506784",
           "ticks": "",
           "title": {
            "standoff": 15
           },
           "zerolinecolor": "#283442",
           "zerolinewidth": 2
          },
          "yaxis": {
           "automargin": true,
           "gridcolor": "#283442",
           "linecolor": "#506784",
           "ticks": "",
           "title": {
            "standoff": 15
           },
           "zerolinecolor": "#283442",
           "zerolinewidth": 2
          }
         }
        },
        "title": {
         "text": "Number of Job Posting by location and industry",
         "x": 0.5
        },
        "xaxis": {
         "anchor": "y",
         "domain": [
          0,
          1
         ],
         "title": {
          "text": "industry"
         }
        },
        "yaxis": {
         "anchor": "x",
         "domain": [
          0,
          1
         ],
         "title": {
          "text": "job_title"
         }
        }
       }
      }
     },
     "metadata": {},
     "output_type": "display_data"
    }
   ],
   "source": [
    "fig = px.bar(data_frame=roles_by_industry.head(10), x = \"industry\",\n",
    "                                                    y = \"job_title\",\n",
    "                                                    color = \"company_size_category\",\n",
    "                                                    title=\"Number of Job Posting by location and industry\", \n",
    "                                                    template=PLOTLY_THEME)\n",
    "fig.update_layout(title_x=0.5)\n",
    "fig.show()"
   ]
  }
 ],
 "metadata": {
  "kernelspec": {
   "display_name": "Python 3",
   "language": "python",
   "name": "python3"
  },
  "language_info": {
   "codemirror_mode": {
    "name": "ipython",
    "version": 3
   },
   "file_extension": ".py",
   "mimetype": "text/x-python",
   "name": "python",
   "nbconvert_exporter": "python",
   "pygments_lexer": "ipython3",
   "version": "3.10.12"
  }
 },
 "nbformat": 4,
 "nbformat_minor": 2
}
